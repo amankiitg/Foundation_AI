{
  "cells": [
    {
      "cell_type": "markdown",
      "metadata": {
        "id": "view-in-github",
        "colab_type": "text"
      },
      "source": [
        "<a href=\"https://colab.research.google.com/github/amankiitg/Foundation_AI/blob/main/Diffusion_Project_Generate_Egyptian_Characters.ipynb\" target=\"_parent\"><img src=\"https://colab.research.google.com/assets/colab-badge.svg\" alt=\"Open In Colab\"/></a>"
      ]
    },
    {
      "cell_type": "markdown",
      "metadata": {
        "id": "oXjCGObZx5h4"
      },
      "source": [
        "#### Links to Download\n",
        "\n",
        "Egyptian Extended PDF: https://www.unicode.org/charts/PDF/U13460.pdf\n",
        "\n",
        "NotoSansEgyptianHieroglyphs-Regular Font: https://fonts.google.com/noto/specimen/Noto+Sans+Egyptian+Hieroglyphs"
      ]
    },
    {
      "cell_type": "markdown",
      "metadata": {
        "id": "ivCQyc3a9Hjc"
      },
      "source": [
        "### Step 1: Generate a Egyptian glyph and definition dataset\n",
        "We can take the kDefinition text file to extract both characters and labels in the form of definitions.\n",
        "\n",
        "https://github.com/amankiitg/Foundation_AI/blob/de84eb29f8e19b7a66ca8428f38fb818490cfad9/egypt.txt"
      ]
    },
    {
      "cell_type": "code",
      "execution_count": null,
      "metadata": {
        "colab": {
          "base_uri": "https://localhost:8080/",
          "height": 206
        },
        "id": "-Lz96PQ5Xjhn",
        "outputId": "70b667a9-b590-4f7a-841e-9cd103ad72de"
      },
      "outputs": [
        {
          "output_type": "execute_result",
          "data": {
            "text/plain": [
              "  Unicode Character               Description  \\\n",
              "0   13000         𓀀  Egyptian Hieroglyph A001   \n",
              "1   13001         𓀁  Egyptian Hieroglyph A002   \n",
              "2   13002         𓀂  Egyptian Hieroglyph A003   \n",
              "3   13003         𓀃  Egyptian Hieroglyph A004   \n",
              "4   13004         𓀄  Egyptian Hieroglyph A005   \n",
              "\n",
              "                                               Extra  \n",
              "0                             classifier human being  \n",
              "1  classifier eating/drinking/speech/ silence/tho...  \n",
              "2                          classifier sitting : ḥmsꞽ  \n",
              "3           classifier supplication/hiding/rejection  \n",
              "4                                                     "
            ],
            "text/html": [
              "\n",
              "  <div id=\"df-6447e7d8-2e99-416c-a179-70d693802929\" class=\"colab-df-container\">\n",
              "    <div>\n",
              "<style scoped>\n",
              "    .dataframe tbody tr th:only-of-type {\n",
              "        vertical-align: middle;\n",
              "    }\n",
              "\n",
              "    .dataframe tbody tr th {\n",
              "        vertical-align: top;\n",
              "    }\n",
              "\n",
              "    .dataframe thead th {\n",
              "        text-align: right;\n",
              "    }\n",
              "</style>\n",
              "<table border=\"1\" class=\"dataframe\">\n",
              "  <thead>\n",
              "    <tr style=\"text-align: right;\">\n",
              "      <th></th>\n",
              "      <th>Unicode</th>\n",
              "      <th>Character</th>\n",
              "      <th>Description</th>\n",
              "      <th>Extra</th>\n",
              "    </tr>\n",
              "  </thead>\n",
              "  <tbody>\n",
              "    <tr>\n",
              "      <th>0</th>\n",
              "      <td>13000</td>\n",
              "      <td>𓀀</td>\n",
              "      <td>Egyptian Hieroglyph A001</td>\n",
              "      <td>classifier human being</td>\n",
              "    </tr>\n",
              "    <tr>\n",
              "      <th>1</th>\n",
              "      <td>13001</td>\n",
              "      <td>𓀁</td>\n",
              "      <td>Egyptian Hieroglyph A002</td>\n",
              "      <td>classifier eating/drinking/speech/ silence/tho...</td>\n",
              "    </tr>\n",
              "    <tr>\n",
              "      <th>2</th>\n",
              "      <td>13002</td>\n",
              "      <td>𓀂</td>\n",
              "      <td>Egyptian Hieroglyph A003</td>\n",
              "      <td>classifier sitting : ḥmsꞽ</td>\n",
              "    </tr>\n",
              "    <tr>\n",
              "      <th>3</th>\n",
              "      <td>13003</td>\n",
              "      <td>𓀃</td>\n",
              "      <td>Egyptian Hieroglyph A004</td>\n",
              "      <td>classifier supplication/hiding/rejection</td>\n",
              "    </tr>\n",
              "    <tr>\n",
              "      <th>4</th>\n",
              "      <td>13004</td>\n",
              "      <td>𓀄</td>\n",
              "      <td>Egyptian Hieroglyph A005</td>\n",
              "      <td></td>\n",
              "    </tr>\n",
              "  </tbody>\n",
              "</table>\n",
              "</div>\n",
              "    <div class=\"colab-df-buttons\">\n",
              "\n",
              "  <div class=\"colab-df-container\">\n",
              "    <button class=\"colab-df-convert\" onclick=\"convertToInteractive('df-6447e7d8-2e99-416c-a179-70d693802929')\"\n",
              "            title=\"Convert this dataframe to an interactive table.\"\n",
              "            style=\"display:none;\">\n",
              "\n",
              "  <svg xmlns=\"http://www.w3.org/2000/svg\" height=\"24px\" viewBox=\"0 -960 960 960\">\n",
              "    <path d=\"M120-120v-720h720v720H120Zm60-500h600v-160H180v160Zm220 220h160v-160H400v160Zm0 220h160v-160H400v160ZM180-400h160v-160H180v160Zm440 0h160v-160H620v160ZM180-180h160v-160H180v160Zm440 0h160v-160H620v160Z\"/>\n",
              "  </svg>\n",
              "    </button>\n",
              "\n",
              "  <style>\n",
              "    .colab-df-container {\n",
              "      display:flex;\n",
              "      gap: 12px;\n",
              "    }\n",
              "\n",
              "    .colab-df-convert {\n",
              "      background-color: #E8F0FE;\n",
              "      border: none;\n",
              "      border-radius: 50%;\n",
              "      cursor: pointer;\n",
              "      display: none;\n",
              "      fill: #1967D2;\n",
              "      height: 32px;\n",
              "      padding: 0 0 0 0;\n",
              "      width: 32px;\n",
              "    }\n",
              "\n",
              "    .colab-df-convert:hover {\n",
              "      background-color: #E2EBFA;\n",
              "      box-shadow: 0px 1px 2px rgba(60, 64, 67, 0.3), 0px 1px 3px 1px rgba(60, 64, 67, 0.15);\n",
              "      fill: #174EA6;\n",
              "    }\n",
              "\n",
              "    .colab-df-buttons div {\n",
              "      margin-bottom: 4px;\n",
              "    }\n",
              "\n",
              "    [theme=dark] .colab-df-convert {\n",
              "      background-color: #3B4455;\n",
              "      fill: #D2E3FC;\n",
              "    }\n",
              "\n",
              "    [theme=dark] .colab-df-convert:hover {\n",
              "      background-color: #434B5C;\n",
              "      box-shadow: 0px 1px 3px 1px rgba(0, 0, 0, 0.15);\n",
              "      filter: drop-shadow(0px 1px 2px rgba(0, 0, 0, 0.3));\n",
              "      fill: #FFFFFF;\n",
              "    }\n",
              "  </style>\n",
              "\n",
              "    <script>\n",
              "      const buttonEl =\n",
              "        document.querySelector('#df-6447e7d8-2e99-416c-a179-70d693802929 button.colab-df-convert');\n",
              "      buttonEl.style.display =\n",
              "        google.colab.kernel.accessAllowed ? 'block' : 'none';\n",
              "\n",
              "      async function convertToInteractive(key) {\n",
              "        const element = document.querySelector('#df-6447e7d8-2e99-416c-a179-70d693802929');\n",
              "        const dataTable =\n",
              "          await google.colab.kernel.invokeFunction('convertToInteractive',\n",
              "                                                    [key], {});\n",
              "        if (!dataTable) return;\n",
              "\n",
              "        const docLinkHtml = 'Like what you see? Visit the ' +\n",
              "          '<a target=\"_blank\" href=https://colab.research.google.com/notebooks/data_table.ipynb>data table notebook</a>'\n",
              "          + ' to learn more about interactive tables.';\n",
              "        element.innerHTML = '';\n",
              "        dataTable['output_type'] = 'display_data';\n",
              "        await google.colab.output.renderOutput(dataTable, element);\n",
              "        const docLink = document.createElement('div');\n",
              "        docLink.innerHTML = docLinkHtml;\n",
              "        element.appendChild(docLink);\n",
              "      }\n",
              "    </script>\n",
              "  </div>\n",
              "\n",
              "\n",
              "<div id=\"df-038d7aaa-4c77-477b-a80d-55478b0198c1\">\n",
              "  <button class=\"colab-df-quickchart\" onclick=\"quickchart('df-038d7aaa-4c77-477b-a80d-55478b0198c1')\"\n",
              "            title=\"Suggest charts\"\n",
              "            style=\"display:none;\">\n",
              "\n",
              "<svg xmlns=\"http://www.w3.org/2000/svg\" height=\"24px\"viewBox=\"0 0 24 24\"\n",
              "     width=\"24px\">\n",
              "    <g>\n",
              "        <path d=\"M19 3H5c-1.1 0-2 .9-2 2v14c0 1.1.9 2 2 2h14c1.1 0 2-.9 2-2V5c0-1.1-.9-2-2-2zM9 17H7v-7h2v7zm4 0h-2V7h2v10zm4 0h-2v-4h2v4z\"/>\n",
              "    </g>\n",
              "</svg>\n",
              "  </button>\n",
              "\n",
              "<style>\n",
              "  .colab-df-quickchart {\n",
              "      --bg-color: #E8F0FE;\n",
              "      --fill-color: #1967D2;\n",
              "      --hover-bg-color: #E2EBFA;\n",
              "      --hover-fill-color: #174EA6;\n",
              "      --disabled-fill-color: #AAA;\n",
              "      --disabled-bg-color: #DDD;\n",
              "  }\n",
              "\n",
              "  [theme=dark] .colab-df-quickchart {\n",
              "      --bg-color: #3B4455;\n",
              "      --fill-color: #D2E3FC;\n",
              "      --hover-bg-color: #434B5C;\n",
              "      --hover-fill-color: #FFFFFF;\n",
              "      --disabled-bg-color: #3B4455;\n",
              "      --disabled-fill-color: #666;\n",
              "  }\n",
              "\n",
              "  .colab-df-quickchart {\n",
              "    background-color: var(--bg-color);\n",
              "    border: none;\n",
              "    border-radius: 50%;\n",
              "    cursor: pointer;\n",
              "    display: none;\n",
              "    fill: var(--fill-color);\n",
              "    height: 32px;\n",
              "    padding: 0;\n",
              "    width: 32px;\n",
              "  }\n",
              "\n",
              "  .colab-df-quickchart:hover {\n",
              "    background-color: var(--hover-bg-color);\n",
              "    box-shadow: 0 1px 2px rgba(60, 64, 67, 0.3), 0 1px 3px 1px rgba(60, 64, 67, 0.15);\n",
              "    fill: var(--button-hover-fill-color);\n",
              "  }\n",
              "\n",
              "  .colab-df-quickchart-complete:disabled,\n",
              "  .colab-df-quickchart-complete:disabled:hover {\n",
              "    background-color: var(--disabled-bg-color);\n",
              "    fill: var(--disabled-fill-color);\n",
              "    box-shadow: none;\n",
              "  }\n",
              "\n",
              "  .colab-df-spinner {\n",
              "    border: 2px solid var(--fill-color);\n",
              "    border-color: transparent;\n",
              "    border-bottom-color: var(--fill-color);\n",
              "    animation:\n",
              "      spin 1s steps(1) infinite;\n",
              "  }\n",
              "\n",
              "  @keyframes spin {\n",
              "    0% {\n",
              "      border-color: transparent;\n",
              "      border-bottom-color: var(--fill-color);\n",
              "      border-left-color: var(--fill-color);\n",
              "    }\n",
              "    20% {\n",
              "      border-color: transparent;\n",
              "      border-left-color: var(--fill-color);\n",
              "      border-top-color: var(--fill-color);\n",
              "    }\n",
              "    30% {\n",
              "      border-color: transparent;\n",
              "      border-left-color: var(--fill-color);\n",
              "      border-top-color: var(--fill-color);\n",
              "      border-right-color: var(--fill-color);\n",
              "    }\n",
              "    40% {\n",
              "      border-color: transparent;\n",
              "      border-right-color: var(--fill-color);\n",
              "      border-top-color: var(--fill-color);\n",
              "    }\n",
              "    60% {\n",
              "      border-color: transparent;\n",
              "      border-right-color: var(--fill-color);\n",
              "    }\n",
              "    80% {\n",
              "      border-color: transparent;\n",
              "      border-right-color: var(--fill-color);\n",
              "      border-bottom-color: var(--fill-color);\n",
              "    }\n",
              "    90% {\n",
              "      border-color: transparent;\n",
              "      border-bottom-color: var(--fill-color);\n",
              "    }\n",
              "  }\n",
              "</style>\n",
              "\n",
              "  <script>\n",
              "    async function quickchart(key) {\n",
              "      const quickchartButtonEl =\n",
              "        document.querySelector('#' + key + ' button');\n",
              "      quickchartButtonEl.disabled = true;  // To prevent multiple clicks.\n",
              "      quickchartButtonEl.classList.add('colab-df-spinner');\n",
              "      try {\n",
              "        const charts = await google.colab.kernel.invokeFunction(\n",
              "            'suggestCharts', [key], {});\n",
              "      } catch (error) {\n",
              "        console.error('Error during call to suggestCharts:', error);\n",
              "      }\n",
              "      quickchartButtonEl.classList.remove('colab-df-spinner');\n",
              "      quickchartButtonEl.classList.add('colab-df-quickchart-complete');\n",
              "    }\n",
              "    (() => {\n",
              "      let quickchartButtonEl =\n",
              "        document.querySelector('#df-038d7aaa-4c77-477b-a80d-55478b0198c1 button');\n",
              "      quickchartButtonEl.style.display =\n",
              "        google.colab.kernel.accessAllowed ? 'block' : 'none';\n",
              "    })();\n",
              "  </script>\n",
              "</div>\n",
              "\n",
              "    </div>\n",
              "  </div>\n"
            ],
            "application/vnd.google.colaboratory.intrinsic+json": {
              "type": "dataframe",
              "variable_name": "df"
            }
          },
          "metadata": {},
          "execution_count": 1
        }
      ],
      "source": [
        "import pandas as pd\n",
        "import re\n",
        "\n",
        "#Initialize lists\n",
        "unicodes = []\n",
        "characters = []\n",
        "descriptions = []\n",
        "extras = []\n",
        "\n",
        "file_path = \"egypt.txt\"\n",
        "with open(file_path, 'r', encoding='utf-8') as file:\n",
        "    lines = file.readlines()\n",
        "\n",
        "i = 0\n",
        "while i < len(lines):\n",
        "    line = lines[i].strip()\n",
        "    if re.match(r'^[0-9A-F]+\\s+\\S+\\s+Egyptian Hieroglyph', line):\n",
        "        # Main line with code, character, and description\n",
        "        match = re.match(r'^([0-9A-F]+)\\s+(\\S+)\\s+(Egyptian Hieroglyph .+)', line)\n",
        "        if match:\n",
        "            unicode_val = match.group(1)\n",
        "            char = match.group(2)\n",
        "            description = match.group(3)\n",
        "\n",
        "            # Check next line for \"•\" comment\n",
        "            extra = \"\"\n",
        "            if i + 1 < len(lines) and '•' in lines[i + 1]:\n",
        "                extra_line = lines[i + 1].strip()\n",
        "                extra = re.sub(r'^•\\s*', '', extra_line)\n",
        "                i += 1  # Skip extra line\n",
        "\n",
        "            unicodes.append(unicode_val)\n",
        "            characters.append(char)\n",
        "            descriptions.append(description)\n",
        "            extras.append(extra)\n",
        "    i += 1\n",
        "\n",
        "#Create DataFrame\n",
        "df = pd.DataFrame({\n",
        "    'Unicode': unicodes,\n",
        "    'Character': characters,\n",
        "    'Description': descriptions,\n",
        "    'Extra': extras\n",
        "})\n",
        "\n",
        "df.head()"
      ]
    },
    {
      "cell_type": "markdown",
      "metadata": {
        "id": "_h_3r5WI9Hjh"
      },
      "source": [
        "### Step 2: Create the dataset of images\n",
        "\n",
        "(1) Take a DataFrame df (like the one you previously created from Unihan-kDefinition.txt)\n",
        "\n",
        "(2) Extract Unicode characters and render them as images using the specified font style (e.g., 128x128 PNGs).\n",
        "\n",
        "(3) Save them into a directory using their Unicode code points as filenames."
      ]
    },
    {
      "cell_type": "code",
      "execution_count": null,
      "metadata": {
        "id": "B6HDuH4QZyHm"
      },
      "outputs": [],
      "source": [
        "import pandas as pd\n",
        "import os\n",
        "from PIL import Image, ImageDraw, ImageFont\n",
        "\n",
        "def create_image(character, font, image_size=(128, 128)):\n",
        "    \"\"\"\n",
        "    Create an image of a single Unicode character.\n",
        "    \"\"\"\n",
        "    image = Image.new('RGB', image_size, 'white')\n",
        "    draw = ImageDraw.Draw(image)\n",
        "    text_width, text_height = draw.textbbox((0, 0), character, font=font)[2:]\n",
        "    x = (image_size[0] - text_width) / 2\n",
        "    y = (image_size[1] - text_height) / 2 - 16\n",
        "    draw.text((x, y), character, fill='black', font=font)\n",
        "    return image\n",
        "\n",
        "def is_character_supported(character, font, image_size=(128, 128)):\n",
        "    \"\"\"\n",
        "    Check if the character is supported by the font.\n",
        "    \"\"\"\n",
        "    image_char = create_image(character, font, image_size)\n",
        "    image_unknown = create_image(\"�\", font, image_size)  # U+FFFD is the replacement character\n",
        "\n",
        "    return not image_char.tobytes() == image_unknown.tobytes()\n",
        "\n",
        "def generate_and_save_images_from_df(df, font_path, column_name=\"Unicode\", directory=\"data\"):\n",
        "    \"\"\"\n",
        "    Generate and save images for each character specified in the DataFrame's column.\n",
        "    \"\"\"\n",
        "    if not os.path.exists(directory):\n",
        "        os.makedirs(directory)\n",
        "\n",
        "    font_size = 100\n",
        "    font = ImageFont.truetype(font_path, font_size)\n",
        "\n",
        "    for unicode_str in df[column_name]:\n",
        "        code_point = int(unicode_str, 16)  # Convert hex string to integer\n",
        "        character = chr(code_point)\n",
        "        if is_character_supported(character, font):\n",
        "            img = create_image(character, font)\n",
        "            filename = os.path.join(directory, f\"{code_point:04X}.png\")\n",
        "            img.save(filename)\n",
        "\n",
        "# Assuming 'df' is your DataFrame and it is already defined and loaded\n",
        "font_path = 'NotoSansEgyptianHieroglyphs-Regular.ttf'\n",
        "# Update the function call accordingly\n",
        "generate_and_save_images_from_df(df, font_path, column_name=\"Unicode\", directory=\"data\")\n"
      ]
    },
    {
      "cell_type": "code",
      "execution_count": null,
      "metadata": {
        "colab": {
          "base_uri": "https://localhost:8080/"
        },
        "id": "vjOXgPbZahpS",
        "outputId": "75beb0b7-9e0e-4815-b747-eb52d353c59e"
      },
      "outputs": [
        {
          "output_type": "stream",
          "name": "stdout",
          "text": [
            "The number of files in 'data/' is: 1071\n"
          ]
        }
      ],
      "source": [
        "import os\n",
        "\n",
        "def count_files(directory_path):\n",
        "  \"\"\"Counts the number of files in a given directory.\n",
        "\n",
        "  Args:\n",
        "    directory_path: The path to the directory.\n",
        "\n",
        "  Returns:\n",
        "    The number of files in the directory.\n",
        "  \"\"\"\n",
        "  if not os.path.isdir(directory_path):\n",
        "    raise ValueError(f\"'{directory_path}' is not a valid directory.\")\n",
        "\n",
        "  file_count = 0\n",
        "  for item in os.listdir(directory_path):\n",
        "    item_path = os.path.join(directory_path, item)\n",
        "    if os.path.isfile(item_path):\n",
        "      file_count += 1\n",
        "  return file_count\n",
        "\n",
        "# Example usage:\n",
        "directory_path = \"data/\" # Replace with your directory path\n",
        "\n",
        "num_files = count_files(directory_path)\n",
        "print(f\"The number of files in '{directory_path}' is: {num_files}\")"
      ]
    },
    {
      "cell_type": "markdown",
      "source": [
        "### Step 2b Extract more images from Unicode PDF"
      ],
      "metadata": {
        "id": "NHI8xHBBykGC"
      }
    },
    {
      "cell_type": "code",
      "execution_count": null,
      "metadata": {
        "colab": {
          "base_uri": "https://localhost:8080/"
        },
        "id": "BKcaGGjKjyrx",
        "outputId": "a52b4f9b-ac17-428c-f8ea-963c6cd306f8"
      },
      "outputs": [
        {
          "output_type": "stream",
          "name": "stdout",
          "text": [
            "Collecting pymupdf\n",
            "  Downloading pymupdf-1.25.5-cp39-abi3-manylinux2014_x86_64.manylinux_2_17_x86_64.whl.metadata (3.4 kB)\n",
            "Downloading pymupdf-1.25.5-cp39-abi3-manylinux2014_x86_64.manylinux_2_17_x86_64.whl (20.0 MB)\n",
            "\u001b[2K   \u001b[90m━━━━━━━━━━━━━━━━━━━━━━━━━━━━━━━━━━━━━━━━\u001b[0m \u001b[32m20.0/20.0 MB\u001b[0m \u001b[31m103.5 MB/s\u001b[0m eta \u001b[36m0:00:00\u001b[0m\n",
            "\u001b[?25hInstalling collected packages: pymupdf\n",
            "Successfully installed pymupdf-1.25.5\n"
          ]
        }
      ],
      "source": [
        "!pip install pymupdf"
      ]
    },
    {
      "cell_type": "code",
      "execution_count": null,
      "metadata": {
        "colab": {
          "base_uri": "https://localhost:8080/"
        },
        "id": "tYfQKIH5jo9z",
        "outputId": "9bef7101-f847-4b8f-f203-dc90301618a5"
      },
      "outputs": [
        {
          "output_type": "stream",
          "name": "stdout",
          "text": [
            "Created output directory: png_matrix\n"
          ]
        }
      ],
      "source": [
        "import fitz  # PyMuPDF\n",
        "from PIL import Image\n",
        "import os\n",
        "import numpy as np\n",
        "import cv2\n",
        "\n",
        "def extract_region_from_pdf(pdf_path, page_number, coords, dpi=300, save_path='output.png'):\n",
        "    \"\"\"\n",
        "    Extract a region from a PDF page as a high-quality image.\n",
        "\n",
        "    Args:\n",
        "        pdf_path (str): Path to the PDF file.\n",
        "        page_number (int): Page number (0-indexed).\n",
        "        coords (tuple): (x0, y0, x1, y1) in points (1/72 inch).\n",
        "        dpi (int): Resolution for rendering the PDF.\n",
        "        save_path (str): Where to save the extracted image.\n",
        "\n",
        "    Returns:\n",
        "        PIL.Image.Image: Extracted image region.\n",
        "    \"\"\"\n",
        "    output_dir = 'png_matrix'\n",
        "    if not os.path.exists(output_dir):\n",
        "        os.makedirs(output_dir)\n",
        "        print(f\"Created output directory: {output_dir}\")\n",
        "\n",
        "    # Open the PDF\n",
        "    doc = fitz.open(pdf_path)\n",
        "    page = doc.load_page(page_number)\n",
        "\n",
        "    # Calculate zoom factor from DPI\n",
        "    zoom = dpi / 72\n",
        "    mat = fitz.Matrix(zoom, zoom)\n",
        "\n",
        "    # Render the page to a high-res image\n",
        "    pix = page.get_pixmap(matrix=mat, alpha=False)\n",
        "\n",
        "    # Convert to PIL Image\n",
        "    image = Image.frombytes(\"RGB\", [pix.width, pix.height], pix.samples)\n",
        "\n",
        "    # Scale coordinates for high DPI\n",
        "    x0, y0, x1, y1 = [int(c * zoom) for c in coords]\n",
        "\n",
        "    # Crop and save\n",
        "    cropped = image.crop((x0, y0, x1, y1))\n",
        "    cropped.save(output_dir+'/'+str(page_number)+save_path)\n",
        "\n",
        "    return cropped\n",
        "\n",
        "region_coords = (68, 93, 512, 726)  # x0, y0, x1, y1 in PDF points (1/72\")\n",
        "for p in range(2,16,2):\n",
        "  extract_region_from_pdf('egyptian.pdf', p, region_coords, dpi=300, save_path='cropped_image.png')\n",
        "\n",
        "region_coords = (101, 93, 544, 726)  # x0, y0, x1, y1 in PDF points (1/72\")\n",
        "for p in [1]:\n",
        "  extract_region_from_pdf('egyptian.pdf', p, region_coords, dpi=300, save_path='cropped_image.png')\n",
        "\n",
        "region_coords = (100, 93, 544, 726)  # x0, y0, x1, y1 in PDF points (1/72\")\n",
        "for p in range(3,16,2):\n",
        "  extract_region_from_pdf('egyptian.pdf', p, region_coords, dpi=300, save_path='cropped_image.png')"
      ]
    },
    {
      "cell_type": "code",
      "execution_count": null,
      "metadata": {
        "colab": {
          "base_uri": "https://localhost:8080/"
        },
        "id": "MV9eLt_IZAI3",
        "outputId": "d4fc4caf-5c35-476d-b48c-6e0ac90b39b4"
      },
      "outputs": [
        {
          "output_type": "stream",
          "name": "stdout",
          "text": [
            "Loading image from: png_matrix/1cropped_image.png\n",
            "Extraction complete! 256 images saved to data\n",
            "Loading image from: png_matrix/2cropped_image.png\n",
            "Extraction complete! 256 images saved to data\n",
            "Loading image from: png_matrix/3cropped_image.png\n",
            "Extraction complete! 256 images saved to data\n",
            "Loading image from: png_matrix/4cropped_image.png\n",
            "Extraction complete! 256 images saved to data\n",
            "Loading image from: png_matrix/5cropped_image.png\n",
            "Extraction complete! 256 images saved to data\n",
            "Loading image from: png_matrix/6cropped_image.png\n",
            "Extraction complete! 256 images saved to data\n",
            "Loading image from: png_matrix/7cropped_image.png\n",
            "Extraction complete! 256 images saved to data\n",
            "Loading image from: png_matrix/8cropped_image.png\n",
            "Extraction complete! 256 images saved to data\n",
            "Loading image from: png_matrix/9cropped_image.png\n",
            "Extraction complete! 256 images saved to data\n",
            "Loading image from: png_matrix/10cropped_image.png\n",
            "Extraction complete! 256 images saved to data\n",
            "Loading image from: png_matrix/11cropped_image.png\n",
            "Extraction complete! 240 images saved to data\n",
            "Loading image from: png_matrix/12cropped_image.png\n",
            "Extraction complete! 240 images saved to data\n",
            "Loading image from: png_matrix/13cropped_image.png\n",
            "Extraction complete! 240 images saved to data\n",
            "Loading image from: png_matrix/14cropped_image.png\n",
            "Extraction complete! 240 images saved to data\n",
            "Loading image from: png_matrix/15cropped_image.png\n",
            "Extraction complete! 240 images saved to data\n"
          ]
        }
      ],
      "source": [
        "import os\n",
        "import pandas as pd\n",
        "import numpy as np\n",
        "from PIL import Image\n",
        "\n",
        "def extract_grid_images(df, i, input_image_path, output_folder, grid_size=(16, 16), trim_px=(1, 1, 1, 0)):\n",
        "    \"\"\"\n",
        "    Extract images from a grid and save them as separate files with boundary trimming.\n",
        "\n",
        "    Args:\n",
        "        input_image_path (str): Path to the input image containing the grid\n",
        "        output_folder (str): Folder where extracted images will be saved\n",
        "        grid_size (tuple): Number of rows and columns in the grid (rows, cols)\n",
        "        trim_px (tuple): Pixels to trim from each side (left, top, bottom, right)\n",
        "    \"\"\"\n",
        "    # Create output directory if it doesn't exist\n",
        "    if not os.path.exists(output_folder):\n",
        "        os.makedirs(output_folder)\n",
        "        print(f\"Created output directory: {output_folder}\")\n",
        "\n",
        "    # Load the image\n",
        "    print(f\"Loading image from: {input_image_path}\")\n",
        "    img = Image.open(input_image_path)\n",
        "\n",
        "    # Get image dimensions\n",
        "    img_width, img_height = img.size\n",
        "\n",
        "    # Calculate the size of each cell\n",
        "    cell_width = img_width / grid_size[1]\n",
        "    cell_height = img_height / grid_size[0]\n",
        "\n",
        "    # print(f\"Image dimensions: {img_width}x{img_height}\")\n",
        "    # print(f\"Cell dimensions: {cell_width}x{cell_height}\")\n",
        "\n",
        "    # Extract and save each cell\n",
        "    total_cells = grid_size[0] * grid_size[1]\n",
        "    saved_count = 0\n",
        "\n",
        "    for row in range(grid_size[0]):\n",
        "        for col in range(grid_size[1]):\n",
        "            # Calculate coordinates with boundary trimming\n",
        "            left = col * cell_width + trim_px[0]\n",
        "            upper = row * cell_height + trim_px[1]\n",
        "            right = (col + 1) * cell_width - trim_px[3]\n",
        "            lower = (row + 1) * cell_height - trim_px[2]\n",
        "\n",
        "            # print((left, upper, right, lower))\n",
        "            # Crop the cell\n",
        "            cell = img.crop((left, upper, right, lower))\n",
        "\n",
        "            # Generate filename with row and column info\n",
        "            # Using hex codes from the image (13D60 + row*16 + col)\n",
        "            hex_code = format(0x13D60 + row * 16 + col, 'X')\n",
        "            filename = str(i)+str(hex_code)+\".png\"\n",
        "            df.loc[len(df.index)] = [str(i)+str(hex_code), filename]\n",
        "            filepath = os.path.join(output_folder, filename)\n",
        "\n",
        "            # Save the cell\n",
        "            cell = cell.resize((128, 128), Image.Resampling.LANCZOS)\n",
        "            cell.save(filepath)\n",
        "            saved_count += 1\n",
        "\n",
        "            # Print progress\n",
        "            # if saved_count % 16 == 0:\n",
        "            #     print(f\"Progress: {saved_count}/{total_cells} images saved\")\n",
        "\n",
        "    print(f\"Extraction complete! {saved_count} images saved to {output_folder}\")\n",
        "\n",
        "df = pd.DataFrame(columns=['Unicode','filename'])\n",
        "# for i in range(1,2):\n",
        "#   input_image = \"png_matrix/\"+str(i)+\"cropped_image.png\"  # Path to your grid image\n",
        "#   output_folder = \"data\"#+str(i)  # Output folder name\n",
        "#   extract_grid_images(df, i, input_image, output_folder, trim_px=(3, 3, 30, 3))\n",
        "\n",
        "# Full usage\n",
        "for i in range(1,11):\n",
        "  input_image = \"png_matrix/\"+str(i)+\"cropped_image.png\"  # Path to your grid image\n",
        "  output_folder = \"data\"#+str(i)  # Output folder name\n",
        "  extract_grid_images(df, i, input_image, output_folder, trim_px=(3, 3, 30, 3))\n",
        "\n",
        "for i in range(11,16):\n",
        "  input_image = \"png_matrix/\"+str(i)+\"cropped_image.png\"  # Path to your grid image\n",
        "  output_folder = \"data\"#+str(i)  # Output folder name\n",
        "  extract_grid_images(df, i, input_image, output_folder, grid_size=(16, 15), trim_px=(3, 3, 30, 3))"
      ]
    },
    {
      "cell_type": "code",
      "source": [
        "num_files = count_files(directory_path)\n",
        "print(f\"The number of files in '{directory_path}' is: {num_files}\")"
      ],
      "metadata": {
        "colab": {
          "base_uri": "https://localhost:8080/"
        },
        "id": "uaGAW0hmirc-",
        "outputId": "6ea76302-88b2-432f-851e-9b118285fc03"
      },
      "execution_count": null,
      "outputs": [
        {
          "output_type": "stream",
          "name": "stdout",
          "text": [
            "The number of files in 'data/' is: 4831\n"
          ]
        }
      ]
    },
    {
      "cell_type": "code",
      "execution_count": null,
      "metadata": {
        "colab": {
          "base_uri": "https://localhost:8080/",
          "height": 206
        },
        "id": "ay0gPqPcZfZa",
        "outputId": "d40ddb4e-4799-4983-9c3c-97c3386de9a0"
      },
      "outputs": [
        {
          "output_type": "execute_result",
          "data": {
            "text/plain": [
              "  Unicode    filename\n",
              "0  113D60  113D60.png\n",
              "1  113D61  113D61.png\n",
              "2  113D62  113D62.png\n",
              "3  113D63  113D63.png\n",
              "4  113D64  113D64.png"
            ],
            "text/html": [
              "\n",
              "  <div id=\"df-e432cbd0-3687-4cc8-84ef-a6763c24737e\" class=\"colab-df-container\">\n",
              "    <div>\n",
              "<style scoped>\n",
              "    .dataframe tbody tr th:only-of-type {\n",
              "        vertical-align: middle;\n",
              "    }\n",
              "\n",
              "    .dataframe tbody tr th {\n",
              "        vertical-align: top;\n",
              "    }\n",
              "\n",
              "    .dataframe thead th {\n",
              "        text-align: right;\n",
              "    }\n",
              "</style>\n",
              "<table border=\"1\" class=\"dataframe\">\n",
              "  <thead>\n",
              "    <tr style=\"text-align: right;\">\n",
              "      <th></th>\n",
              "      <th>Unicode</th>\n",
              "      <th>filename</th>\n",
              "    </tr>\n",
              "  </thead>\n",
              "  <tbody>\n",
              "    <tr>\n",
              "      <th>0</th>\n",
              "      <td>113D60</td>\n",
              "      <td>113D60.png</td>\n",
              "    </tr>\n",
              "    <tr>\n",
              "      <th>1</th>\n",
              "      <td>113D61</td>\n",
              "      <td>113D61.png</td>\n",
              "    </tr>\n",
              "    <tr>\n",
              "      <th>2</th>\n",
              "      <td>113D62</td>\n",
              "      <td>113D62.png</td>\n",
              "    </tr>\n",
              "    <tr>\n",
              "      <th>3</th>\n",
              "      <td>113D63</td>\n",
              "      <td>113D63.png</td>\n",
              "    </tr>\n",
              "    <tr>\n",
              "      <th>4</th>\n",
              "      <td>113D64</td>\n",
              "      <td>113D64.png</td>\n",
              "    </tr>\n",
              "  </tbody>\n",
              "</table>\n",
              "</div>\n",
              "    <div class=\"colab-df-buttons\">\n",
              "\n",
              "  <div class=\"colab-df-container\">\n",
              "    <button class=\"colab-df-convert\" onclick=\"convertToInteractive('df-e432cbd0-3687-4cc8-84ef-a6763c24737e')\"\n",
              "            title=\"Convert this dataframe to an interactive table.\"\n",
              "            style=\"display:none;\">\n",
              "\n",
              "  <svg xmlns=\"http://www.w3.org/2000/svg\" height=\"24px\" viewBox=\"0 -960 960 960\">\n",
              "    <path d=\"M120-120v-720h720v720H120Zm60-500h600v-160H180v160Zm220 220h160v-160H400v160Zm0 220h160v-160H400v160ZM180-400h160v-160H180v160Zm440 0h160v-160H620v160ZM180-180h160v-160H180v160Zm440 0h160v-160H620v160Z\"/>\n",
              "  </svg>\n",
              "    </button>\n",
              "\n",
              "  <style>\n",
              "    .colab-df-container {\n",
              "      display:flex;\n",
              "      gap: 12px;\n",
              "    }\n",
              "\n",
              "    .colab-df-convert {\n",
              "      background-color: #E8F0FE;\n",
              "      border: none;\n",
              "      border-radius: 50%;\n",
              "      cursor: pointer;\n",
              "      display: none;\n",
              "      fill: #1967D2;\n",
              "      height: 32px;\n",
              "      padding: 0 0 0 0;\n",
              "      width: 32px;\n",
              "    }\n",
              "\n",
              "    .colab-df-convert:hover {\n",
              "      background-color: #E2EBFA;\n",
              "      box-shadow: 0px 1px 2px rgba(60, 64, 67, 0.3), 0px 1px 3px 1px rgba(60, 64, 67, 0.15);\n",
              "      fill: #174EA6;\n",
              "    }\n",
              "\n",
              "    .colab-df-buttons div {\n",
              "      margin-bottom: 4px;\n",
              "    }\n",
              "\n",
              "    [theme=dark] .colab-df-convert {\n",
              "      background-color: #3B4455;\n",
              "      fill: #D2E3FC;\n",
              "    }\n",
              "\n",
              "    [theme=dark] .colab-df-convert:hover {\n",
              "      background-color: #434B5C;\n",
              "      box-shadow: 0px 1px 3px 1px rgba(0, 0, 0, 0.15);\n",
              "      filter: drop-shadow(0px 1px 2px rgba(0, 0, 0, 0.3));\n",
              "      fill: #FFFFFF;\n",
              "    }\n",
              "  </style>\n",
              "\n",
              "    <script>\n",
              "      const buttonEl =\n",
              "        document.querySelector('#df-e432cbd0-3687-4cc8-84ef-a6763c24737e button.colab-df-convert');\n",
              "      buttonEl.style.display =\n",
              "        google.colab.kernel.accessAllowed ? 'block' : 'none';\n",
              "\n",
              "      async function convertToInteractive(key) {\n",
              "        const element = document.querySelector('#df-e432cbd0-3687-4cc8-84ef-a6763c24737e');\n",
              "        const dataTable =\n",
              "          await google.colab.kernel.invokeFunction('convertToInteractive',\n",
              "                                                    [key], {});\n",
              "        if (!dataTable) return;\n",
              "\n",
              "        const docLinkHtml = 'Like what you see? Visit the ' +\n",
              "          '<a target=\"_blank\" href=https://colab.research.google.com/notebooks/data_table.ipynb>data table notebook</a>'\n",
              "          + ' to learn more about interactive tables.';\n",
              "        element.innerHTML = '';\n",
              "        dataTable['output_type'] = 'display_data';\n",
              "        await google.colab.output.renderOutput(dataTable, element);\n",
              "        const docLink = document.createElement('div');\n",
              "        docLink.innerHTML = docLinkHtml;\n",
              "        element.appendChild(docLink);\n",
              "      }\n",
              "    </script>\n",
              "  </div>\n",
              "\n",
              "\n",
              "<div id=\"df-e0e18974-8ade-4706-b68b-b693d452b3ee\">\n",
              "  <button class=\"colab-df-quickchart\" onclick=\"quickchart('df-e0e18974-8ade-4706-b68b-b693d452b3ee')\"\n",
              "            title=\"Suggest charts\"\n",
              "            style=\"display:none;\">\n",
              "\n",
              "<svg xmlns=\"http://www.w3.org/2000/svg\" height=\"24px\"viewBox=\"0 0 24 24\"\n",
              "     width=\"24px\">\n",
              "    <g>\n",
              "        <path d=\"M19 3H5c-1.1 0-2 .9-2 2v14c0 1.1.9 2 2 2h14c1.1 0 2-.9 2-2V5c0-1.1-.9-2-2-2zM9 17H7v-7h2v7zm4 0h-2V7h2v10zm4 0h-2v-4h2v4z\"/>\n",
              "    </g>\n",
              "</svg>\n",
              "  </button>\n",
              "\n",
              "<style>\n",
              "  .colab-df-quickchart {\n",
              "      --bg-color: #E8F0FE;\n",
              "      --fill-color: #1967D2;\n",
              "      --hover-bg-color: #E2EBFA;\n",
              "      --hover-fill-color: #174EA6;\n",
              "      --disabled-fill-color: #AAA;\n",
              "      --disabled-bg-color: #DDD;\n",
              "  }\n",
              "\n",
              "  [theme=dark] .colab-df-quickchart {\n",
              "      --bg-color: #3B4455;\n",
              "      --fill-color: #D2E3FC;\n",
              "      --hover-bg-color: #434B5C;\n",
              "      --hover-fill-color: #FFFFFF;\n",
              "      --disabled-bg-color: #3B4455;\n",
              "      --disabled-fill-color: #666;\n",
              "  }\n",
              "\n",
              "  .colab-df-quickchart {\n",
              "    background-color: var(--bg-color);\n",
              "    border: none;\n",
              "    border-radius: 50%;\n",
              "    cursor: pointer;\n",
              "    display: none;\n",
              "    fill: var(--fill-color);\n",
              "    height: 32px;\n",
              "    padding: 0;\n",
              "    width: 32px;\n",
              "  }\n",
              "\n",
              "  .colab-df-quickchart:hover {\n",
              "    background-color: var(--hover-bg-color);\n",
              "    box-shadow: 0 1px 2px rgba(60, 64, 67, 0.3), 0 1px 3px 1px rgba(60, 64, 67, 0.15);\n",
              "    fill: var(--button-hover-fill-color);\n",
              "  }\n",
              "\n",
              "  .colab-df-quickchart-complete:disabled,\n",
              "  .colab-df-quickchart-complete:disabled:hover {\n",
              "    background-color: var(--disabled-bg-color);\n",
              "    fill: var(--disabled-fill-color);\n",
              "    box-shadow: none;\n",
              "  }\n",
              "\n",
              "  .colab-df-spinner {\n",
              "    border: 2px solid var(--fill-color);\n",
              "    border-color: transparent;\n",
              "    border-bottom-color: var(--fill-color);\n",
              "    animation:\n",
              "      spin 1s steps(1) infinite;\n",
              "  }\n",
              "\n",
              "  @keyframes spin {\n",
              "    0% {\n",
              "      border-color: transparent;\n",
              "      border-bottom-color: var(--fill-color);\n",
              "      border-left-color: var(--fill-color);\n",
              "    }\n",
              "    20% {\n",
              "      border-color: transparent;\n",
              "      border-left-color: var(--fill-color);\n",
              "      border-top-color: var(--fill-color);\n",
              "    }\n",
              "    30% {\n",
              "      border-color: transparent;\n",
              "      border-left-color: var(--fill-color);\n",
              "      border-top-color: var(--fill-color);\n",
              "      border-right-color: var(--fill-color);\n",
              "    }\n",
              "    40% {\n",
              "      border-color: transparent;\n",
              "      border-right-color: var(--fill-color);\n",
              "      border-top-color: var(--fill-color);\n",
              "    }\n",
              "    60% {\n",
              "      border-color: transparent;\n",
              "      border-right-color: var(--fill-color);\n",
              "    }\n",
              "    80% {\n",
              "      border-color: transparent;\n",
              "      border-right-color: var(--fill-color);\n",
              "      border-bottom-color: var(--fill-color);\n",
              "    }\n",
              "    90% {\n",
              "      border-color: transparent;\n",
              "      border-bottom-color: var(--fill-color);\n",
              "    }\n",
              "  }\n",
              "</style>\n",
              "\n",
              "  <script>\n",
              "    async function quickchart(key) {\n",
              "      const quickchartButtonEl =\n",
              "        document.querySelector('#' + key + ' button');\n",
              "      quickchartButtonEl.disabled = true;  // To prevent multiple clicks.\n",
              "      quickchartButtonEl.classList.add('colab-df-spinner');\n",
              "      try {\n",
              "        const charts = await google.colab.kernel.invokeFunction(\n",
              "            'suggestCharts', [key], {});\n",
              "      } catch (error) {\n",
              "        console.error('Error during call to suggestCharts:', error);\n",
              "      }\n",
              "      quickchartButtonEl.classList.remove('colab-df-spinner');\n",
              "      quickchartButtonEl.classList.add('colab-df-quickchart-complete');\n",
              "    }\n",
              "    (() => {\n",
              "      let quickchartButtonEl =\n",
              "        document.querySelector('#df-e0e18974-8ade-4706-b68b-b693d452b3ee button');\n",
              "      quickchartButtonEl.style.display =\n",
              "        google.colab.kernel.accessAllowed ? 'block' : 'none';\n",
              "    })();\n",
              "  </script>\n",
              "</div>\n",
              "\n",
              "    </div>\n",
              "  </div>\n"
            ],
            "application/vnd.google.colaboratory.intrinsic+json": {
              "type": "dataframe",
              "variable_name": "df",
              "summary": "{\n  \"name\": \"df\",\n  \"rows\": 3760,\n  \"fields\": [\n    {\n      \"column\": \"Unicode\",\n      \"properties\": {\n        \"dtype\": \"string\",\n        \"num_unique_values\": 3760,\n        \"samples\": [\n          \"713D71\",\n          \"1213E26\",\n          \"113E3C\"\n        ],\n        \"semantic_type\": \"\",\n        \"description\": \"\"\n      }\n    },\n    {\n      \"column\": \"filename\",\n      \"properties\": {\n        \"dtype\": \"string\",\n        \"num_unique_values\": 3760,\n        \"samples\": [\n          \"713D71.png\",\n          \"1213E26.png\",\n          \"113E3C.png\"\n        ],\n        \"semantic_type\": \"\",\n        \"description\": \"\"\n      }\n    }\n  ]\n}"
            }
          },
          "metadata": {},
          "execution_count": 8
        }
      ],
      "source": [
        "df.head()"
      ]
    },
    {
      "cell_type": "markdown",
      "source": [
        "### Step 3 Rotating Images to Expand Dataset"
      ],
      "metadata": {
        "id": "F9fqI2ld4kbB"
      }
    },
    {
      "cell_type": "code",
      "source": [
        "import os\n",
        "from PIL import Image\n",
        "from multiprocessing import Pool, cpu_count\n",
        "\n",
        "# Configuration\n",
        "input_folder = \"data\"\n",
        "output_folder = os.path.join(input_folder)\n",
        "os.makedirs(output_folder, exist_ok=True)\n",
        "angles = range(-25, 26, 5)\n",
        "extensions = ('.png')\n",
        "\n",
        "# Function to rotate and crop to original size\n",
        "def rotate_and_save(args):\n",
        "    filepath, angle = args\n",
        "    try:\n",
        "        with Image.open(filepath) as img:\n",
        "            img = img.convert(\"RGBA\")\n",
        "            original_size = img.size\n",
        "            rotated = img.rotate(angle, resample=Image.BICUBIC, expand=True)\n",
        "            cropped = rotated.crop((\n",
        "                (rotated.width - original_size[0]) // 2,\n",
        "                (rotated.height - original_size[1]) // 2,\n",
        "                (rotated.width + original_size[0]) // 2,\n",
        "                (rotated.height + original_size[1]) // 2\n",
        "            ))\n",
        "            base_name, ext = os.path.splitext(os.path.basename(filepath))\n",
        "            save_path = os.path.join(output_folder, f\"{base_name}_{angle}deg_rotated{ext}\")\n",
        "            cropped.save(save_path)\n",
        "    except Exception as e:\n",
        "        print(f\"Error processing {filepath} at {angle} degrees: {e}\")\n",
        "\n",
        "# Prepare tasks\n",
        "tasks = []\n",
        "for filename in os.listdir(input_folder):\n",
        "    if filename.lower().endswith(extensions):\n",
        "        filepath = os.path.join(input_folder, filename)\n",
        "        for angle in angles:\n",
        "            tasks.append((filepath, angle))\n",
        "\n",
        "# Run in parallel\n",
        "if __name__ == '__main__':\n",
        "    with Pool(cpu_count()) as pool:\n",
        "        pool.map(rotate_and_save, tasks)\n",
        "    print(\"All rotations complete.\")\n"
      ],
      "metadata": {
        "colab": {
          "base_uri": "https://localhost:8080/"
        },
        "id": "CW52850ki7pp",
        "outputId": "f8fc756d-38cc-4fee-b0db-55fa6bb49105"
      },
      "execution_count": null,
      "outputs": [
        {
          "output_type": "stream",
          "name": "stdout",
          "text": [
            "All rotations complete.\n"
          ]
        }
      ]
    },
    {
      "cell_type": "code",
      "source": [
        "num_files = count_files(directory_path)\n",
        "print(f\"The number of files in '{directory_path}' is: {num_files}\")"
      ],
      "metadata": {
        "colab": {
          "base_uri": "https://localhost:8080/"
        },
        "id": "PWKv6AziitWZ",
        "outputId": "0fa91453-45f9-46ed-c533-6296b82a97bf"
      },
      "execution_count": null,
      "outputs": [
        {
          "output_type": "stream",
          "name": "stdout",
          "text": [
            "The number of files in 'data/' is: 57972\n"
          ]
        }
      ]
    },
    {
      "cell_type": "markdown",
      "metadata": {
        "id": "QPU7KJcNXE6F"
      },
      "source": [
        "### Step 4: Define training model configuration"
      ]
    },
    {
      "cell_type": "code",
      "execution_count": null,
      "metadata": {
        "id": "RHeGh7XU-2m2"
      },
      "outputs": [],
      "source": [
        "from dataclasses import dataclass\n",
        "\n",
        "@dataclass\n",
        "class TrainingConfig:\n",
        "    image_size = 128  # assumes images are square\n",
        "    train_batch_size = 32\n",
        "    eval_batch_size = 32\n",
        "    num_epochs = 30\n",
        "    gradient_accumulation_steps = 1\n",
        "    learning_rate = 1e-4\n",
        "    lr_warmup_steps = 500\n",
        "    save_image_epochs = 1\n",
        "    save_model_epochs = 30\n",
        "    mixed_precision = \"fp16\"  # `no` for float32, `fp16` for automatic mixed precision\n",
        "    output_dir = \"glyffuser-unconditional\"  # the model name\n",
        "    overwrite_output_dir = True  # overwrite the old model when re-running the notebook\n",
        "    seed = 0\n",
        "    dataset_name=\"data128\"\n",
        "\n",
        "config = TrainingConfig()"
      ]
    },
    {
      "cell_type": "markdown",
      "metadata": {
        "id": "PD7QF9PjXKpl"
      },
      "source": [
        "### Step 5: Create Local Dataset Class and helper functions"
      ]
    },
    {
      "cell_type": "code",
      "execution_count": null,
      "metadata": {
        "colab": {
          "base_uri": "https://localhost:8080/"
        },
        "id": "7RV7ieh1-8fH",
        "outputId": "541f9566-7dbb-4cc7-8939-f088e2d28eed"
      },
      "outputs": [
        {
          "output_type": "stream",
          "name": "stdout",
          "text": [
            "Collecting datasets\n",
            "  Downloading datasets-3.5.0-py3-none-any.whl.metadata (19 kB)\n",
            "Requirement already satisfied: filelock in /usr/local/lib/python3.11/dist-packages (from datasets) (3.18.0)\n",
            "Requirement already satisfied: numpy>=1.17 in /usr/local/lib/python3.11/dist-packages (from datasets) (2.0.2)\n",
            "Requirement already satisfied: pyarrow>=15.0.0 in /usr/local/lib/python3.11/dist-packages (from datasets) (18.1.0)\n",
            "Collecting dill<0.3.9,>=0.3.0 (from datasets)\n",
            "  Downloading dill-0.3.8-py3-none-any.whl.metadata (10 kB)\n",
            "Requirement already satisfied: pandas in /usr/local/lib/python3.11/dist-packages (from datasets) (2.2.2)\n",
            "Requirement already satisfied: requests>=2.32.2 in /usr/local/lib/python3.11/dist-packages (from datasets) (2.32.3)\n",
            "Requirement already satisfied: tqdm>=4.66.3 in /usr/local/lib/python3.11/dist-packages (from datasets) (4.67.1)\n",
            "Collecting xxhash (from datasets)\n",
            "  Downloading xxhash-3.5.0-cp311-cp311-manylinux_2_17_x86_64.manylinux2014_x86_64.whl.metadata (12 kB)\n",
            "Collecting multiprocess<0.70.17 (from datasets)\n",
            "  Downloading multiprocess-0.70.16-py311-none-any.whl.metadata (7.2 kB)\n",
            "Collecting fsspec<=2024.12.0,>=2023.1.0 (from fsspec[http]<=2024.12.0,>=2023.1.0->datasets)\n",
            "  Downloading fsspec-2024.12.0-py3-none-any.whl.metadata (11 kB)\n",
            "Requirement already satisfied: aiohttp in /usr/local/lib/python3.11/dist-packages (from datasets) (3.11.15)\n",
            "Requirement already satisfied: huggingface-hub>=0.24.0 in /usr/local/lib/python3.11/dist-packages (from datasets) (0.30.2)\n",
            "Requirement already satisfied: packaging in /usr/local/lib/python3.11/dist-packages (from datasets) (24.2)\n",
            "Requirement already satisfied: pyyaml>=5.1 in /usr/local/lib/python3.11/dist-packages (from datasets) (6.0.2)\n",
            "Requirement already satisfied: aiohappyeyeballs>=2.3.0 in /usr/local/lib/python3.11/dist-packages (from aiohttp->datasets) (2.6.1)\n",
            "Requirement already satisfied: aiosignal>=1.1.2 in /usr/local/lib/python3.11/dist-packages (from aiohttp->datasets) (1.3.2)\n",
            "Requirement already satisfied: attrs>=17.3.0 in /usr/local/lib/python3.11/dist-packages (from aiohttp->datasets) (25.3.0)\n",
            "Requirement already satisfied: frozenlist>=1.1.1 in /usr/local/lib/python3.11/dist-packages (from aiohttp->datasets) (1.5.0)\n",
            "Requirement already satisfied: multidict<7.0,>=4.5 in /usr/local/lib/python3.11/dist-packages (from aiohttp->datasets) (6.4.3)\n",
            "Requirement already satisfied: propcache>=0.2.0 in /usr/local/lib/python3.11/dist-packages (from aiohttp->datasets) (0.3.1)\n",
            "Requirement already satisfied: yarl<2.0,>=1.17.0 in /usr/local/lib/python3.11/dist-packages (from aiohttp->datasets) (1.19.0)\n",
            "Requirement already satisfied: typing-extensions>=3.7.4.3 in /usr/local/lib/python3.11/dist-packages (from huggingface-hub>=0.24.0->datasets) (4.13.2)\n",
            "Requirement already satisfied: charset-normalizer<4,>=2 in /usr/local/lib/python3.11/dist-packages (from requests>=2.32.2->datasets) (3.4.1)\n",
            "Requirement already satisfied: idna<4,>=2.5 in /usr/local/lib/python3.11/dist-packages (from requests>=2.32.2->datasets) (3.10)\n",
            "Requirement already satisfied: urllib3<3,>=1.21.1 in /usr/local/lib/python3.11/dist-packages (from requests>=2.32.2->datasets) (2.3.0)\n",
            "Requirement already satisfied: certifi>=2017.4.17 in /usr/local/lib/python3.11/dist-packages (from requests>=2.32.2->datasets) (2025.1.31)\n",
            "Requirement already satisfied: python-dateutil>=2.8.2 in /usr/local/lib/python3.11/dist-packages (from pandas->datasets) (2.8.2)\n",
            "Requirement already satisfied: pytz>=2020.1 in /usr/local/lib/python3.11/dist-packages (from pandas->datasets) (2025.2)\n",
            "Requirement already satisfied: tzdata>=2022.7 in /usr/local/lib/python3.11/dist-packages (from pandas->datasets) (2025.2)\n",
            "Requirement already satisfied: six>=1.5 in /usr/local/lib/python3.11/dist-packages (from python-dateutil>=2.8.2->pandas->datasets) (1.17.0)\n",
            "Downloading datasets-3.5.0-py3-none-any.whl (491 kB)\n",
            "\u001b[2K   \u001b[90m━━━━━━━━━━━━━━━━━━━━━━━━━━━━━━━━━━━━━━━━\u001b[0m \u001b[32m491.2/491.2 kB\u001b[0m \u001b[31m9.8 MB/s\u001b[0m eta \u001b[36m0:00:00\u001b[0m\n",
            "\u001b[?25hDownloading dill-0.3.8-py3-none-any.whl (116 kB)\n",
            "\u001b[2K   \u001b[90m━━━━━━━━━━━━━━━━━━━━━━━━━━━━━━━━━━━━━━━━\u001b[0m \u001b[32m116.3/116.3 kB\u001b[0m \u001b[31m11.5 MB/s\u001b[0m eta \u001b[36m0:00:00\u001b[0m\n",
            "\u001b[?25hDownloading fsspec-2024.12.0-py3-none-any.whl (183 kB)\n",
            "\u001b[2K   \u001b[90m━━━━━━━━━━━━━━━━━━━━━━━━━━━━━━━━━━━━━━━━\u001b[0m \u001b[32m183.9/183.9 kB\u001b[0m \u001b[31m17.3 MB/s\u001b[0m eta \u001b[36m0:00:00\u001b[0m\n",
            "\u001b[?25hDownloading multiprocess-0.70.16-py311-none-any.whl (143 kB)\n",
            "\u001b[2K   \u001b[90m━━━━━━━━━━━━━━━━━━━━━━━━━━━━━━━━━━━━━━━━\u001b[0m \u001b[32m143.5/143.5 kB\u001b[0m \u001b[31m14.5 MB/s\u001b[0m eta \u001b[36m0:00:00\u001b[0m\n",
            "\u001b[?25hDownloading xxhash-3.5.0-cp311-cp311-manylinux_2_17_x86_64.manylinux2014_x86_64.whl (194 kB)\n",
            "\u001b[2K   \u001b[90m━━━━━━━━━━━━━━━━━━━━━━━━━━━━━━━━━━━━━━━━\u001b[0m \u001b[32m194.8/194.8 kB\u001b[0m \u001b[31m17.3 MB/s\u001b[0m eta \u001b[36m0:00:00\u001b[0m\n",
            "\u001b[?25hInstalling collected packages: xxhash, fsspec, dill, multiprocess, datasets\n",
            "  Attempting uninstall: fsspec\n",
            "    Found existing installation: fsspec 2025.3.2\n",
            "    Uninstalling fsspec-2025.3.2:\n",
            "      Successfully uninstalled fsspec-2025.3.2\n",
            "\u001b[31mERROR: pip's dependency resolver does not currently take into account all the packages that are installed. This behaviour is the source of the following dependency conflicts.\n",
            "torch 2.6.0+cu124 requires nvidia-cublas-cu12==12.4.5.8; platform_system == \"Linux\" and platform_machine == \"x86_64\", but you have nvidia-cublas-cu12 12.5.3.2 which is incompatible.\n",
            "torch 2.6.0+cu124 requires nvidia-cuda-cupti-cu12==12.4.127; platform_system == \"Linux\" and platform_machine == \"x86_64\", but you have nvidia-cuda-cupti-cu12 12.5.82 which is incompatible.\n",
            "torch 2.6.0+cu124 requires nvidia-cuda-nvrtc-cu12==12.4.127; platform_system == \"Linux\" and platform_machine == \"x86_64\", but you have nvidia-cuda-nvrtc-cu12 12.5.82 which is incompatible.\n",
            "torch 2.6.0+cu124 requires nvidia-cuda-runtime-cu12==12.4.127; platform_system == \"Linux\" and platform_machine == \"x86_64\", but you have nvidia-cuda-runtime-cu12 12.5.82 which is incompatible.\n",
            "torch 2.6.0+cu124 requires nvidia-cudnn-cu12==9.1.0.70; platform_system == \"Linux\" and platform_machine == \"x86_64\", but you have nvidia-cudnn-cu12 9.3.0.75 which is incompatible.\n",
            "torch 2.6.0+cu124 requires nvidia-cufft-cu12==11.2.1.3; platform_system == \"Linux\" and platform_machine == \"x86_64\", but you have nvidia-cufft-cu12 11.2.3.61 which is incompatible.\n",
            "torch 2.6.0+cu124 requires nvidia-curand-cu12==10.3.5.147; platform_system == \"Linux\" and platform_machine == \"x86_64\", but you have nvidia-curand-cu12 10.3.6.82 which is incompatible.\n",
            "torch 2.6.0+cu124 requires nvidia-cusolver-cu12==11.6.1.9; platform_system == \"Linux\" and platform_machine == \"x86_64\", but you have nvidia-cusolver-cu12 11.6.3.83 which is incompatible.\n",
            "torch 2.6.0+cu124 requires nvidia-cusparse-cu12==12.3.1.170; platform_system == \"Linux\" and platform_machine == \"x86_64\", but you have nvidia-cusparse-cu12 12.5.1.3 which is incompatible.\n",
            "torch 2.6.0+cu124 requires nvidia-nvjitlink-cu12==12.4.127; platform_system == \"Linux\" and platform_machine == \"x86_64\", but you have nvidia-nvjitlink-cu12 12.5.82 which is incompatible.\n",
            "gcsfs 2025.3.2 requires fsspec==2025.3.2, but you have fsspec 2024.12.0 which is incompatible.\u001b[0m\u001b[31m\n",
            "\u001b[0mSuccessfully installed datasets-3.5.0 dill-0.3.8 fsspec-2024.12.0 multiprocess-0.70.16 xxhash-3.5.0\n"
          ]
        }
      ],
      "source": [
        "!pip install datasets\n",
        "from datasets import Dataset\n",
        "from pathlib import Path\n",
        "from PIL import Image\n",
        "from torch.utils.data import Dataset, DataLoader\n",
        "from torch.optim import AdamW\n",
        "import torchvision.transforms as T\n",
        "import torch.nn.functional as F\n",
        "from diffusers import UNet2DModel, DDPMScheduler, DPMSolverMultistepScheduler\n",
        "from diffusers.optimization import get_cosine_schedule_with_warmup\n",
        "from diffusers import DDPMPipeline\n",
        "from accelerate import Accelerator\n",
        "import torch\n",
        "from tqdm.auto import tqdm\n",
        "import os\n",
        "\n",
        "def normalize_neg_one_to_one(img):\n",
        "    return img * 2 - 1\n",
        "\n",
        "# UPDATED LocalDataset class\n",
        "class LocalDataset(Dataset):\n",
        "    def __init__(self, folder, image_size, exts=['png']):\n",
        "        super().__init__()\n",
        "        self.folder = folder\n",
        "        self.image_size = image_size\n",
        "\n",
        "        # Match extensions case-insensitively\n",
        "        self.paths = []\n",
        "        for ext in exts:\n",
        "            self.paths.extend([\n",
        "                p for p in Path(folder).rglob(f'*.{ext}')\n",
        "                if p.suffix.lower() == f'.{ext.lower()}'\n",
        "            ])\n",
        "\n",
        "        assert len(self.paths) > 0, f\"No images found in {folder}. Check path and extensions.\"\n",
        "\n",
        "        self.transform = T.Compose([\n",
        "            T.Resize((image_size, image_size)),\n",
        "            T.ToTensor(),\n",
        "            T.Lambda(normalize_neg_one_to_one),\n",
        "        ])\n",
        "\n",
        "    def __len__(self):\n",
        "        return len(self.paths)\n",
        "\n",
        "    def __getitem__(self, index):\n",
        "        path = self.paths[index]\n",
        "        img = Image.open(path).convert('L')  # Grayscale\n",
        "        return self.transform(img)\n",
        "\n",
        "def make_grid(images, rows, cols):\n",
        "    # Helper function for making a grid of images\n",
        "    w, h = images[0].size\n",
        "    grid = Image.new('RGB', size=(cols*w, rows*h))\n",
        "    for i, image in enumerate(images):\n",
        "        grid.paste(image, box=(i%cols*w, i//cols*h))\n",
        "    return grid\n",
        "\n",
        "def evaluate(config, epoch, pipeline):\n",
        "    # Sample from the model and save the images in a grid\n",
        "    images = pipeline(\n",
        "        batch_size=config.eval_batch_size,\n",
        "        generator=torch.Generator(device='cpu').manual_seed(config.seed),\n",
        "        num_inference_steps=50\n",
        "    ).images\n",
        "\n",
        "    image_grid = make_grid(images, rows=4, cols=4)\n",
        "\n",
        "    test_dir = os.path.join(config.output_dir, \"samples\")\n",
        "    os.makedirs(test_dir, exist_ok=True)\n",
        "    image_grid.save(f\"{test_dir}/{epoch:04d}.png\")\n"
      ]
    },
    {
      "cell_type": "markdown",
      "metadata": {
        "id": "lM5kUcgvXST4"
      },
      "source": [
        "### Step 6: Define model training loop"
      ]
    },
    {
      "cell_type": "code",
      "execution_count": null,
      "metadata": {
        "id": "u4okkjY2XUYc"
      },
      "outputs": [],
      "source": [
        "def train_loop(config, model, noise_scheduler, optimizer, train_dataloader, lr_scheduler):\n",
        "    accelerator = Accelerator(\n",
        "        mixed_precision=config.mixed_precision,\n",
        "        gradient_accumulation_steps=config.gradient_accumulation_steps,\n",
        "        log_with=\"tensorboard\",\n",
        "        project_dir=os.path.join(config.output_dir, \"logs\")\n",
        "    )\n",
        "\n",
        "    if accelerator.is_main_process:\n",
        "        if config.output_dir is not None:\n",
        "            os.makedirs(config.output_dir, exist_ok=True)\n",
        "        accelerator.init_trackers(\"train_example\")\n",
        "\n",
        "    model, optimizer, train_dataloader, lr_scheduler = accelerator.prepare(\n",
        "        model, optimizer, train_dataloader, lr_scheduler\n",
        "    )\n",
        "\n",
        "    global_step = 0\n",
        "\n",
        "    for epoch in range(config.num_epochs):\n",
        "        progress_bar = tqdm(total=len(train_dataloader), disable=not accelerator.is_local_main_process)\n",
        "        progress_bar.set_description(f\"Epoch {epoch}\")\n",
        "\n",
        "        for step, batch in enumerate(train_dataloader):\n",
        "            clean_images = batch\n",
        "            noise = torch.randn(clean_images.shape).to(clean_images.device)\n",
        "            bs = clean_images.shape[0]\n",
        "            timesteps = torch.randint(0, noise_scheduler.num_train_timesteps, (bs,), device=clean_images.device).long()\n",
        "            noisy_images = noise_scheduler.add_noise(clean_images, noise, timesteps)\n",
        "\n",
        "            with accelerator.accumulate(model):\n",
        "                noise_pred = model(noisy_images, timesteps, return_dict=False)[0]\n",
        "                loss = F.mse_loss(noise_pred, noise)\n",
        "                accelerator.backward(loss)\n",
        "                accelerator.clip_grad_norm_(model.parameters(), 1.0)\n",
        "                optimizer.step()\n",
        "                lr_scheduler.step()\n",
        "                optimizer.zero_grad()\n",
        "\n",
        "            progress_bar.update(1)\n",
        "            logs = {\"loss\": loss.detach().item(), \"lr\": lr_scheduler.get_last_lr()[0], \"step\": global_step}\n",
        "            progress_bar.set_postfix(**logs)\n",
        "            accelerator.log(logs, step=global_step)\n",
        "            global_step += 1\n",
        "\n",
        "        if accelerator.is_main_process:\n",
        "            if (epoch + 1) % config.save_image_epochs == 0 or epoch == config.num_epochs - 1:\n",
        "                pipeline = DDPMPipeline(unet=accelerator.unwrap_model(model), scheduler=inference_scheduler)\n",
        "                evaluate(config, epoch, pipeline)\n",
        "\n",
        "            if (epoch + 1) % config.save_model_epochs == 0 or epoch == config.num_epochs - 1:\n",
        "                pipeline = DDPMPipeline(unet=accelerator.unwrap_model(model), scheduler=inference_scheduler)\n",
        "                save_dir = os.path.join(config.output_dir, f\"epoch{epoch}\")\n",
        "                pipeline.save_pretrained(save_dir)"
      ]
    },
    {
      "cell_type": "markdown",
      "metadata": {
        "id": "FMh_fGstXXbT"
      },
      "source": [
        "### Step 7: Load dataset"
      ]
    },
    {
      "cell_type": "code",
      "execution_count": null,
      "metadata": {
        "id": "Cb9XLgJn_L2e"
      },
      "outputs": [],
      "source": [
        "# Define data source\n",
        "dataset = LocalDataset(\"data\", image_size=config.image_size)\n",
        "train_dataloader = DataLoader(dataset, batch_size=config.train_batch_size, shuffle=True)"
      ]
    },
    {
      "cell_type": "markdown",
      "metadata": {
        "id": "8txNXtRcXcMf"
      },
      "source": [
        "### Step 8: Define UNet Model"
      ]
    },
    {
      "cell_type": "code",
      "execution_count": null,
      "metadata": {
        "id": "0LZ_aRt-Xd9c"
      },
      "outputs": [],
      "source": [
        "# Define model\n",
        "model = UNet2DModel(\n",
        "    sample_size=config.image_size,  # the target image resolution\n",
        "    in_channels=1,  # the number of input channels\n",
        "    out_channels=1,  # the number of output channels\n",
        "    layers_per_block=1,  # how many ResNet layers to use per UNet block\n",
        "    block_out_channels=(128, 128, 256, 256, 512, 512),  # the number of output channels for each UNet block\n",
        "    down_block_types=(\n",
        "        \"DownBlock2D\",\n",
        "        \"DownBlock2D\",\n",
        "        \"DownBlock2D\",\n",
        "        \"DownBlock2D\",\n",
        "        \"AttnDownBlock2D\",\n",
        "        \"DownBlock2D\",\n",
        "    ),\n",
        "    up_block_types=(\n",
        "        \"UpBlock2D\",\n",
        "        \"AttnUpBlock2D\",\n",
        "        \"UpBlock2D\",\n",
        "        \"UpBlock2D\",\n",
        "        \"UpBlock2D\",\n",
        "        \"UpBlock2D\",\n",
        "    ),\n",
        ")"
      ]
    },
    {
      "cell_type": "markdown",
      "metadata": {
        "id": "KfmGAQdaXe06"
      },
      "source": [
        "### Step 9: Define optimizers and schedulers"
      ]
    },
    {
      "cell_type": "code",
      "execution_count": null,
      "metadata": {
        "id": "AbfMLI6RXjLV"
      },
      "outputs": [],
      "source": [
        "noise_scheduler = DDPMScheduler(num_train_timesteps=1000)\n",
        "inference_scheduler = DPMSolverMultistepScheduler()\n",
        "optimizer = AdamW(model.parameters(), lr=config.learning_rate)\n",
        "lr_scheduler = get_cosine_schedule_with_warmup(\n",
        "    optimizer=optimizer,\n",
        "    num_warmup_steps=config.lr_warmup_steps,\n",
        "    num_training_steps=(len(train_dataloader) * config.num_epochs),\n",
        ")"
      ]
    },
    {
      "cell_type": "markdown",
      "metadata": {
        "id": "jyksgzGeXkEJ"
      },
      "source": [
        "### Step 10: Run training on the model!"
      ]
    },
    {
      "cell_type": "code",
      "execution_count": null,
      "metadata": {
        "id": "8Uy3iXo3aDIo"
      },
      "outputs": [],
      "source": [
        "import pandas as pd\n",
        "import os\n",
        "from PIL import Image, ImageDraw, ImageFont"
      ]
    },
    {
      "cell_type": "code",
      "execution_count": null,
      "metadata": {
        "colab": {
          "base_uri": "https://localhost:8080/",
          "height": 1000,
          "referenced_widgets": [
            "510902cc5cbf4d1eabc3e5040b46e1a9",
            "92643cfb1f384e6cb69996e59bcfa76a",
            "42ad7d2eb8834f108cf937d42ae84ccd",
            "08a990986f844a409fd5bb356b8433b8",
            "0baa1d6bf0f843709e6aebe358c7efed",
            "93d1623e29fa4621b8b4ab9f46d1f0dc",
            "a1348a6ded014651b152dce0cce705e8",
            "ebe1109988854655be4b6c7b038f9dce",
            "7754444a3f864ba2b07a9134e85fa44b",
            "8dcfe25c4df54361836cbddc6d280481",
            "a2c0217ddd594af78867551e01f43d2c",
            "091932e80f204cddbdd3452f927a7811",
            "7cf00b811d8a4b2d84431891342eb830",
            "be1992d6474e4cf5bb1043f14d539040",
            "6d0589b6eea24b77bb1189bfb625c600",
            "17045c15a2dd4e33a6d8298a30c72e4c",
            "10d52e268f9548288b3de24e131ec075",
            "f117ffe212b74c348799c8e1a42bfd3f",
            "8bf4680052184dfcad5ed6317072e2c0",
            "dfb07a55193f4bb29280b05b43bc3a98",
            "af74dbe241aa4655b2adde29ac25d6ce",
            "b581a51c7f0a4eafa850e624652637d3",
            "5fbdc574081e43c6b1c0ab4a684b9616",
            "0676d2f9019742f8867c017fdc813ece",
            "6489253a8776431e8252c947209b136b",
            "ebed1c822dcd400298ee3ce411fe5d49",
            "fdc6e4b58ae14626ba04a8c40e3d8c39",
            "df4fa3bcb2a54ac3ae7751f2f72afe2e",
            "b09f0cac8ff34a6995409fa538320b66",
            "9608c18dd8ae4b7a95e74091755b5bf8",
            "bffb646c850c423f93aaaa08a1384da3",
            "4c89bfb91e594f9dbd61e9db486e85a5",
            "d1bbd7a58ae54d978522956a8c036fda",
            "92187abcf21b4400a9472090ca082f9b",
            "c58014523acb49c38ab3fc406d2aa35b",
            "0391ba15be6d40719fcca237eeb63f81",
            "4422cbe0371d4710bcb7950f4d16886d",
            "0f19d587c9254837be30a55bea29d81f",
            "d3cf6132d4bc43f69923ebb96eee676a",
            "a59d7a4d0e39454ab230d31884afaf9f",
            "d51b4c339ff54fce945e787b1c797387",
            "e2c73bf512df4a7489a5cb5cb93e0e25",
            "7594a0bdf3754c11847af75347ff090a",
            "534f39dfeae949e984c2c0528edd0722",
            "b352e455444f44ca85b559f3b1f9d60a",
            "7e756eef20324795908c7bb9efeb1cfb",
            "82523066b2b44cf39cf7d5b6a435ebc4",
            "6027ff38577340708638744ad59f916c",
            "4363c012e7ce4e668e39784fd12b8556",
            "1e5a81119ca44ef5b40810824a7e78f2",
            "18282fcd661e4d7a9400d15e74d0b706",
            "6556ec873b334d2e98b25f9319cc4eb5",
            "b839071d8a6845b1aa5852f4095a7153",
            "6609bcf1aae946d79e34888b352c3552",
            "4b9836919b7140da9df71fa7dd60f101",
            "256269ff6283495cb57bb6737b01cb04",
            "e868453164244852a0eb3aec8316bc3e",
            "303b5ca87ec047278b39817e25e5e008",
            "bf8cb13e81dd44ea850dc3004af4c6be",
            "d4adaa6698da4186afbcc339e73f681c",
            "1360e7f3f8894d628940e141d78be363",
            "cd8025217df941fda8cf210aacee476d",
            "e40dcb5b8d734e2caac5cf5a2ad07576",
            "a76ef78c107b4ce0be338395165d104c",
            "d6adb1673cbd4970a5d41c2e49f788ff",
            "c4af554da84b410fb15c24a971691ae0",
            "13d0677af83d476c987180d7365082f1",
            "2f24f5a6b02341d1990187a6ac8e309a",
            "e6e24361196443e69add3bfd4bce0766",
            "ebf4c9a22bda4fd39648f3ad1ebfcc5c",
            "33c681c56b5e4e258d9dcceac466b70a",
            "1038e52eeebb458692fcb2db9200b28e",
            "a2a9c6dd2b1442169940c41d029f0d6f",
            "b6a7b7b08f8a4d178b356426fa630fe5",
            "47285c5a6a49497fb68e86f5f23f0a84",
            "458e7abc368c4271bd4e1aac6a528512",
            "6e3515c1aa8c4249a2d8d118b927a702",
            "db719ae1709c414bb7cfade12e6542e4",
            "8e0672a35c984818b019a3d7ae1484eb",
            "5917223bf1e047ca9d81c506cffe5fb7",
            "3b17c5fb80454118b8c1f10f2f071445",
            "424250cbd2584447a94ce7878270113a",
            "9400cafcb29a4332908db396cd7e5a52",
            "bb298eae54514a5dab789413f62a4a81",
            "2109288639544bc691456a58e84aa8b7",
            "d8b39e4ce5054ecb968dc1bc6723c2e1",
            "98bd813f8ed64f26b5e8c2f1fff4a51a",
            "cbabd3e9d3664acc98e8df9dff67705f",
            "14de4f313ed143118898670f1ff1f173",
            "b3e9ef2e877b40f883cf1fdd05e93c39",
            "63a03c83b1ee4fc9ab49352c30ae74d7",
            "2af7f7a1957b4536a51cc722947cc1b4",
            "b149667e2a5042f6b6920e4ca5f321fa",
            "c2119930a0b2415688b91f4ae72a0688",
            "34c9bde1973b4cb78211607a79b51748",
            "460b03353cbe4bbba179dc0015983b1d",
            "6dc1dadc4fee4e93b208caa56f35e350",
            "f5f99a7d172b4b7482b713b9e2357248",
            "208b44c28abd4cc389281c9e4768808f",
            "7ec28f5b825646bfb583fe785b7f85c1",
            "45d990fa72cc4ecc956b5a04104c601c",
            "8d2850fd640746b1b74696f2f0efab5a",
            "4ee0661dd6b54d179c402343930aefbe",
            "fa116be67f4d40c7a97b71b9925c9143",
            "69285341e6f04e009effccdabd2ee206",
            "30b42243e2c84071bc1b1170bd1a3e26",
            "34a3782a38044b53a99fc249b09224e0",
            "cb2ca35295d74795a48b57c65732d5ec",
            "02f6ac1f6bbb4dee93c06b5651d7dbba",
            "a1b021f97b524b71950ac6331594dd31",
            "646bde042d364e77bc0a46ffba6978f4",
            "18adf20bea2d471186759b02ed32da9b",
            "7a7b48f7945544b08d92a7c64e3ce3f5",
            "32870416c54442cc9485c08db903606a",
            "c2aff0a405e24014a1a3b09c78da96bf",
            "67e71350164e44009d024a00daa5e7cb",
            "6e076931657446eaa0cbda055394cf70",
            "83d3dec09c1a468093d6219634f9a9ed",
            "4ff0b1f54d9e4fd58f4a15e00bbfaec1",
            "3b73f64f73f6446d89741c636b594559",
            "3cbdddbbdb15421c917b7ffd6ded4d56",
            "a120a7d37bbe4c8a917884a749e08eed",
            "99ae5bbd0be4410a8123fb19d33d1375",
            "3766a4b6461b4b35a9caef1a082729c1",
            "98dfd4af75b14ec4b3dd304075bd3a34",
            "f6a64a1f18d34398aba24beb91a3d012",
            "06d74d2fab394ba6adcc75833f89b9e9",
            "ebb0ef5c0be142a8ba144b3bf6d1b749",
            "cab0ebe5c6cb41178070796a903a18e4",
            "25fd2cd30a1e4c288dec4b593d8c3e18",
            "8787e498edcd4fe2844d21cde4bee152",
            "c5ff62de419e415380394a0655e1cb5a",
            "9ff640332cac497a94f203dac295ba0c",
            "c5aa131329fb4c1b971fbb5da8935b19",
            "a7680a705c184e3c9aa9dcdea48ca33a",
            "dc68a6799e19405692065cab447b9499",
            "5e28129ecb944560bfd05ec790db7482",
            "5d2802c8d6f1446ebbf1bdfb850b6b04",
            "eaf2971b8d184d70bce0fe5b92541e26",
            "699a2845f58e43778dbcdbc6d5b9896c",
            "a921ae8a7a49421481b6e8f6c1b3a21d",
            "fd4d71ef6b5b4f5c8dbb6f756f3429f6",
            "8ed67efdd52643b78a1cef2925417f5c",
            "eb49729636124710b7c1e6462f9f709c",
            "a3c8364a3d9446599e565b1b1408580e",
            "ad44ae9047bb4e07afe3621138b57c62",
            "e1bc5ef26fb14550b6c939895faa5028",
            "5ae9c783dd9d4cad835b7fc7078f1f81",
            "54c45af69dca46dd8d75780db086a18f",
            "b2fe8b76b8e144b287b3d83e4c894353",
            "70d1baea170c4d4a91af823f9b39cc95",
            "636b85ff58674ec2809fe6ab86601d97",
            "13fd1057120b477087be083912699feb",
            "02a27b1702254b3fa00b89c4cc444a18",
            "7effa249f2d34b7d8aa00d42a527ec9f",
            "dfaf7379ff914194bf510ada40020291",
            "edc67716ea1f470886118692986be27b",
            "1ecf3d8bcab04e6eb5890e527f171fb1",
            "37f31db9dcbc49d38fefcfa1a3c9567a",
            "fd0c5dd5844548c998b276964e387b0b",
            "74799b996ded42d2ba88deb0f3cc303c",
            "08e11034b87842e8bdd3a16f8c17ea16",
            "d95bbdb2994945d6a2fc3557fd4db607",
            "42f6bf464c9e4cb682fadffd9cd17a0b",
            "eaf9dfef9f3842e49ecea58e60ca7fae",
            "47ea719f8caa4e719cecdffa8675f0d9",
            "0b7118c58d6940689cf0b51ee0eee6e1",
            "c565f5bec5884635bf7ee91181d92138",
            "6bd5f67d04b046bf862733fa6dee5206",
            "33309616b14147d0b55c42cc98ea17d5",
            "b88ccb2df13242f6823ec79fd271cb43",
            "063a63ce7ddd4db5a274c21a184fa019",
            "98b9b20582ae4b5295905a70c288264b",
            "163285a5fc6e452ba0787a159d67606f",
            "a1c3e22e65924941adab0011a834a18b",
            "cc588a7dd07647edb79f676bf3780851",
            "ab2b1dffa9a24244b1e1db14b0ba313b",
            "0bd9ea3b980546269debb2b441671e6c",
            "fd25db4a51e140579b3a805afbbecbde",
            "39a80bdff0b2466f87670da1c19a88da",
            "9be2f8548a6a4b3ca97da24ae987ce8a",
            "5614008a4e194da4a8bcc2fb8b3bda9a",
            "1de67281d98047ceb2e15c889685d5d3",
            "ffeb7b47c85144cbb108ec7dd4008402",
            "46d9c360e9424f08a1b8d7fe4f8c33b8",
            "b50e716800a94e48a2009923d8faed5d",
            "ec56900ab0cf4c8ba5e61505cb27b1f8",
            "603b2e550ebd46b7b731dbe109bee7b6",
            "bce00b1f2c354780b9b7a034d0a2e892",
            "e805fa107c6f46a7b3f975c518ae1929",
            "f854c9070dbb449e9e4d186b53883f05",
            "65e9a454c238429dbe1c544ca08a1bce",
            "087f0ba5a51940b297f0df56cecb7e9a",
            "e00d52d113fc4440a40ea0c00f15937c",
            "1d74eb8fedc34aeeb94885d56dfcc1c6",
            "8456bc756f6341e0920182afb6862049",
            "16eabd9c32e143d99eee3cfdabf8e69f",
            "55cb1e0b387e4eb1977c39b96aee35f3",
            "88d4adf1ccf44598ba2f15542dbf7418",
            "5fc6ab563f064ccfaf994a27b41cd9e7",
            "7f9e6b2de6b544508562ade1799ccc84",
            "2e293a20b8c045e685be99f9fd2ec7ff",
            "46803c4eebbf4b2984feb2239315c672",
            "613bcf2f908e445f8be2b1a99904c1e5",
            "558738ee56554da2b29ef0866c3dce69",
            "a52607fdf9894a40828fea1e049d5a8b",
            "6807e9dd04b04dd3953dcf4d12ef8ab9",
            "825cc555efdd49abb9f88108bf382b01",
            "efd8799f6afe4fa191d63c41b83af257",
            "6c025471ff5e42db9ca0f8625f5ee693",
            "264a743058674b73879954520a719b43",
            "31654c2b8d8e4dc7969a64dc50398d87",
            "99b1bcc48ee4408b91f5b26ab9f55eaa",
            "cd79773acdab48afb34748fc2fdd9a5c",
            "7b545ac6a3fc4739a5cd4aee94cd353b",
            "a5ce257b65304ec3b781cf16f4e07cd8",
            "6b09681bb0c34bf6859a4a523d06948c",
            "ec55df63cc5d4b2a8f0e4a679842e6c1",
            "635efe94ba7942e29af66667202f095d",
            "fca8780f03b042fcbb5039dffd48d414",
            "343a040467a94880b58a776a271d6e79",
            "2f3832087a4f42099e5f33e304a7c259",
            "2833f65fe5af41a48cdbcc5d46f56e8a",
            "acb0216bb30f4b3b97f1f5f57e8e10ab",
            "38b3f18fbe414d93a6e6837532806606",
            "b50845beb2334074887d0d8de7c2067d",
            "17088ac1273d4eb19a7e560b444bd310",
            "6c7fb713e0a64ae3961bc08abf3cf8cf",
            "7c6a6c309b7240908c6f0ec89871a5e0",
            "42828514669e41dfac4ba93370fa4317",
            "1ceedd65a7f84d62afaafc708a47cfad",
            "e2b15f7ef59341fa9d40c5c5e3abe3ba",
            "f024a80c890a47dc82379e62d64a3d7c",
            "d4cdbce7e4654efb93206af850389fd5",
            "f5c17aeb606542d3af4e290291bb5b92",
            "e949a21d18fd4382a4968cc06e897a70",
            "d701435afb6b4a5bbc7c522a89297c83",
            "7c8102b158044c3fa32bad2687a7347e",
            "0afa54e9c58843a6a3ee14d8d923ce26",
            "a28cff5b6d254384bcf5d2b7cf538271",
            "c1f7d702fd294b97a5c9a64d4d4e61d8",
            "592904a941b64d33a1800b0999ab5de5",
            "0b0816d64ed94d1180c0615c0039b621",
            "441c566cbb8845b2b1b19a5e34883a1d",
            "56ca48e93eb44e20a27ae2e446a2cd1a",
            "ac7c2257003740a2ac1044f50239b295",
            "4989a768b2ee49c1a64fcf332c96f843",
            "02b105bd233b43d09930bbc3866f3061",
            "0c1a6d36b9174c438af57852bf4c11a1",
            "68a9ebe324dd43ad88cdb9c9de0d2545",
            "74e3f2bb3ecb4b3690f0851d789510f3",
            "e231537fb2f5436babf2569a5647e355",
            "4f9c720a14e64b76a5f9d68c8138a59f",
            "0f7088e4da604565bb6686fd9e48d3ed",
            "91955a4ec14148818496e6548b61d29f",
            "3decc914beab4ee89a87a2014ba8058e",
            "5bd21f9db52547f79e131d5dc10a1690",
            "92863724bc724dc0bdeed8ce21aa2d00",
            "e0070ded13e943ab93c154efd2bab33a",
            "c487a4cd92a6487c808abc044f1bbaac",
            "fb3bf60e37c34fb9b8b17d3efc61de58",
            "689d66bcc4a249c4a7a8a6a8b1a070e5",
            "a2e80822c1454d5cb3c0f28814190a95",
            "c2a99e366953491486c59820605a9758",
            "14fb2ed0cf4e483a9fcda15ed3c4ba2b",
            "5efc02f2a2d0436ab25655a493e8fab3",
            "bfebeab4f38d45e7b287cb82543c0d5d",
            "13740a2ad3b54d4cb6f1da16bae55c43",
            "9d85d4caa2774d569b7cacff4d35a1c5",
            "82f4d2565d40428f866c426443e19d0a",
            "9626a74b17174fd0898f8e9fb480875f",
            "5afcfec6b1b64fc18c49f6bda1f041f8",
            "b918fe835f5d418bad5e115d0f1cc021",
            "833e059c1ef841ca9f5202b040590723",
            "99fcbc173dfe40a7bda7e65b29feeccd",
            "c8a337ee08d047db81a2461d204760e1",
            "ed3cbdc8927c4c6d8352044707b7d097",
            "1757c49a77bd4d78bc59c3ab5cac4d53",
            "42fb5a9525ee425d9b51bf42e05e3e65",
            "819ac2ffa55d4b6ba9b25b13a0b3f1ee",
            "f65c95bb06b04072a2fdc9af3096f3f7",
            "d12ec08f8e734180a8ad978bb503e687",
            "bbf53a09b167499f9c0ec3607dfcc86f",
            "76f963f364054eb8b2c89eaaadb8d1bc",
            "3d7e7031dd1d4af1b22cd991cd84d216",
            "875b206433964a43b78a89e4bc2c4ebc",
            "2c89a76ed21342b7bfc197f9fbe11521",
            "2bca44b767134d03b04f7918236ea9cb",
            "497c0f89eb694f43a37cd373cd536332",
            "31c58d8f435f400ab3cceb8ceb6659dc",
            "be2524e7603142cabe23ee3dc7ae7e79",
            "c89c3bf8a555453a9b39838ca1a40f48",
            "01385bbe1ac941a4ad9be907640a410a",
            "eb9b47324d9d49b684cb9bdcf425cdf0",
            "b5dd3ea0b6c743c0a750a1cc6ed86bd3",
            "52b9a96e2af14c77967c8b269e401926",
            "3e1238db09c74e41ad5a358692f6954c",
            "e2273067ad4949209120613ef6a5e139",
            "d9601b78452944bba27578f929a8729a",
            "d8a9a871e84e4451b5b033e847a2c2ed",
            "33c99d35d1684c3b944b5f894b17d4ed",
            "b0cf28ac5b2c40428d0283cd880c237d",
            "efa05ecbf72847ee86de48b3ca54d15b",
            "a7505f282ba44ecd88609b25951c98b8",
            "1943b3132e62421fa7fc969617767d25",
            "17e51ca28354479face18106a879867c",
            "8cb61eeb28124115822a833993373a4a",
            "25490b8a13764f66a4ea5b10a1af6496",
            "e88b5a4150ab4ed79043670cd00a02dd",
            "f6e92847c92a4cafadc078c2e5784ab5",
            "78dc62e86b1243e2a931fc329471615e",
            "6471a1d6e4c647dcb32df3969ff21217",
            "0f3083de487642b191adedce022e6217",
            "a7f72c6f6b174f1bab9b489b322e5d08",
            "fe9ce86681384a028e692c86d0ae0a36",
            "ab44961bdab447c1ae4d90cbaafe4ae5",
            "b5fa1f5c8ee44c0c8176fefb125f40cf",
            "62d52e3df5aa45c3a9ff7e2f1884e0dc",
            "c167398a00d046ad978da1c5cfe3314d",
            "454d437290cb48da98ec30543c61013a",
            "8895f81e4cf84d448afcd435fe9157e4",
            "6c839c020a6646829e6b6ce0cf590e02",
            "4bf275a12e1a4fd2a37ab378f1b86399",
            "0f79440f66f645c4882f3361204e7060",
            "98961a2f8bd1400291dcde73af26a08e",
            "b1836fec279548ee9604987c10dea808",
            "6181af2935984701818f5c9989704a91",
            "65509dc7ae2c466da0f4da1b6fe55d26",
            "a90f959decec42e5987a2dbf4b5e9fe5",
            "ecb1b42525374320804da64ecac72664",
            "f75d80bd34684d49b3942de9953a0ebc",
            "2b70fbf06d0849ae82681b9ddae7679c",
            "65453805905349738406ea19629ae5d8",
            "6ceb09a272c34e42adbc4123bf4c6735",
            "6b2f4559e1564aea80fbe702f1abbf88",
            "17c24493d522424b88fab5f60739cbbc",
            "614faea1210245aa9d6e86e64581d50d",
            "3ca24fb5c8ef48a29e0c86d08d9ffa79",
            "ff84af395f5e454eb4a7a52f4d202a04",
            "8c98534da0494da4933a48fcb4c34196",
            "a55bb57ce90c4e24999719ed847b4ced",
            "32f8e4eb6c554eea831a29c8c07249c0",
            "1f1fe377491f4688845cd21de8478626",
            "214cd0749fb84e809cce97501703664c",
            "bc30e9767e5b4540b2b7f26eab22024e",
            "5922bf59f8484fe99a103712a4b72310",
            "c103d32f87a14af58ad198f80c42b141",
            "7325186397f74c95a59ccc08b2d01dee",
            "6e38ef0b78ff475a87954ecb6d42f03c",
            "06342f9f366949419a363813a9c1458e",
            "1a20de4e1e5644ddb708fd70f5885de3",
            "d90a8ff1c3f84321804cd2f56675dc80",
            "6dfe87cca5b94e5a967e3c5bb714063f",
            "1a5a72f1cc65403584fe56cf501588bf",
            "82cf2aa1682b463780b1e860dbecf465",
            "b36d733ca4fd4732826a03eae281ebb0",
            "1c84757021dd4182bda4cb275fec8a12",
            "e734e38e17cc4d169b1a0850fbdf3f67",
            "036da34517b84a65867712c8b115bb9a",
            "343e7828a6cc465bbfcb9c6b94d8b05c",
            "7b5d8731899c4b6dae0db8a341e726b1",
            "4118131013f041d9b825d95e442590f7",
            "538f54d7d9ac499193510d1541ab5ecd",
            "ddcfdb78b7544780943454313c74a8a4",
            "25fe106fa00d4fc1bda320364680b477",
            "163273b671ca48ffaaa98742de212c7c",
            "055e41de972d48ac81290dcff43e1476",
            "c2df7b341a1744cba750952f7ed9d2e0",
            "9ad56cb7d358416e891aa496a7d4da00",
            "b892b666299742bc8091b059d66c2803",
            "aaa56dee1a324f23802737bc9b68509f",
            "001e65ae1c5c4098a944f3881ee7630b",
            "ef2a7a6fdfce4dd3931ff50e5c79d43a",
            "fbbb681853e049e384b3342a07825a51",
            "ce570db4c28043cc8076f89ab990f059",
            "aee369159ef044e2893ec7557ff15249",
            "2c73f83db0d94b16ac7bbb632739fdb3",
            "4e5d582fb7314d6b8e677446c8696923",
            "fcff22d44e864b30bf8f02cd5e7a1fd0",
            "c08a5967f7c647dc835426f57e93b104",
            "7c2d10eb854c411bb26719c30df9d894",
            "53f065b29b2d45bca10a5ad959b432bf",
            "2254ced272854f399f61750926a3f588",
            "81734f8448b349b2a4dfaaf402587a20",
            "18bf6490aa6b455897569300a31b9d64",
            "563e64bc24a34e74bf1b9ce749c8490a",
            "f215549091494d61a51984485e58d0f7",
            "bc286810aae64b43b15adfffa7d04630",
            "52e428cd03aa45e4bd0bde49840a6e95",
            "5b91c7b231b4434fa86b2349389b777c",
            "1a132885563d40ccb79ee52c3a9dca20",
            "d2c6c158f9294dad817b50bc615216b2",
            "cecfd11417aa4437b9db193f8be2dd0d",
            "71c1d263e29c46de831015ca4b6011df",
            "020bdb64dbb043df955279845817ae9b",
            "3b2af40861354773aae57a5f248f125f",
            "6ba8076333774c9ab608f2884fe21e20",
            "9be5d68f57d3402c8d0cba053221e3e7",
            "9fb0dbb2d57440218c593b703c0bd0e9",
            "82438d6e7eb249d4aa0c38af5b13479f",
            "ddf14ab7d0684f338eae0d139420e207",
            "4c06e5ae5fab488da897f77905cf7144",
            "2df68f60e0124034950d808c492b9033",
            "a09533cc7e2e483bbd2502f68e76e7fc",
            "96a2554a276b4d7882796c64ba148c9d",
            "20e3a33e26fb4eb8bc22bc819088d595",
            "b984e95c84124c6f857c3e7cbf6d3c00",
            "271bedf1f5ae4cd8955f23e7e136e4af",
            "8e6a6ea2e2a741a1ace4cf0ed8abfd9f",
            "d8af1ba98b90480eb66e5a6302bb46c6",
            "0ade8b78da7549a69a90d07b96dddc89",
            "132aeab4b9a74f45856b6d117c8b3f6c",
            "afe334645a894d91bda8009d8837ea2f",
            "a3770130c1a94d2886d8705d5b6ce425",
            "28f34556e3584b5097e9601706172a22",
            "5ee8f11c83cc429386d9742387e56db4",
            "a5a93b5ae6954032a990fc7649ddbddd",
            "b29b08da1ca140b99497ecd0ba915ac1",
            "608ebd20c89a4d539575b258ae1f26ee",
            "7157347fe4fa4c12977a2da4860f4cca",
            "e4db696c83a04b6ca6e013240eb096ed",
            "09d53e766fd14beb8cc6beb57d0464d2",
            "b11dd43465d840778b3202049c884624",
            "1a8c7d9952794ed3ba99ebd6175ddc90",
            "c121d6baa9024a85852fa5ce91f1c777",
            "5345f43ddfba427b95dce182c8a5d070",
            "72aaaf50c6b94b7ab04e2eb7f58651af",
            "e28f38e465124b709b1509039653292e",
            "179cc34fa00649e49313a1af96b7c025",
            "f9e98982b1fa4260a8b68c247e198ef9",
            "a9fbd7b4a16f4902b225db1e02349537",
            "c480f95b7bc6414b847f7840392e9151",
            "efe06fdeba1f4a3aae696afc89527271",
            "39ba85f71c824708969126e77b67f9ad",
            "55deb3100c5248d8ab714e0d1992fb2c",
            "0bcac0c5c7fc4c1eb4f191673690f22e",
            "77889d0dfaf6448cbbb1ba611d99e566",
            "9107d555ffeb477fa912659bd75a3420",
            "c50ff7d891e843a59c03dba4d3bf795f",
            "dd5d3312941047788e412634b614bcdc",
            "48f4ef11174e44289509c5e56bf229d2",
            "d1edfe939c074df59f5824110c969296",
            "e74c314b0c204e088b0ae231dd338bde",
            "da29a573d4f349d88618d8ca0e19f2ae",
            "6fdc274cea6a4df5a2d7dce8b66bcd98",
            "09e521c1ef2a4a5b93407b3b05881843",
            "d5c4f078b5294ebe87262fe9491152cb",
            "1360276594e1441d8c90807cbc2848bc",
            "197da8b088664dae936dfd075c2a8d0b",
            "d913744d86bf46e19c80ae42d8c15a9c",
            "d113de0bf4114027a82038f998a71b24",
            "878997acc81247f0946a1a919acd0e53",
            "eb50abe00752462194fbf6d9c85b56b2",
            "3364f8abb7db46fd9618522f6e3472a6",
            "eb9418c4d9914720928120ee99f2efe0",
            "88152b0c0b1346f5915981d2bccc2ffc",
            "cbec33bc50e544fd9eff53dce05a4486",
            "f9de459f40764eeaa9cf7f573dd17db5",
            "f60397c6f5cf41f2a7832353d04acf3c",
            "d9e1744fc40647e780fb490787bcea87",
            "b2a5f90a54ce45828bc1f371bc3c571f",
            "b3915a6feaec4bf1bfd5d92f076a95d6",
            "197e964442ad4523af53624f3bfc02fc",
            "239d8de59a904b1b8b14ecf3a7d415c7",
            "c058c14f34df49c894c33c32472dbea1",
            "7338d7537d994dc99c188b103001bfb4",
            "215343d51f0946668ec7c20417455472",
            "505b56bd03ae46f4a7e65edc86e89acd",
            "6ffe5941be2f4bfebd5978a521a3db65",
            "48671541b152476c934381448c86614a",
            "a217a84adfdc46faad287fe2a429d932",
            "363447378e5c4d728ce19750cb693499",
            "a1ff5f5d7bfb425891307fcdd3d366da",
            "24e55a5d58b74c70a3a152e399b7b34c",
            "8862da55b53c4c1db1ecfa2b43322bbc",
            "4822e81f826c4762920223da65ffd091",
            "7d5bb290dd9943579cbe8118f923eb79",
            "4f2b284be8054227b19be936774bcf7e",
            "9a5a7e7ad359447bbc57e640522cb9e9",
            "c6a4a9bbd86142539fb17fcdb38815c9",
            "6ac25b2d9c30425baa298b14e576ac18",
            "4a11b4b586054a919df6478981e5576b",
            "f64e74a34bb74681bb8dc2a13e2c030e",
            "84be1aa45cee4d64b212c7586186d04e",
            "67a041a8d40d43c58231f5d379867922",
            "9f7b135360bf485a9b319078f667e2e1",
            "762c8cc29bee4a5e8f80853f21da18dd",
            "d972f3f7816142d788b8c8984fb626d3",
            "78667cf736f44b5db20fdb06f269f02a",
            "40e7a437e7c348f3a1b2d778e23a31f7",
            "e650cb1cea73435a8fc8a7f0d9c7ee91",
            "a16a3855680a4cb2a08cda2bfc70a356",
            "6a76d5c960cb4410a189416f9207f3d1",
            "3c44e41cd9e04a1d921e5c4df5058f6b",
            "ef9011b43ac146bf92219ab7a63ed01a",
            "8f48443f333d4121bd6273b6c1019c45",
            "c6a575f953da47788dd982ae04b4ffb8",
            "e887392f37ad475489002c2e950eb200",
            "8fcd6e0e9264499bbb35b61119571f95",
            "40a160a5de68495485b6da4142f67cfe",
            "617e4e964a73411ba181f5baf9be8ddc",
            "623619cb4d914cc5ab79ce854b22e2a6",
            "818a54d6eb354f08bf54514a9a6749e8",
            "32b67a27f10f47db869f9640a05bd110",
            "ee2fd20706b34b73899b712c033303c6",
            "42d8973b6fa8440fa0d353e6ce91125d",
            "5e22836221de49de8ee12fbcab51e0e6",
            "fbb24c04c593447597b8459b91e248c7",
            "41edbe0f9087465ebe9c075889327e23",
            "666d2066464043d691b4a22c788a6c5c",
            "d6d7b6fa2d084c6b95e404853f65a290",
            "402bb75336334f6ab5dd925ad258e212",
            "aa8ed17ecf984b939dee1cf56226f46e",
            "b2295ec2c9cd47d583a5cb7f85f3db81",
            "8b995f84482d4b6da13122be1917ebd1",
            "4e5c8f8bcb48482aaa4c944956b83e46",
            "84c09caaa15d4b2ba3620b63ab811b18",
            "fd880fa56da64f25a2fe8f7273955730",
            "6ec12a2154cb44a88b5a47abb20d03c7",
            "8d24cafd36aa4854bb2e904cde355bb4",
            "fe532e86774445c1befef4f48ece2918",
            "0dd9d886e8b84da093499e33b90d711c",
            "c11e168c5da94f8bbc2b3c6c8af5de78",
            "79b68bfa43ec4098ad4483b1abd24b37",
            "c93da7127443465bbf24a7d786b054b0",
            "a8c4f743a00a4626bfa22bfdad479aa6",
            "52d1dbd96b5b4bf6b94b7223b33d52ed",
            "9670d52f21f14e25bad4acbe67f21341",
            "72665648dc774f50a0234366a8b80eb8",
            "f9b6afcf57304fd2af43ac1e8e2bec12",
            "b03578320814430c97511777f31ea5a7",
            "1dfa6c534d014f4e8e606fddc0f3090a",
            "6bfb932799d946fda0bc57aeb1a4b002",
            "e6319e39530b4e9288449d7b56e457a7",
            "54abcf9b5e0b406badf7df6bf41750d8",
            "9e060eb3a6a84f11ac3c4ad61acb03f5",
            "bb96e734a74a49cead291b785aa0a86a",
            "8e9f26631836496f9c3f4c86398d8934",
            "b732dc4585024b7c9306003e5230da0d",
            "133fe2dfd5a44e75b2058d22dcd7879e",
            "3d141781c6c54b82afa8ba84876d8891",
            "1de1191a37914f88b11bf7411a608180",
            "fc29e2272642480c9600970803c06a21",
            "be433e12f6c746af9d6c9510e02e4cc7",
            "e8ed9b7cea164bc6b84665adcab3578d",
            "027b539184754cecace58807ea9fc12f",
            "6076d6b51a874933bfed0298ad467d4d",
            "b0aede57d3b94c98b288b7715d107616",
            "4b3685929d0343d699bb85fd64dcca41",
            "24ad8112a862490e84a493aa05893b03",
            "61a32710a8b446d29e2552633ad5fd65",
            "e22dbc380077405399b96b6d38e77d31",
            "2c8a9ca575a649beb3acad374a04ac79",
            "79deff580d9d42778a953c4f70f101d2",
            "3f3c0d9d59b04c5d958354ce40bfc025",
            "6432b6906a9547e388195b13d86ab517",
            "c2c9e6f6b583440785e3f537cb326f34",
            "a493d8f44506484bb9a2a925e7046f7b",
            "b8fa6b740fad4d18aa0feef40ac0a08e",
            "2f13c6041b9b49feaffd1285f0546ad8",
            "2a05671548e540fdaf36ac53fc463346",
            "bca1b8fa97e24971aa07b3e2f9577c0a",
            "da45568215ef49c7be9a31114047c21c",
            "b43501b1d9c349dda7a492d9f17bcef5",
            "c6ac0fd202fe4ceeae2e60e37aa46e68",
            "be2db4e13ea24455a7e42b407c318a59",
            "82680dd55ecc456481eb89601ebc29c1",
            "affaf3d66249475bb1df54db78ac34e5",
            "2ba837c2c61741bb9e46eed6115b91d3",
            "5c1360c58f284bc59ce76b46538202d9"
          ]
        },
        "id": "UKCI5mgrBGhT",
        "outputId": "a9f17ae8-6798-45eb-af86-f195f602e035"
      },
      "outputs": [
        {
          "metadata": {
            "tags": null
          },
          "name": "stdout",
          "output_type": "stream",
          "text": [
            "Launching training on one GPU.\n"
          ]
        },
        {
          "data": {
            "application/vnd.jupyter.widget-view+json": {
              "model_id": "510902cc5cbf4d1eabc3e5040b46e1a9",
              "version_major": 2,
              "version_minor": 0
            },
            "text/plain": [
              "  0%|          | 0/1812 [00:00<?, ?it/s]"
            ]
          },
          "metadata": {},
          "output_type": "display_data"
        },
        {
          "metadata": {
            "tags": null
          },
          "name": "stderr",
          "output_type": "stream",
          "text": [
            "/usr/local/lib/python3.11/dist-packages/diffusers/configuration_utils.py:140: FutureWarning: Accessing config attribute `num_train_timesteps` directly via 'DDPMScheduler' object attribute is deprecated. Please access 'num_train_timesteps' over 'DDPMScheduler's config object instead, e.g. 'scheduler.config.num_train_timesteps'.\n",
            "  deprecate(\"direct config name access\", \"1.0.0\", deprecation_message, standard_warn=False)\n"
          ]
        },
        {
          "data": {
            "application/vnd.jupyter.widget-view+json": {
              "model_id": "091932e80f204cddbdd3452f927a7811",
              "version_major": 2,
              "version_minor": 0
            },
            "text/plain": [
              "  0%|          | 0/50 [00:00<?, ?it/s]"
            ]
          },
          "metadata": {},
          "output_type": "display_data"
        },
        {
          "data": {
            "application/vnd.jupyter.widget-view+json": {
              "model_id": "5fbdc574081e43c6b1c0ab4a684b9616",
              "version_major": 2,
              "version_minor": 0
            },
            "text/plain": [
              "  0%|          | 0/1812 [00:00<?, ?it/s]"
            ]
          },
          "metadata": {},
          "output_type": "display_data"
        },
        {
          "data": {
            "application/vnd.jupyter.widget-view+json": {
              "model_id": "92187abcf21b4400a9472090ca082f9b",
              "version_major": 2,
              "version_minor": 0
            },
            "text/plain": [
              "  0%|          | 0/50 [00:00<?, ?it/s]"
            ]
          },
          "metadata": {},
          "output_type": "display_data"
        },
        {
          "data": {
            "application/vnd.jupyter.widget-view+json": {
              "model_id": "b352e455444f44ca85b559f3b1f9d60a",
              "version_major": 2,
              "version_minor": 0
            },
            "text/plain": [
              "  0%|          | 0/1812 [00:00<?, ?it/s]"
            ]
          },
          "metadata": {},
          "output_type": "display_data"
        },
        {
          "data": {
            "application/vnd.jupyter.widget-view+json": {
              "model_id": "256269ff6283495cb57bb6737b01cb04",
              "version_major": 2,
              "version_minor": 0
            },
            "text/plain": [
              "  0%|          | 0/50 [00:00<?, ?it/s]"
            ]
          },
          "metadata": {},
          "output_type": "display_data"
        },
        {
          "data": {
            "application/vnd.jupyter.widget-view+json": {
              "model_id": "13d0677af83d476c987180d7365082f1",
              "version_major": 2,
              "version_minor": 0
            },
            "text/plain": [
              "  0%|          | 0/1812 [00:00<?, ?it/s]"
            ]
          },
          "metadata": {},
          "output_type": "display_data"
        },
        {
          "data": {
            "application/vnd.jupyter.widget-view+json": {
              "model_id": "db719ae1709c414bb7cfade12e6542e4",
              "version_major": 2,
              "version_minor": 0
            },
            "text/plain": [
              "  0%|          | 0/50 [00:00<?, ?it/s]"
            ]
          },
          "metadata": {},
          "output_type": "display_data"
        },
        {
          "data": {
            "application/vnd.jupyter.widget-view+json": {
              "model_id": "14de4f313ed143118898670f1ff1f173",
              "version_major": 2,
              "version_minor": 0
            },
            "text/plain": [
              "  0%|          | 0/1812 [00:00<?, ?it/s]"
            ]
          },
          "metadata": {},
          "output_type": "display_data"
        },
        {
          "data": {
            "application/vnd.jupyter.widget-view+json": {
              "model_id": "7ec28f5b825646bfb583fe785b7f85c1",
              "version_major": 2,
              "version_minor": 0
            },
            "text/plain": [
              "  0%|          | 0/50 [00:00<?, ?it/s]"
            ]
          },
          "metadata": {},
          "output_type": "display_data"
        },
        {
          "data": {
            "application/vnd.jupyter.widget-view+json": {
              "model_id": "646bde042d364e77bc0a46ffba6978f4",
              "version_major": 2,
              "version_minor": 0
            },
            "text/plain": [
              "  0%|          | 0/1812 [00:00<?, ?it/s]"
            ]
          },
          "metadata": {},
          "output_type": "display_data"
        },
        {
          "data": {
            "application/vnd.jupyter.widget-view+json": {
              "model_id": "a120a7d37bbe4c8a917884a749e08eed",
              "version_major": 2,
              "version_minor": 0
            },
            "text/plain": [
              "  0%|          | 0/50 [00:00<?, ?it/s]"
            ]
          },
          "metadata": {},
          "output_type": "display_data"
        },
        {
          "data": {
            "application/vnd.jupyter.widget-view+json": {
              "model_id": "9ff640332cac497a94f203dac295ba0c",
              "version_major": 2,
              "version_minor": 0
            },
            "text/plain": [
              "  0%|          | 0/1812 [00:00<?, ?it/s]"
            ]
          },
          "metadata": {},
          "output_type": "display_data"
        },
        {
          "data": {
            "application/vnd.jupyter.widget-view+json": {
              "model_id": "eb49729636124710b7c1e6462f9f709c",
              "version_major": 2,
              "version_minor": 0
            },
            "text/plain": [
              "  0%|          | 0/50 [00:00<?, ?it/s]"
            ]
          },
          "metadata": {},
          "output_type": "display_data"
        },
        {
          "data": {
            "application/vnd.jupyter.widget-view+json": {
              "model_id": "7effa249f2d34b7d8aa00d42a527ec9f",
              "version_major": 2,
              "version_minor": 0
            },
            "text/plain": [
              "  0%|          | 0/1812 [00:00<?, ?it/s]"
            ]
          },
          "metadata": {},
          "output_type": "display_data"
        },
        {
          "data": {
            "application/vnd.jupyter.widget-view+json": {
              "model_id": "47ea719f8caa4e719cecdffa8675f0d9",
              "version_major": 2,
              "version_minor": 0
            },
            "text/plain": [
              "  0%|          | 0/50 [00:00<?, ?it/s]"
            ]
          },
          "metadata": {},
          "output_type": "display_data"
        },
        {
          "data": {
            "application/vnd.jupyter.widget-view+json": {
              "model_id": "ab2b1dffa9a24244b1e1db14b0ba313b",
              "version_major": 2,
              "version_minor": 0
            },
            "text/plain": [
              "  0%|          | 0/1812 [00:00<?, ?it/s]"
            ]
          },
          "metadata": {},
          "output_type": "display_data"
        },
        {
          "data": {
            "application/vnd.jupyter.widget-view+json": {
              "model_id": "603b2e550ebd46b7b731dbe109bee7b6",
              "version_major": 2,
              "version_minor": 0
            },
            "text/plain": [
              "  0%|          | 0/50 [00:00<?, ?it/s]"
            ]
          },
          "metadata": {},
          "output_type": "display_data"
        },
        {
          "data": {
            "application/vnd.jupyter.widget-view+json": {
              "model_id": "88d4adf1ccf44598ba2f15542dbf7418",
              "version_major": 2,
              "version_minor": 0
            },
            "text/plain": [
              "  0%|          | 0/1812 [00:00<?, ?it/s]"
            ]
          },
          "metadata": {},
          "output_type": "display_data"
        },
        {
          "data": {
            "application/vnd.jupyter.widget-view+json": {
              "model_id": "6c025471ff5e42db9ca0f8625f5ee693",
              "version_major": 2,
              "version_minor": 0
            },
            "text/plain": [
              "  0%|          | 0/50 [00:00<?, ?it/s]"
            ]
          },
          "metadata": {},
          "output_type": "display_data"
        },
        {
          "data": {
            "application/vnd.jupyter.widget-view+json": {
              "model_id": "343a040467a94880b58a776a271d6e79",
              "version_major": 2,
              "version_minor": 0
            },
            "text/plain": [
              "  0%|          | 0/1812 [00:00<?, ?it/s]"
            ]
          },
          "metadata": {},
          "output_type": "display_data"
        },
        {
          "data": {
            "application/vnd.jupyter.widget-view+json": {
              "model_id": "e2b15f7ef59341fa9d40c5c5e3abe3ba",
              "version_major": 2,
              "version_minor": 0
            },
            "text/plain": [
              "  0%|          | 0/50 [00:00<?, ?it/s]"
            ]
          },
          "metadata": {},
          "output_type": "display_data"
        },
        {
          "data": {
            "application/vnd.jupyter.widget-view+json": {
              "model_id": "0b0816d64ed94d1180c0615c0039b621",
              "version_major": 2,
              "version_minor": 0
            },
            "text/plain": [
              "  0%|          | 0/1812 [00:00<?, ?it/s]"
            ]
          },
          "metadata": {},
          "output_type": "display_data"
        },
        {
          "data": {
            "application/vnd.jupyter.widget-view+json": {
              "model_id": "0f7088e4da604565bb6686fd9e48d3ed",
              "version_major": 2,
              "version_minor": 0
            },
            "text/plain": [
              "  0%|          | 0/50 [00:00<?, ?it/s]"
            ]
          },
          "metadata": {},
          "output_type": "display_data"
        },
        {
          "data": {
            "application/vnd.jupyter.widget-view+json": {
              "model_id": "14fb2ed0cf4e483a9fcda15ed3c4ba2b",
              "version_major": 2,
              "version_minor": 0
            },
            "text/plain": [
              "  0%|          | 0/1812 [00:00<?, ?it/s]"
            ]
          },
          "metadata": {},
          "output_type": "display_data"
        },
        {
          "data": {
            "application/vnd.jupyter.widget-view+json": {
              "model_id": "c8a337ee08d047db81a2461d204760e1",
              "version_major": 2,
              "version_minor": 0
            },
            "text/plain": [
              "  0%|          | 0/50 [00:00<?, ?it/s]"
            ]
          },
          "metadata": {},
          "output_type": "display_data"
        },
        {
          "data": {
            "application/vnd.jupyter.widget-view+json": {
              "model_id": "2c89a76ed21342b7bfc197f9fbe11521",
              "version_major": 2,
              "version_minor": 0
            },
            "text/plain": [
              "  0%|          | 0/1812 [00:00<?, ?it/s]"
            ]
          },
          "metadata": {},
          "output_type": "display_data"
        },
        {
          "data": {
            "application/vnd.jupyter.widget-view+json": {
              "model_id": "e2273067ad4949209120613ef6a5e139",
              "version_major": 2,
              "version_minor": 0
            },
            "text/plain": [
              "  0%|          | 0/50 [00:00<?, ?it/s]"
            ]
          },
          "metadata": {},
          "output_type": "display_data"
        },
        {
          "data": {
            "application/vnd.jupyter.widget-view+json": {
              "model_id": "e88b5a4150ab4ed79043670cd00a02dd",
              "version_major": 2,
              "version_minor": 0
            },
            "text/plain": [
              "  0%|          | 0/1812 [00:00<?, ?it/s]"
            ]
          },
          "metadata": {},
          "output_type": "display_data"
        },
        {
          "data": {
            "application/vnd.jupyter.widget-view+json": {
              "model_id": "454d437290cb48da98ec30543c61013a",
              "version_major": 2,
              "version_minor": 0
            },
            "text/plain": [
              "  0%|          | 0/50 [00:00<?, ?it/s]"
            ]
          },
          "metadata": {},
          "output_type": "display_data"
        },
        {
          "data": {
            "application/vnd.jupyter.widget-view+json": {
              "model_id": "f75d80bd34684d49b3942de9953a0ebc",
              "version_major": 2,
              "version_minor": 0
            },
            "text/plain": [
              "  0%|          | 0/1812 [00:00<?, ?it/s]"
            ]
          },
          "metadata": {},
          "output_type": "display_data"
        },
        {
          "data": {
            "application/vnd.jupyter.widget-view+json": {
              "model_id": "32f8e4eb6c554eea831a29c8c07249c0",
              "version_major": 2,
              "version_minor": 0
            },
            "text/plain": [
              "  0%|          | 0/50 [00:00<?, ?it/s]"
            ]
          },
          "metadata": {},
          "output_type": "display_data"
        },
        {
          "data": {
            "application/vnd.jupyter.widget-view+json": {
              "model_id": "6dfe87cca5b94e5a967e3c5bb714063f",
              "version_major": 2,
              "version_minor": 0
            },
            "text/plain": [
              "  0%|          | 0/1812 [00:00<?, ?it/s]"
            ]
          },
          "metadata": {},
          "output_type": "display_data"
        },
        {
          "data": {
            "application/vnd.jupyter.widget-view+json": {
              "model_id": "ddcfdb78b7544780943454313c74a8a4",
              "version_major": 2,
              "version_minor": 0
            },
            "text/plain": [
              "  0%|          | 0/50 [00:00<?, ?it/s]"
            ]
          },
          "metadata": {},
          "output_type": "display_data"
        },
        {
          "data": {
            "application/vnd.jupyter.widget-view+json": {
              "model_id": "ce570db4c28043cc8076f89ab990f059",
              "version_major": 2,
              "version_minor": 0
            },
            "text/plain": [
              "  0%|          | 0/1812 [00:00<?, ?it/s]"
            ]
          },
          "metadata": {},
          "output_type": "display_data"
        },
        {
          "data": {
            "application/vnd.jupyter.widget-view+json": {
              "model_id": "563e64bc24a34e74bf1b9ce749c8490a",
              "version_major": 2,
              "version_minor": 0
            },
            "text/plain": [
              "  0%|          | 0/50 [00:00<?, ?it/s]"
            ]
          },
          "metadata": {},
          "output_type": "display_data"
        },
        {
          "data": {
            "application/vnd.jupyter.widget-view+json": {
              "model_id": "6ba8076333774c9ab608f2884fe21e20",
              "version_major": 2,
              "version_minor": 0
            },
            "text/plain": [
              "  0%|          | 0/1812 [00:00<?, ?it/s]"
            ]
          },
          "metadata": {},
          "output_type": "display_data"
        },
        {
          "data": {
            "application/vnd.jupyter.widget-view+json": {
              "model_id": "271bedf1f5ae4cd8955f23e7e136e4af",
              "version_major": 2,
              "version_minor": 0
            },
            "text/plain": [
              "  0%|          | 0/50 [00:00<?, ?it/s]"
            ]
          },
          "metadata": {},
          "output_type": "display_data"
        },
        {
          "data": {
            "application/vnd.jupyter.widget-view+json": {
              "model_id": "608ebd20c89a4d539575b258ae1f26ee",
              "version_major": 2,
              "version_minor": 0
            },
            "text/plain": [
              "  0%|          | 0/1812 [00:00<?, ?it/s]"
            ]
          },
          "metadata": {},
          "output_type": "display_data"
        },
        {
          "data": {
            "application/vnd.jupyter.widget-view+json": {
              "model_id": "f9e98982b1fa4260a8b68c247e198ef9",
              "version_major": 2,
              "version_minor": 0
            },
            "text/plain": [
              "  0%|          | 0/50 [00:00<?, ?it/s]"
            ]
          },
          "metadata": {},
          "output_type": "display_data"
        },
        {
          "data": {
            "application/vnd.jupyter.widget-view+json": {
              "model_id": "a9fbd7b4a16f4902b225db1e02349537",
              "version_major": 2,
              "version_minor": 0
            },
            "text/plain": [
              "  0%|          | 0/1812 [00:00<?, ?it/s]"
            ]
          },
          "metadata": {},
          "output_type": "display_data"
        },
        {
          "data": {
            "application/vnd.jupyter.widget-view+json": {
              "model_id": "c480f95b7bc6414b847f7840392e9151",
              "version_major": 2,
              "version_minor": 0
            },
            "text/plain": [
              "  0%|          | 0/50 [00:00<?, ?it/s]"
            ]
          },
          "metadata": {},
          "output_type": "display_data"
        },
        {
          "data": {
            "application/vnd.jupyter.widget-view+json": {
              "model_id": "efe06fdeba1f4a3aae696afc89527271",
              "version_major": 2,
              "version_minor": 0
            },
            "text/plain": [
              "  0%|          | 0/1812 [00:00<?, ?it/s]"
            ]
          },
          "metadata": {},
          "output_type": "display_data"
        },
        {
          "data": {
            "application/vnd.jupyter.widget-view+json": {
              "model_id": "39ba85f71c824708969126e77b67f9ad",
              "version_major": 2,
              "version_minor": 0
            },
            "text/plain": [
              "  0%|          | 0/50 [00:00<?, ?it/s]"
            ]
          },
          "metadata": {},
          "output_type": "display_data"
        },
        {
          "data": {
            "application/vnd.jupyter.widget-view+json": {
              "model_id": "55deb3100c5248d8ab714e0d1992fb2c",
              "version_major": 2,
              "version_minor": 0
            },
            "text/plain": [
              "  0%|          | 0/1812 [00:00<?, ?it/s]"
            ]
          },
          "metadata": {},
          "output_type": "display_data"
        },
        {
          "data": {
            "application/vnd.jupyter.widget-view+json": {
              "model_id": "0bcac0c5c7fc4c1eb4f191673690f22e",
              "version_major": 2,
              "version_minor": 0
            },
            "text/plain": [
              "  0%|          | 0/50 [00:00<?, ?it/s]"
            ]
          },
          "metadata": {},
          "output_type": "display_data"
        },
        {
          "data": {
            "application/vnd.jupyter.widget-view+json": {
              "model_id": "77889d0dfaf6448cbbb1ba611d99e566",
              "version_major": 2,
              "version_minor": 0
            },
            "text/plain": [
              "  0%|          | 0/1812 [00:00<?, ?it/s]"
            ]
          },
          "metadata": {},
          "output_type": "display_data"
        },
        {
          "data": {
            "application/vnd.jupyter.widget-view+json": {
              "model_id": "9107d555ffeb477fa912659bd75a3420",
              "version_major": 2,
              "version_minor": 0
            },
            "text/plain": [
              "  0%|          | 0/50 [00:00<?, ?it/s]"
            ]
          },
          "metadata": {},
          "output_type": "display_data"
        },
        {
          "output_type": "display_data",
          "data": {
            "text/plain": [
              "  0%|          | 0/1812 [00:00<?, ?it/s]"
            ],
            "application/vnd.jupyter.widget-view+json": {
              "version_major": 2,
              "version_minor": 0,
              "model_id": "c50ff7d891e843a59c03dba4d3bf795f"
            }
          },
          "metadata": {}
        },
        {
          "output_type": "display_data",
          "data": {
            "text/plain": [
              "  0%|          | 0/50 [00:00<?, ?it/s]"
            ],
            "application/vnd.jupyter.widget-view+json": {
              "version_major": 2,
              "version_minor": 0,
              "model_id": "d913744d86bf46e19c80ae42d8c15a9c"
            }
          },
          "metadata": {}
        },
        {
          "output_type": "display_data",
          "data": {
            "text/plain": [
              "  0%|          | 0/1812 [00:00<?, ?it/s]"
            ],
            "application/vnd.jupyter.widget-view+json": {
              "version_major": 2,
              "version_minor": 0,
              "model_id": "b2a5f90a54ce45828bc1f371bc3c571f"
            }
          },
          "metadata": {}
        },
        {
          "output_type": "display_data",
          "data": {
            "text/plain": [
              "  0%|          | 0/50 [00:00<?, ?it/s]"
            ],
            "application/vnd.jupyter.widget-view+json": {
              "version_major": 2,
              "version_minor": 0,
              "model_id": "363447378e5c4d728ce19750cb693499"
            }
          },
          "metadata": {}
        },
        {
          "output_type": "display_data",
          "data": {
            "text/plain": [
              "  0%|          | 0/1812 [00:00<?, ?it/s]"
            ],
            "application/vnd.jupyter.widget-view+json": {
              "version_major": 2,
              "version_minor": 0,
              "model_id": "f64e74a34bb74681bb8dc2a13e2c030e"
            }
          },
          "metadata": {}
        },
        {
          "output_type": "display_data",
          "data": {
            "text/plain": [
              "  0%|          | 0/50 [00:00<?, ?it/s]"
            ],
            "application/vnd.jupyter.widget-view+json": {
              "version_major": 2,
              "version_minor": 0,
              "model_id": "3c44e41cd9e04a1d921e5c4df5058f6b"
            }
          },
          "metadata": {}
        },
        {
          "output_type": "display_data",
          "data": {
            "text/plain": [
              "  0%|          | 0/1812 [00:00<?, ?it/s]"
            ],
            "application/vnd.jupyter.widget-view+json": {
              "version_major": 2,
              "version_minor": 0,
              "model_id": "ee2fd20706b34b73899b712c033303c6"
            }
          },
          "metadata": {}
        },
        {
          "output_type": "display_data",
          "data": {
            "text/plain": [
              "  0%|          | 0/50 [00:00<?, ?it/s]"
            ],
            "application/vnd.jupyter.widget-view+json": {
              "version_major": 2,
              "version_minor": 0,
              "model_id": "4e5c8f8bcb48482aaa4c944956b83e46"
            }
          },
          "metadata": {}
        },
        {
          "output_type": "display_data",
          "data": {
            "text/plain": [
              "  0%|          | 0/1812 [00:00<?, ?it/s]"
            ],
            "application/vnd.jupyter.widget-view+json": {
              "version_major": 2,
              "version_minor": 0,
              "model_id": "52d1dbd96b5b4bf6b94b7223b33d52ed"
            }
          },
          "metadata": {}
        },
        {
          "output_type": "display_data",
          "data": {
            "text/plain": [
              "  0%|          | 0/50 [00:00<?, ?it/s]"
            ],
            "application/vnd.jupyter.widget-view+json": {
              "version_major": 2,
              "version_minor": 0,
              "model_id": "8e9f26631836496f9c3f4c86398d8934"
            }
          },
          "metadata": {}
        },
        {
          "output_type": "display_data",
          "data": {
            "text/plain": [
              "  0%|          | 0/1812 [00:00<?, ?it/s]"
            ],
            "application/vnd.jupyter.widget-view+json": {
              "version_major": 2,
              "version_minor": 0,
              "model_id": "4b3685929d0343d699bb85fd64dcca41"
            }
          },
          "metadata": {}
        },
        {
          "output_type": "display_data",
          "data": {
            "text/plain": [
              "  0%|          | 0/50 [00:00<?, ?it/s]"
            ],
            "application/vnd.jupyter.widget-view+json": {
              "version_major": 2,
              "version_minor": 0,
              "model_id": "2f13c6041b9b49feaffd1285f0546ad8"
            }
          },
          "metadata": {}
        }
      ],
      "source": [
        "from accelerate import notebook_launcher\n",
        "\n",
        "args = (config, model, noise_scheduler, optimizer, train_dataloader, lr_scheduler)\n",
        "notebook_launcher(train_loop, args, num_processes=1)"
      ]
    },
    {
      "cell_type": "markdown",
      "metadata": {
        "id": "mLcitA0uXnpT"
      },
      "source": [
        "### Step 11: Sample from trained diffusion model\n",
        "\n",
        "Loads a pretrained DDPMPipeline from epoch99 of a local model directory (likely trained on glyphs or characters).\n",
        "\n",
        "Moves the model to GPU.\n",
        "\n",
        "Sets the scheduler to DPMSolverMultistepScheduler, which controls the denoising steps during sampling.\n",
        "\n",
        "Generates 16 images in one batch.\n",
        "\n",
        "Uses a fixed random seed (config.seed) for reproducibility.\n",
        "\n",
        "Uses 50 diffusion steps to sample clean images from noise.\n",
        "\n",
        "Arranges the 16 images into a 4x4 grid.\n",
        "\n",
        "Creates a samples folder inside your config.output_dir.\n",
        "\n",
        "Saves the resulting image grid as samples.png."
      ]
    },
    {
      "cell_type": "code",
      "execution_count": null,
      "metadata": {
        "id": "T3hJns34BPLd",
        "colab": {
          "base_uri": "https://localhost:8080/",
          "height": 81,
          "referenced_widgets": [
            "851249fcd06f451388357f0d72a13561",
            "cb6ec7f0060942b69b7e02d944ae0883",
            "13e9d6b8ebcb4eda821b73c39eaafcb2",
            "628bbb0e984743648eb9cb42230d885f",
            "6b8054b7340347c0bf2eaf9a9a702126",
            "fa7e0a7bfd7e433a98db83c811d3a31e",
            "47ab7856b26a4cab890b891640ea2090",
            "833339ba385c4d92a483bcf7bd7eb2d2",
            "1767ab44bc0d4d8db4a613bb426a9942",
            "0197f37284014b9d90131e58c7f00585",
            "8a2fb7d72a004b5c8dad421579eb7d59",
            "2128cd40dca94faabb3a7ed2cb66f25a",
            "65edf698f98e404b959aba3879f84175",
            "c0b4f3633b514399be7c0748870c174e",
            "d4d2f6ee5e0b4fd1b4d2bb6db11c6848",
            "e1393d727c0d4434bd03da247c653329",
            "6b54f09510aa455cb1f3a03c56c6da1d",
            "bc171bf3fe644b6483440ad0fc746604",
            "8ae2c42e3dd041738dc88f44b3e300ad",
            "388d7d5a31774dd3b065e36bdbc8f449",
            "eb66916f9558430a952ef91b625d509d",
            "69764b975a2f4647a76f245ac2ca075c"
          ]
        },
        "outputId": "c0066d6b-5861-473e-aab5-7ec6713fbfbf"
      },
      "outputs": [
        {
          "output_type": "display_data",
          "data": {
            "text/plain": [
              "Loading pipeline components...:   0%|          | 0/2 [00:00<?, ?it/s]"
            ],
            "application/vnd.jupyter.widget-view+json": {
              "version_major": 2,
              "version_minor": 0,
              "model_id": "851249fcd06f451388357f0d72a13561"
            }
          },
          "metadata": {}
        },
        {
          "output_type": "display_data",
          "data": {
            "text/plain": [
              "  0%|          | 0/50 [00:00<?, ?it/s]"
            ],
            "application/vnd.jupyter.widget-view+json": {
              "version_major": 2,
              "version_minor": 0,
              "model_id": "2128cd40dca94faabb3a7ed2cb66f25a"
            }
          },
          "metadata": {}
        }
      ],
      "source": [
        "model_path = \"glyffuser-unconditional/epoch29\"  # Path to the specific epoch model directory# Path to the model directory\n",
        "pipeline = DDPMPipeline.from_pretrained(model_path).to(\"cuda\")\n",
        "pipeline.scheduler = DPMSolverMultistepScheduler()\n",
        "\n",
        "# Sample from the model and save the images in a grid\n",
        "images = pipeline(\n",
        "    batch_size=16,\n",
        "    generator=torch.Generator(device='cuda').manual_seed(config.seed), # Generator can be on GPU here\n",
        "    num_inference_steps=50\n",
        ").images\n",
        "\n",
        "# Make a grid out of the inverted images\n",
        "image_grid = make_grid(images, rows=4, cols=4)\n",
        "\n",
        "# Save the images\n",
        "test_dir = os.path.join(config.output_dir, \"samples\")\n",
        "os.makedirs(test_dir, exist_ok=True)\n",
        "image_grid.save(f\"{test_dir}/samples.png\")"
      ]
    },
    {
      "cell_type": "markdown",
      "metadata": {
        "id": "2JeENU5RYGwM"
      },
      "source": [
        "### Step 12: Visualize model generated images"
      ]
    },
    {
      "cell_type": "code",
      "execution_count": null,
      "metadata": {
        "id": "pGa7pruCUaTV",
        "colab": {
          "base_uri": "https://localhost:8080/",
          "height": 461,
          "referenced_widgets": [
            "2f900d57d7724195aecb05fddeefa1dc",
            "8b08447771274d43b8616346896a5c9c",
            "c78be75c186742cb91b783b154f1e13c",
            "828f9c71c7b54a3c8cba3026fe8f5103",
            "883100b271974c24a2b7cce99099c61a",
            "dbc7d337cc664a49ae7175a28347a48d",
            "7a3a76daeab74929982164e754e0b056",
            "3f78996696954f849d80c68864a21bf4",
            "4124bab57cc64c558c034f3b521973ac",
            "d74f1ea7822a46b4bd0918ad2c37c11f",
            "94a0e2f0c30045b4a6aeefdecb0e7982",
            "b9a2f6387b04468d9ce14145269bfe2c",
            "72f19358dedf4e669073cb1a6dd56ea2",
            "0ada3240b7a147b9a17847be86e3f26e",
            "cecc00a71bd34672b2f00a550c544f63",
            "496c3081968a405ea4eaf2766b7d3af0",
            "a511f4cdfd9d4ffaa3194f5f274a2917",
            "559e6afc872d4ad186513a228355d5bc",
            "cebcddac7801447aa34ac03c6aec61b4",
            "af291d8413904865a848f60b39e37b75",
            "f9b0b23e3a334747b807b41440de2b36",
            "5e213f2e93b24b99ae0b91549e1e592c",
            "8e3460439dfc4bf9b866ee8ee66da618",
            "432d82cadce8472298b3313556c8124b",
            "89cacf2809e54697a1df3425a8e85ebc",
            "344d25d8b5a8430e9209d42a7953b153",
            "f5432609ab944cf6a7b32737a3050d77",
            "179aaa54e0bd4c3f86089d36c0e6bb3f",
            "87c18a66d56f48a1a36934f9de6c7dd3",
            "5b1a26d3699849f3a8b8de72ed54a4be",
            "d441b14232434699819b703c5ab9e129",
            "b9137923acb94bcd839ddf81de0e77ae",
            "703a7eb8e701489bb963d26ab5d4d0b8",
            "03731c1f31584f96b270699c2944832f",
            "7ef0b30f23cf4edbb0531039b93f244c",
            "89eb8514a0524aa1872e9292cf7808b8",
            "e77fc132817a4b2b9d2564e36e99913b",
            "67eaa1e816374ae0b2bc9522c62ae1ce",
            "b485504c533b4ad0a787dfeab48aa99c",
            "66e7b4e5bb814dce8e6b4d704b12158f",
            "37cf8b8cf01241a2818baef919fbc8b7",
            "0de977285e684785a9c67f76d331a52c",
            "4f84688499ce4c54ac9c54f745a4c6ca",
            "d5f72a50aff74d2f934df15f2a57b5eb",
            "8e444a7165954564abe088f4231c9453",
            "9a9c2fd382ba4abc83126feb5b068b99",
            "56389291e5cc41dbb045a5130c4f2fd9",
            "94a5be964fd049f7a41d17bae3fec805",
            "a8781094df6240059b8f41e7f5e8d415",
            "a7ac62bf1e224d58a6efc65e0126d4fb",
            "5f2e3d7eb14a467bbca6d3bc6c5fb4cc",
            "159a16d918e54f66825b2fc223c6f8d9",
            "e169e0fd2fe04161a1a5d6142af28dde",
            "04512ea38e214d8c89f6a2b624cc4b87",
            "64a9fbc784e24ba0b59325461d906fdd",
            "340e8d75fc8d4726be7dde301efd0562",
            "93e46a0baa384e9e8cd7f6a1eff1173d",
            "122a8488c9fc4a95942278dd85731dbc",
            "f198eccd8cb14deca382738324be301d",
            "8f0beae13573466b8aa742896ff3e19c",
            "b4bb49f3d0f94e479e3a6d29121a02ae",
            "637af4b861524944818850fa93a1a684",
            "fd47f023e4314795b4345e2043096e8e",
            "2252c9df236b45d88d35225f3919c354",
            "43df0fa90124410c92b383cd98df5f1c",
            "767fec1f76164cef8428fd982d8245a6",
            "2999c32f2cfb4940a0023c2d1c6d204c",
            "89391dfafcbe4e3abefa684dd895d1ee",
            "c5b16ac07bdc4e958fa841475480fe76",
            "32e7dfccbd1f42f383a3ece7efe4e5cb",
            "d5acfc7f8c484ad2b3b47ca10769a036",
            "9c6952a083dc478f854fcec67c609ceb",
            "3181af43c5cc4a8181514c98ee3b61ad",
            "81dc1b11021b48c6a17027f2ba24d5d1",
            "ba2597963b3043c3908916fd45454abe",
            "54605c3e12fa413a85f42320d42e1710",
            "df5c162213c348e4bfd8621f103309c3",
            "4c5e1792c9004540a783695bf1e0c176",
            "372ceb27bb154d88b803db521993771b",
            "273c69b679df404e87e599301f9f3989",
            "328ab5337d4444898c322db100213c09",
            "cee0acc3a3e6407585559e4e15a49919",
            "027182786a214ff39ffa66da84cdac7c",
            "0b362be4a26e4c989f2ba360da6f293f",
            "e266f9abe9a5422ebc8e03b56a38d9e5",
            "3a16415603e943eeb19c7ba8d33b59ff",
            "52b0579335fc4a5f8cc43f8a12cc9485",
            "6b36e87840d840e590cba854972b5dee"
          ]
        },
        "outputId": "c963864d-afcf-4b1a-f5b2-2f25421bb53d"
      },
      "outputs": [
        {
          "output_type": "display_data",
          "data": {
            "text/plain": [
              "Loading pipeline components...:   0%|          | 0/2 [00:00<?, ?it/s]"
            ],
            "application/vnd.jupyter.widget-view+json": {
              "version_major": 2,
              "version_minor": 0,
              "model_id": "2f900d57d7724195aecb05fddeefa1dc"
            }
          },
          "metadata": {}
        },
        {
          "output_type": "display_data",
          "data": {
            "text/plain": [
              "  0%|          | 0/1 [00:00<?, ?it/s]"
            ],
            "application/vnd.jupyter.widget-view+json": {
              "version_major": 2,
              "version_minor": 0,
              "model_id": "b9a2f6387b04468d9ce14145269bfe2c"
            }
          },
          "metadata": {}
        },
        {
          "output_type": "display_data",
          "data": {
            "text/plain": [
              "  0%|          | 0/2 [00:00<?, ?it/s]"
            ],
            "application/vnd.jupyter.widget-view+json": {
              "version_major": 2,
              "version_minor": 0,
              "model_id": "8e3460439dfc4bf9b866ee8ee66da618"
            }
          },
          "metadata": {}
        },
        {
          "output_type": "display_data",
          "data": {
            "text/plain": [
              "  0%|          | 0/3 [00:00<?, ?it/s]"
            ],
            "application/vnd.jupyter.widget-view+json": {
              "version_major": 2,
              "version_minor": 0,
              "model_id": "03731c1f31584f96b270699c2944832f"
            }
          },
          "metadata": {}
        },
        {
          "output_type": "display_data",
          "data": {
            "text/plain": [
              "  0%|          | 0/5 [00:00<?, ?it/s]"
            ],
            "application/vnd.jupyter.widget-view+json": {
              "version_major": 2,
              "version_minor": 0,
              "model_id": "8e444a7165954564abe088f4231c9453"
            }
          },
          "metadata": {}
        },
        {
          "output_type": "display_data",
          "data": {
            "text/plain": [
              "  0%|          | 0/10 [00:00<?, ?it/s]"
            ],
            "application/vnd.jupyter.widget-view+json": {
              "version_major": 2,
              "version_minor": 0,
              "model_id": "340e8d75fc8d4726be7dde301efd0562"
            }
          },
          "metadata": {}
        },
        {
          "output_type": "display_data",
          "data": {
            "text/plain": [
              "  0%|          | 0/20 [00:00<?, ?it/s]"
            ],
            "application/vnd.jupyter.widget-view+json": {
              "version_major": 2,
              "version_minor": 0,
              "model_id": "2999c32f2cfb4940a0023c2d1c6d204c"
            }
          },
          "metadata": {}
        },
        {
          "output_type": "display_data",
          "data": {
            "text/plain": [
              "  0%|          | 0/50 [00:00<?, ?it/s]"
            ],
            "application/vnd.jupyter.widget-view+json": {
              "version_major": 2,
              "version_minor": 0,
              "model_id": "4c5e1792c9004540a783695bf1e0c176"
            }
          },
          "metadata": {}
        },
        {
          "output_type": "display_data",
          "data": {
            "text/plain": [
              "<PIL.Image.Image image mode=RGB size=896x188>"
            ],
            "image/png": "[encoded data removed]",
            "image/jpeg": "[encoded data removed]"
          },
          "metadata": {}
        }
      ],
      "source": [
        "from diffusers import DPMSolverMultistepScheduler, DDPMPipeline\n",
        "from PIL import Image, ImageDraw, ImageFont\n",
        "import torch\n",
        "\n",
        "def make_labeled_grid(images, prompt, steps, font_path=None, font_size=20, margin=10):\n",
        "    assert len(images) == len(steps), \"The number of images must match the number of steps\"\n",
        "\n",
        "    w, h = images[0].size\n",
        "    font = ImageFont.truetype(font_path, font_size) if font_path else ImageFont.load_default()\n",
        "\n",
        "    # Calculate the height of the grid including the margin for text\n",
        "    total_height = h + margin + font_size\n",
        "    total_width = w * len(images)\n",
        "    grid_height = total_height + margin + font_size  # Add extra margin for the prompt\n",
        "    grid = Image.new('RGB', size=(total_width, grid_height), color=(255, 255, 255))\n",
        "    # Draw the text prompt at the top\n",
        "    draw = ImageDraw.Draw(grid)\n",
        "    prompt_text = f\"Prompt: \\\"{prompt}\\\"\"\n",
        "    prompt_width, prompt_height = draw.textbbox((0, 0), prompt_text, font=font)[2:4]\n",
        "    prompt_x = (total_width - prompt_width) / 2\n",
        "    prompt_y = margin / 2\n",
        "    draw.text((prompt_x, prompt_y), prompt_text, fill=\"black\", font=font)\n",
        "\n",
        "    for i, (image, step) in enumerate(zip(images, steps)):\n",
        "        # Calculate position to paste the image\n",
        "        x = i * w\n",
        "        y = margin + font_size\n",
        "\n",
        "        # Paste the image\n",
        "        grid.paste(image, box=(x, y))\n",
        "\n",
        "        # Draw the step text\n",
        "        step_text = f\"Steps: {step}\"\n",
        "        text_width, text_height = draw.textbbox((0, 0), step_text, font=font)[2:4]\n",
        "        text_x = x + (w - text_width) / 2\n",
        "        text_y = y + h + margin / 2 - 8\n",
        "        draw.text((text_x, text_y), step_text, fill=\"black\", font=font)\n",
        "    return grid\n",
        "\n",
        "# Initialize the model pipeline using your local model\n",
        "model_path = \"glyffuser-unconditional/epoch29\"  # Path to your trained model\n",
        "pipeline = DDPMPipeline.from_pretrained(model_path).to(\"cuda\")\n",
        "pipeline.scheduler = DPMSolverMultistepScheduler()\n",
        "\n",
        "# Define the number of steps to visualize\n",
        "num_inference_steps_list = [1, 2, 3, 5, 10, 20, 50]\n",
        "\n",
        "images = []\n",
        "\n",
        "# Generate images for each value in num_inference_steps_list\n",
        "for num_steps in num_inference_steps_list:\n",
        "    generated_images = pipeline(\n",
        "        batch_size=1,\n",
        "        generator=torch.Generator(device='cuda').manual_seed(0),\n",
        "        num_inference_steps=num_steps\n",
        "    ).images\n",
        "    images.append(generated_images[0])  # Append the generated image\n",
        "\n",
        "# Create the labeled grid with a descriptive prompt since this is an unconditional model\n",
        "prompt = \"Unconditional Diffusion Model Output\"\n",
        "image_grid = make_labeled_grid(images, prompt, num_inference_steps_list)\n",
        "\n",
        "# Show the grid\n",
        "from IPython.display import display\n",
        "display(image_grid)\n",
        "\n",
        "# Save the image grid\n",
        "image_grid.save(\"diffusion_steps_visualization30.png\")"
      ]
    },
    {
      "cell_type": "markdown",
      "metadata": {
        "id": "a8l6iv4iYRcD"
      },
      "source": [
        "### Step 13: Create animated visualization"
      ]
    },
    {
      "cell_type": "code",
      "execution_count": null,
      "metadata": {
        "id": "LKf-_SwnUvtu",
        "colab": {
          "base_uri": "https://localhost:8080/",
          "height": 1000,
          "referenced_widgets": [
            "d926f92d8ffb448aa6171b36d3aff847",
            "e922d664849e457193fd7afb3de9c95f",
            "58d756d6cbe245029e40141e702074b6",
            "b84f943de1344b4ea0ee5b3dd06fe737",
            "b212ae133d7d4d679e802a9b67772b7a",
            "df65b825de914d109f59e9891b662145",
            "631b95f548434bbfa7f44a91827df559",
            "88e0fecfd6bb4903b61380c00513b3d1",
            "48719f74060248dd997edec2dbee20f7",
            "7c92d9393225423f80abb183076207c0",
            "fd3470bb3669482c8ad8653eb86649f7",
            "1421bb4bc95143b3b462e45b0d0645bd",
            "b6ed87f38fff4c28a034b879a9aa7349",
            "3290de84722343f4ad3bc6c2bffa76c9",
            "3e47de95250d4b6abd05b78a667ee5f7",
            "6085b99264554e18802c5d3b580b419f",
            "9a71214eb0d0432f92cd8cb07276de29",
            "d8e0ac4cb74a49ebb2edc70ab6d7f7a7",
            "10c9ad08d8f4400783b4d01561d7879b",
            "85c2591575ef4170841ff5b573bed823",
            "46dd5769b6ea4094810e1b853596e8f5",
            "30760b2539524f5c8de1e0d7f8df7288",
            "8ffe2cdd7a4b4631ba7427e4aed4d227",
            "fe87e4813bfd4297833d534f58a15992",
            "bdeeff31d47d488195ef9bd6a2514201",
            "11b0990c7f3f4bbea1c3f6829f2319c3",
            "3dfb0f3bc9ed46c2b42ee8acbffbed3c",
            "e428e804fe3c4f6e96ead852d4a614aa",
            "729d9f3c2ad4450a82036000eec0e81f",
            "dd5ed0fedf804290aebaed2bf97ef990",
            "e28360a912034121856c43da5854bb1f",
            "90488e7a18c249529c35bc6e83e42abd",
            "7b520e305c724d9da84a91a91c00db87",
            "b7ce42f45ca64e4b8a90a7e85cd0bcf3",
            "becdd86de9b04b0d998c7d367c883303",
            "53c5057a82b74fab91462036b367f2c1",
            "928d356ac2ea4a4c9fe6e0731449c1b4",
            "018dba28680f47708ba9637cea676ea6",
            "5fbc0159e57d4aea86a9037403c93f22",
            "dd5887ae1c9942c8aeacc2cdfe32090d",
            "92724714f0fe4a3cbbe327de308e9bb9",
            "5f05e3b808294dd9abbf883cb72ec69f",
            "1816561738e4471d9b5abc793d94b560",
            "c4c4ec8ff541463799b9e268e0793c4f",
            "6b4692b8f9594f388c3ea34576ed996b",
            "c50d8a5bca9643c3b820cef387fa0af1",
            "894fdb90907547128f4aef216476c716",
            "6ae4fd990fa6423397fc5939b7b1453f",
            "7d35512e1ef24c2b943fe84f1a51f234",
            "d1b597a2aa4a413984989e5c9b6d17ed",
            "103cc1b332aa4ce4afd36ee568fa6a38",
            "2b01979754c34cab89f4b5dc2895ade6",
            "852c09b8cdc54dcebd9d7d527e011f78",
            "16a1831fc09341d3bf53a2040b807034",
            "1286dd04e004418ea1b746f8b23e1d3a",
            "b159b76eba5b43bb8249d6a752aabd85",
            "d196713c7ede4c189707fa780cc353cb",
            "d07e7ddeffe048a5b3c86969b7d0e610",
            "a8528d7823884f1d8910b2d2bf5f23c8",
            "0f3b7ea4f707464cb18aba7497a8af21",
            "7010463a92f44488adde9b0d4601ad17",
            "73aa5bff4e984738a8d978f04f9011ee",
            "b288fe1a2c8e42f4bf180cdb70a6595b",
            "d9f8835f989c4b58b0386b5358db40b5",
            "baec9ded5a9d4099a50d753b67adae98",
            "558f011ef6734337bd2e7df568e2e3e9",
            "b0100ae98bf8480db44c265eb3aa3eb3",
            "eb9724dbd586455589196478fe4f2da6",
            "27e9ab66a2434a27a4bb0f106443ddb0",
            "dc79ebb4d2c841dd9bf926419e9e103f",
            "8bcdfc5e038f4de482562d89096aa1c4",
            "d6664764301d40b9b49cf239be287b07",
            "7831cf5b4cc14941a0b6fc77a9fcb8a9",
            "9e5b280d464a49f7ba33217241baa7f0",
            "279c13b7b9394fe39e22b59799054c36",
            "e608519a143e437998bd3f8205e92b7b",
            "04e79d52e53949e7a42050d5fc6e1e6e",
            "4d20b1967597416988223d59558f761c",
            "1d26fd213fb84d37a81c746b165e0b84",
            "55357013fb4840008b7079a12e7c895d",
            "91c1355067824dc5a65b878e9a9e0986",
            "5d2a95754aa549c0ace2f1c84bcd0200",
            "4e724cace82442b9b4b3022569825f54",
            "9cf6c52d21e34731879e01db2059aa40",
            "c79e88e9daf2406fada56bfda5feb438",
            "491ff9534ae94ac7b495a2ad0ef52552",
            "cd4180287b074ac08ce3a39abdbfba0e",
            "a7ee83531afe4d89a0402fcf1fb85baa",
            "248aef9def7c49788aa73eae6c40379e",
            "656258b8b0314929a9bbe4ce29f42e21",
            "27010ae3950f4cd0ad3303c6edb6938b",
            "e7259f0921074a12974ea7e6e5940860",
            "52513c0a133446429eba5fa166d13155",
            "844bfea600ca4803899de89a7c457bea",
            "40e50385ee1a4400b9fa8827af3bfe45",
            "d85b3a6b3e7b4b77a55220cd5a777b30",
            "6c84e8ca5670459695ad71c37b7dc264",
            "dcfe5d3ba10e4fbca274cfa057548e56",
            "8ebd54f8f97445e491f9be9336e6e318",
            "b6b113a8735a4b8b93ca8796995ea0a2",
            "c62f5bbe1e844824a08784a970a29bcb",
            "f976caa46e5d42df84a37f1fa7b155b5",
            "360b1d96311a48feb089a8fac6e4ad1d",
            "030c9561054e43c09f5d10bdb9d887df",
            "1c4c0650579f4a76a67db5432128eaba",
            "6d4fb8a119cd45fa988ee4755a027464",
            "dac18479c2364f998a7c8d40c11f80c6",
            "44d023ec7a7a421e9bdb4841af37ac55",
            "5b80be7be7ad4289adc791abecd72d61",
            "99fbfaea3aa24a21bf8d4193a5fdee0a",
            "6a0f3a5ed97543d98ef257114a813fd5",
            "ec3f164950f944dc99ffa55ea44d2a5f",
            "2fd22b3c879f418fb9514ce3224da432",
            "e1727527da2f4155ad50464d0391b661",
            "e363dc62a3494c348b17caa2bfd493fb",
            "51e103abc4154b738cca22a6b90989fd",
            "cfaff1687b9048b1bf379678da9c6014",
            "53b4447f9bfa4c8897ea7bea3792df4b",
            "b222e62f4b4944b9948580b559c008eb",
            "bd2d8a0657d64221b655eed18f638b5a",
            "1d3a64ceaa0f4d698277cf99df26f804",
            "69ab1baa383a4d6982db01bc72e809b5",
            "3d411b389bf34dc09d5c6540d1a07471",
            "1dfbbde1a45e46119191a978eed63905",
            "f39509d963ac475baf1d59316c52a7eb",
            "e9afba7a46454380abdf0bf801f7154b",
            "645801677c8a4b86aece9ad81f0925c7",
            "dd087e520acd46ddbd8d5de987972c67",
            "fedd8b98bdf54afdb993ad87ffe9bca0",
            "1e82e77f8ae4478fb04c6389ea957d5f",
            "27426814bdec4cedaa0b63a7304990e5",
            "3cc71d07c83c41988074ada6e43e2e62",
            "ca1ea371b2704023a32fb8fabe2302fc",
            "05e124a4d3674c0d812ddd8d8d830f63",
            "8cdb313f1f204aaab3311f1e1540349f",
            "ba7ac09f81e7429fb0721c143f0b52fd",
            "f3acda85142f49118bc45f9f0a2eb98d",
            "6058b807af2143f2aa6fa874d6f1bd46",
            "95691f400536400eb4eabdf07ff1c89c",
            "247d833effc84321b3937e11ce030ce3",
            "2381c256565f40ce8e90e0989a2e3b23",
            "12cca2ba6b634f6087d941fb6f45f0ee",
            "fc7ec39484ba43a0b5afce2a39f17900",
            "d5bcd0975418453f8c50ac7638417398",
            "c0f49192197f4285862fb82365ea99bd",
            "6ba26c4586034971b073ad61ae61d335",
            "07380a4e20184c178c8e6e67d7ccffe9",
            "cde4aa6743c14e2a9e9d18c09467f7ea",
            "e9c5cd3b7f79401bab9ce99ab5744c36",
            "e4fe3dfa6bdf4c0bac1b8ef00e5c9bc6",
            "275b002694104f8db8ccd23e050aa2be",
            "e09f5e9e305d4cee98ab951cd41a2009",
            "4ca8545493a64cf09f0202632c75491c",
            "57ffef2f2cf942b5a18f3a165ee704f8",
            "825ee5d5e0814a89b6551a56ee866ac8",
            "0a1c22f2a58a4e89a1bd66039ec97419",
            "53a547fdebfc465b97abdf0b04bee459",
            "b52292b2fd774882a5e0728fb864c4ca",
            "af149d6d293a4857bcbc6c5b26570962",
            "686a4c9539e44a4daf283ea5f6d0beea",
            "3d547d6c1fa54fcbbba636011dc71dd3",
            "9f6de2cba9ca42bea3957a95fc18b477",
            "0477e9c90fe24381a4cef340b66639cb",
            "5249b30d03d14f04ad1051213b9b7e15",
            "3d29ffe986224f9abc1f7b80e75420d7",
            "39de154eb45a4ff38c327791a1774677",
            "3bc64fda4ab342fbb8c97b9ebeea9416",
            "a2fb7ebb923d4b098bb691eb22edd0f0",
            "e0167615ec26451f8d0977403b3a179b",
            "b79fa4a6d0124197847686a5575efda9",
            "55a5d55866ca4d44b7a52b436a3d0a2f",
            "cc0cd9de8cb7406b840c208136211af5",
            "1b9e89945e3241eea3f4765b412f31c7",
            "c8bd6cc519a94edd8fbbc8a4ac25e3ca",
            "8aef24820e6f4f89b743c2530c4087ca",
            "e3da861be77742228fabde85be4d6562",
            "fea7a6c58cab47d494818e6684e6d9a8",
            "653874f09e2a4b53a8936dc1ec8866ff",
            "5dcc0cf419b44869bb7eefa7da293e8d",
            "f57eabc0cd644c34bc38bb09292afcd7",
            "0a80eb1956114d08b9eddbb9082007e6",
            "d7d5773f94da4f80bfb4636da6e59b27",
            "afa592dd1ce04fc686c11b2ff52a7e39",
            "b049f1a92c704c8f91c463434daaed2f",
            "da13a2c262964b15b804b14051925720",
            "6e58442b89e74dd3b8ff3340ca36bc84",
            "6318ba1068b34c69b410ba1d4b8f836d",
            "c468a34c41bc4a16b40e6fe716c317f6",
            "971c302624a643208141cfb15e7dc401",
            "d80313f879ff49c68aa9406d85f6850f",
            "99e9c13c05b940ac8134cbbb1b833eb2",
            "00929fde086245488c6e6dae612a3d37",
            "1a3ab642849f4fbe80b5fb8a83c3f978",
            "263a38cc6cc24b2698083de8bf018779",
            "6231b6e9217c45da9db369b47e9a24d2",
            "1223c3a7115a4739bb49a983579f92e4",
            "2de9f639cca5487d919eb566f925baa2",
            "909ae18586e748208b0b4803508c518f",
            "36d3c2c08d4d4550862cdfc50f422e01",
            "debed4caec4c4bd19af08a8efedc6340",
            "86356ba4e84448f4bd1edad8d4182705",
            "34a60f7a42c5478387028cad49d69f82",
            "b9d81ca4218b432ea76479c79ae59b74",
            "3652565b084d43a08cb11c6f9f051c80",
            "f6d15591d0cc4349bcc30d31bddbc96e",
            "1b398177ea9a4472b91a51d2ec268d19",
            "df07b509544f44ceabfd476c44eb49f0",
            "2656ed6a81d44a348c143f85b6e81481",
            "f95e8120c69d499090ba428e76336f70",
            "35babe821f3e49a7b3fb4b7d89c65af6",
            "e52d6116717c4ca4934b8bcece180a41",
            "3e72b11cb4b145b98e6c69ad6609f1a8",
            "482b01c83c794ceabed9302b9d2c5f88",
            "4d9af7a5e96e4a5981f7a45b27c444e0",
            "fcc99fb414fc446fb8cce72976f09ae7",
            "989d9b1fc91144d5bb43ae3a529070a2",
            "de9ff807ed0e4fe699dc05226946ad7c",
            "83678057e37648838d3de8e05bfd36d3",
            "52531a05774c47f698efca09d7048970",
            "e1097b6e30ea45f395c348d0ff6a8015",
            "6287d4868efc4f9a896768d8f8a49478",
            "f19a414521484c3eabb8ed87fe890eaa",
            "8130b8d9ad2a46a0924dd79983a8a651",
            "18dface80cb147f49b1bbcb434b3137d",
            "4f52d53464c740f89b8ce3d7cc4cc56a",
            "472906b2589045128550dd340b58e435",
            "ee5e8811b270460c8a31c5d149931b69",
            "ca239f4d2d3446748b9a186532265cfc",
            "d9f84fc8ce6d4232bf9435a2d04dff69",
            "2bce9dc36ca2479e85fe4c38b49f4dbd",
            "5b057be8696a4f208e29a82429195289",
            "600c9b0768d44163a7d67d07d36df36f",
            "a5b3b23ce48c460ba9b8dddb10c26977",
            "ddb39c207ad349558e311eee552605aa",
            "0d7372e5cc98402781467a699c34e09e",
            "ab47edb07424461380df4db2811af477",
            "0930cfc1be964602b28268ae715db9da",
            "9313e175e8d641298ecdadfa892c2e68",
            "fe53b27abfd04b1c807f31f5ec76b3a3",
            "1afe828dc709466ca49e0a0502a34511",
            "147153ce6df2408c89a9f7eb4171914f",
            "dd23e15ac7e14e46be16a3edc4d8abf5",
            "3fc8006611024503a7d92ba44f384d91",
            "605065afb61045d681e433effee1b27e",
            "66110c9f4ef34db8b99137958d77a20d",
            "bf5ff9554fea4ec7bfb80ba7a9eaf340",
            "68ec007f89f84f3ca7a53a0b63ce05b1",
            "433b957c593140daa1441ea61b654f78",
            "01931e45839945cdbda07d33fa90bd7c",
            "baab3698038c456b920f931325ec2664",
            "ce77096e083942af9a99422c001bc9cf",
            "22fa7b4badd24172a177b6753bd05bbd",
            "031b2ecd63fb4d6a98fb40db039e8093",
            "755f3a6e53f54c51abc60de1a7a113a9",
            "468be14ccce54db592b15648b6e783a3",
            "1bac5ec999f9465aa965f48fcf4153ef",
            "e7c8cb7ebc7f4027a4f90c242ac1ba61",
            "96019c1ec6b24d6c847a2d3599902630",
            "1dd4c1a0bb7f430e8770ddda1b61e106",
            "ec19931810dd4c3981dd16dec1d6cc77",
            "1d5e66f1a5634a30a6e0a77acc5107bd",
            "3268736e465b4e409b6eb731ffe2698b",
            "3ebd59ef799a49c1a83648fe229c4385",
            "71c343f03571479bb089635dc9afeed5",
            "b980cb0272d44c758d65e58fbc7deed4",
            "41b285404e8f428781dfc52fcd8b4d85",
            "5a4e3d70c8634438bd61b360d75e4296",
            "b6686ecb604b43a28d04478e0d67b5c1",
            "7dcf613cbb724cb194338c5558f6f597",
            "08163789b2b545838ec60219a21de3e6",
            "9bc04dbed42041e78d717dd6ba377f2a",
            "daf947ae406f44c7a53787c6b68e3535",
            "ea0166d115de42449ee24fd3d9a60dbe",
            "48ec612e94724cc4bfbc598c5863fdf4",
            "493ebb9f84a84f4fa19a70dbee76e8d9",
            "c43f11a1c7c5439ba0e116f0e1ded778",
            "10bbb9d184ba408282e9e55e3ccb4874",
            "f7291ea59d104b5da6ee9f0ec6a7510a",
            "d44267aa0044473ba93b807c9b3b6d18",
            "73209f6abdf84ee3aeac4ee8b56ad6aa",
            "71022c4edfb64d179146d15bcb71f0c3",
            "9e2f376470554ad792cfff849a1aba7b",
            "a04f59c02acb49169d64fc24d929ca77",
            "8219379276644cd48fe4b2d4ef312b92",
            "54a0578d5c5943cbb40e29ff6ea3205c",
            "0b81b31420fa445f82b14c4393ca2c3f",
            "ca398e40919545c3b5d5a1fa9894ba7a",
            "d1675d0863224930b3af0c923eb024b3",
            "c91866bddcf04ce5af6cd6a494677404",
            "62fb81f45c1d47318d0beb83e4fbe03d",
            "b93a7ffbf08d41628306dfdf7aeef3a3",
            "49f23c2719df46c79bc3992aadce4777",
            "0f2fa80588b9450990b2aa9e4364ec88",
            "a2de1f943ae14c2ba4d7ff7d2da668de",
            "c681add903044b19a0cadc351e512fae",
            "42ea94a820a54abab192b728553126c6",
            "14854a1a286c41c2a00501fd485082da"
          ]
        },
        "outputId": "b18495c1-248d-4422-9764-63e2a570b9fe"
      },
      "outputs": [
        {
          "output_type": "display_data",
          "data": {
            "text/plain": [
              "Loading pipeline components...:   0%|          | 0/2 [00:00<?, ?it/s]"
            ],
            "application/vnd.jupyter.widget-view+json": {
              "version_major": 2,
              "version_minor": 0,
              "model_id": "d926f92d8ffb448aa6171b36d3aff847"
            }
          },
          "metadata": {}
        },
        {
          "output_type": "stream",
          "name": "stdout",
          "text": [
            "Generating denoising frames...\n"
          ]
        },
        {
          "output_type": "stream",
          "name": "stderr",
          "text": [
            "\n",
            "  0%|          | 0/26 [00:00<?, ?it/s]\u001b[A"
          ]
        },
        {
          "output_type": "display_data",
          "data": {
            "text/plain": [
              "  0%|          | 0/1 [00:00<?, ?it/s]"
            ],
            "application/vnd.jupyter.widget-view+json": {
              "version_major": 2,
              "version_minor": 0,
              "model_id": "1421bb4bc95143b3b462e45b0d0645bd"
            }
          },
          "metadata": {}
        },
        {
          "output_type": "display_data",
          "data": {
            "text/plain": [
              "  0%|          | 0/2 [00:00<?, ?it/s]"
            ],
            "application/vnd.jupyter.widget-view+json": {
              "version_major": 2,
              "version_minor": 0,
              "model_id": "8ffe2cdd7a4b4631ba7427e4aed4d227"
            }
          },
          "metadata": {}
        },
        {
          "output_type": "display_data",
          "data": {
            "text/plain": [
              "  0%|          | 0/4 [00:00<?, ?it/s]"
            ],
            "application/vnd.jupyter.widget-view+json": {
              "version_major": 2,
              "version_minor": 0,
              "model_id": "b7ce42f45ca64e4b8a90a7e85cd0bcf3"
            }
          },
          "metadata": {}
        },
        {
          "output_type": "stream",
          "name": "stderr",
          "text": [
            "\n",
            " 12%|█▏        | 3/26 [00:00<00:01, 17.65it/s]\u001b[A"
          ]
        },
        {
          "output_type": "display_data",
          "data": {
            "text/plain": [
              "  0%|          | 0/6 [00:00<?, ?it/s]"
            ],
            "application/vnd.jupyter.widget-view+json": {
              "version_major": 2,
              "version_minor": 0,
              "model_id": "6b4692b8f9594f388c3ea34576ed996b"
            }
          },
          "metadata": {}
        },
        {
          "output_type": "display_data",
          "data": {
            "text/plain": [
              "  0%|          | 0/8 [00:00<?, ?it/s]"
            ],
            "application/vnd.jupyter.widget-view+json": {
              "version_major": 2,
              "version_minor": 0,
              "model_id": "b159b76eba5b43bb8249d6a752aabd85"
            }
          },
          "metadata": {}
        },
        {
          "output_type": "stream",
          "name": "stderr",
          "text": [
            "\n",
            " 19%|█▉        | 5/26 [00:00<00:02, 10.24it/s]\u001b[A"
          ]
        },
        {
          "output_type": "display_data",
          "data": {
            "text/plain": [
              "  0%|          | 0/10 [00:00<?, ?it/s]"
            ],
            "application/vnd.jupyter.widget-view+json": {
              "version_major": 2,
              "version_minor": 0,
              "model_id": "b0100ae98bf8480db44c265eb3aa3eb3"
            }
          },
          "metadata": {}
        },
        {
          "output_type": "display_data",
          "data": {
            "text/plain": [
              "  0%|          | 0/12 [00:00<?, ?it/s]"
            ],
            "application/vnd.jupyter.widget-view+json": {
              "version_major": 2,
              "version_minor": 0,
              "model_id": "4d20b1967597416988223d59558f761c"
            }
          },
          "metadata": {}
        },
        {
          "output_type": "stream",
          "name": "stderr",
          "text": [
            "\n",
            " 27%|██▋       | 7/26 [00:00<00:02,  6.87it/s]\u001b[A"
          ]
        },
        {
          "output_type": "display_data",
          "data": {
            "text/plain": [
              "  0%|          | 0/14 [00:00<?, ?it/s]"
            ],
            "application/vnd.jupyter.widget-view+json": {
              "version_major": 2,
              "version_minor": 0,
              "model_id": "248aef9def7c49788aa73eae6c40379e"
            }
          },
          "metadata": {}
        },
        {
          "output_type": "stream",
          "name": "stderr",
          "text": [
            "\n",
            " 31%|███       | 8/26 [00:01<00:03,  5.76it/s]\u001b[A"
          ]
        },
        {
          "output_type": "display_data",
          "data": {
            "text/plain": [
              "  0%|          | 0/16 [00:00<?, ?it/s]"
            ],
            "application/vnd.jupyter.widget-view+json": {
              "version_major": 2,
              "version_minor": 0,
              "model_id": "b6b113a8735a4b8b93ca8796995ea0a2"
            }
          },
          "metadata": {}
        },
        {
          "output_type": "stream",
          "name": "stderr",
          "text": [
            "\n",
            " 35%|███▍      | 9/26 [00:01<00:03,  4.82it/s]\u001b[A"
          ]
        },
        {
          "output_type": "display_data",
          "data": {
            "text/plain": [
              "  0%|          | 0/18 [00:00<?, ?it/s]"
            ],
            "application/vnd.jupyter.widget-view+json": {
              "version_major": 2,
              "version_minor": 0,
              "model_id": "6a0f3a5ed97543d98ef257114a813fd5"
            }
          },
          "metadata": {}
        },
        {
          "output_type": "stream",
          "name": "stderr",
          "text": [
            "\n",
            " 38%|███▊      | 10/26 [00:01<00:03,  4.10it/s]\u001b[A"
          ]
        },
        {
          "output_type": "display_data",
          "data": {
            "text/plain": [
              "  0%|          | 0/20 [00:00<?, ?it/s]"
            ],
            "application/vnd.jupyter.widget-view+json": {
              "version_major": 2,
              "version_minor": 0,
              "model_id": "69ab1baa383a4d6982db01bc72e809b5"
            }
          },
          "metadata": {}
        },
        {
          "output_type": "stream",
          "name": "stderr",
          "text": [
            "\n",
            " 42%|████▏     | 11/26 [00:02<00:04,  3.57it/s]\u001b[A"
          ]
        },
        {
          "output_type": "display_data",
          "data": {
            "text/plain": [
              "  0%|          | 0/22 [00:00<?, ?it/s]"
            ],
            "application/vnd.jupyter.widget-view+json": {
              "version_major": 2,
              "version_minor": 0,
              "model_id": "ca1ea371b2704023a32fb8fabe2302fc"
            }
          },
          "metadata": {}
        },
        {
          "output_type": "stream",
          "name": "stderr",
          "text": [
            "\n",
            " 46%|████▌     | 12/26 [00:02<00:04,  3.11it/s]\u001b[A"
          ]
        },
        {
          "output_type": "display_data",
          "data": {
            "text/plain": [
              "  0%|          | 0/24 [00:00<?, ?it/s]"
            ],
            "application/vnd.jupyter.widget-view+json": {
              "version_major": 2,
              "version_minor": 0,
              "model_id": "d5bcd0975418453f8c50ac7638417398"
            }
          },
          "metadata": {}
        },
        {
          "output_type": "stream",
          "name": "stderr",
          "text": [
            "\n",
            " 50%|█████     | 13/26 [00:03<00:04,  2.77it/s]\u001b[A"
          ]
        },
        {
          "output_type": "display_data",
          "data": {
            "text/plain": [
              "  0%|          | 0/26 [00:00<?, ?it/s]"
            ],
            "application/vnd.jupyter.widget-view+json": {
              "version_major": 2,
              "version_minor": 0,
              "model_id": "825ee5d5e0814a89b6551a56ee866ac8"
            }
          },
          "metadata": {}
        },
        {
          "output_type": "stream",
          "name": "stderr",
          "text": [
            "\n",
            " 54%|█████▍    | 14/26 [00:03<00:04,  2.51it/s]\u001b[A"
          ]
        },
        {
          "output_type": "display_data",
          "data": {
            "text/plain": [
              "  0%|          | 0/28 [00:00<?, ?it/s]"
            ],
            "application/vnd.jupyter.widget-view+json": {
              "version_major": 2,
              "version_minor": 0,
              "model_id": "39de154eb45a4ff38c327791a1774677"
            }
          },
          "metadata": {}
        },
        {
          "output_type": "stream",
          "name": "stderr",
          "text": [
            "\n",
            " 58%|█████▊    | 15/26 [00:04<00:04,  2.29it/s]\u001b[A"
          ]
        },
        {
          "output_type": "display_data",
          "data": {
            "text/plain": [
              "  0%|          | 0/30 [00:00<?, ?it/s]"
            ],
            "application/vnd.jupyter.widget-view+json": {
              "version_major": 2,
              "version_minor": 0,
              "model_id": "fea7a6c58cab47d494818e6684e6d9a8"
            }
          },
          "metadata": {}
        },
        {
          "output_type": "stream",
          "name": "stderr",
          "text": [
            "\n",
            " 62%|██████▏   | 16/26 [00:04<00:04,  2.08it/s]\u001b[A"
          ]
        },
        {
          "output_type": "display_data",
          "data": {
            "text/plain": [
              "  0%|          | 0/32 [00:00<?, ?it/s]"
            ],
            "application/vnd.jupyter.widget-view+json": {
              "version_major": 2,
              "version_minor": 0,
              "model_id": "c468a34c41bc4a16b40e6fe716c317f6"
            }
          },
          "metadata": {}
        },
        {
          "output_type": "stream",
          "name": "stderr",
          "text": [
            "\n",
            " 65%|██████▌   | 17/26 [00:05<00:04,  1.93it/s]\u001b[A"
          ]
        },
        {
          "output_type": "display_data",
          "data": {
            "text/plain": [
              "  0%|          | 0/34 [00:00<?, ?it/s]"
            ],
            "application/vnd.jupyter.widget-view+json": {
              "version_major": 2,
              "version_minor": 0,
              "model_id": "36d3c2c08d4d4550862cdfc50f422e01"
            }
          },
          "metadata": {}
        },
        {
          "output_type": "stream",
          "name": "stderr",
          "text": [
            "\n",
            " 69%|██████▉   | 18/26 [00:05<00:04,  1.79it/s]\u001b[A"
          ]
        },
        {
          "output_type": "display_data",
          "data": {
            "text/plain": [
              "  0%|          | 0/36 [00:00<?, ?it/s]"
            ],
            "application/vnd.jupyter.widget-view+json": {
              "version_major": 2,
              "version_minor": 0,
              "model_id": "35babe821f3e49a7b3fb4b7d89c65af6"
            }
          },
          "metadata": {}
        },
        {
          "output_type": "stream",
          "name": "stderr",
          "text": [
            "\n",
            " 73%|███████▎  | 19/26 [00:06<00:04,  1.68it/s]\u001b[A"
          ]
        },
        {
          "output_type": "display_data",
          "data": {
            "text/plain": [
              "  0%|          | 0/38 [00:00<?, ?it/s]"
            ],
            "application/vnd.jupyter.widget-view+json": {
              "version_major": 2,
              "version_minor": 0,
              "model_id": "6287d4868efc4f9a896768d8f8a49478"
            }
          },
          "metadata": {}
        },
        {
          "output_type": "stream",
          "name": "stderr",
          "text": [
            "\n",
            " 77%|███████▋  | 20/26 [00:07<00:03,  1.58it/s]\u001b[A"
          ]
        },
        {
          "output_type": "display_data",
          "data": {
            "text/plain": [
              "  0%|          | 0/40 [00:00<?, ?it/s]"
            ],
            "application/vnd.jupyter.widget-view+json": {
              "version_major": 2,
              "version_minor": 0,
              "model_id": "600c9b0768d44163a7d67d07d36df36f"
            }
          },
          "metadata": {}
        },
        {
          "output_type": "stream",
          "name": "stderr",
          "text": [
            "\n",
            " 81%|████████  | 21/26 [00:08<00:03,  1.50it/s]\u001b[A"
          ]
        },
        {
          "output_type": "display_data",
          "data": {
            "text/plain": [
              "  0%|          | 0/42 [00:00<?, ?it/s]"
            ],
            "application/vnd.jupyter.widget-view+json": {
              "version_major": 2,
              "version_minor": 0,
              "model_id": "3fc8006611024503a7d92ba44f384d91"
            }
          },
          "metadata": {}
        },
        {
          "output_type": "stream",
          "name": "stderr",
          "text": [
            "\n",
            " 85%|████████▍ | 22/26 [00:08<00:02,  1.42it/s]\u001b[A"
          ]
        },
        {
          "output_type": "display_data",
          "data": {
            "text/plain": [
              "  0%|          | 0/44 [00:00<?, ?it/s]"
            ],
            "application/vnd.jupyter.widget-view+json": {
              "version_major": 2,
              "version_minor": 0,
              "model_id": "755f3a6e53f54c51abc60de1a7a113a9"
            }
          },
          "metadata": {}
        },
        {
          "output_type": "stream",
          "name": "stderr",
          "text": [
            "\n",
            " 88%|████████▊ | 23/26 [00:09<00:02,  1.35it/s]\u001b[A"
          ]
        },
        {
          "output_type": "display_data",
          "data": {
            "text/plain": [
              "  0%|          | 0/46 [00:00<?, ?it/s]"
            ],
            "application/vnd.jupyter.widget-view+json": {
              "version_major": 2,
              "version_minor": 0,
              "model_id": "b980cb0272d44c758d65e58fbc7deed4"
            }
          },
          "metadata": {}
        },
        {
          "output_type": "stream",
          "name": "stderr",
          "text": [
            "\n",
            " 92%|█████████▏| 24/26 [00:10<00:01,  1.29it/s]\u001b[A"
          ]
        },
        {
          "output_type": "display_data",
          "data": {
            "text/plain": [
              "  0%|          | 0/48 [00:00<?, ?it/s]"
            ],
            "application/vnd.jupyter.widget-view+json": {
              "version_major": 2,
              "version_minor": 0,
              "model_id": "c43f11a1c7c5439ba0e116f0e1ded778"
            }
          },
          "metadata": {}
        },
        {
          "output_type": "stream",
          "name": "stderr",
          "text": [
            "\n",
            " 96%|█████████▌| 25/26 [00:11<00:00,  1.23it/s]\u001b[A"
          ]
        },
        {
          "output_type": "display_data",
          "data": {
            "text/plain": [
              "  0%|          | 0/50 [00:00<?, ?it/s]"
            ],
            "application/vnd.jupyter.widget-view+json": {
              "version_major": 2,
              "version_minor": 0,
              "model_id": "ca398e40919545c3b5d5a1fa9894ba7a"
            }
          },
          "metadata": {}
        },
        {
          "output_type": "stream",
          "name": "stderr",
          "text": [
            "\n",
            "100%|██████████| 26/26 [00:12<00:00,  2.10it/s]"
          ]
        },
        {
          "output_type": "stream",
          "name": "stdout",
          "text": [
            "Creating GIF animation...\n",
            "Animation saved to diffusion_process30.gif\n",
            "Process grid saved to diffusion_process_grid3.png\n"
          ]
        },
        {
          "output_type": "stream",
          "name": "stderr",
          "text": [
            "\n"
          ]
        }
      ],
      "source": [
        "from diffusers import DPMSolverMultistepScheduler, DDPMPipeline\n",
        "from PIL import Image, ImageDraw, ImageFont\n",
        "import torch\n",
        "import numpy as np\n",
        "import os\n",
        "import imageio.v2 as imageio\n",
        "from tqdm import tqdm\n",
        "\n",
        "# Initialize the model pipeline using your local model\n",
        "model_path = \"glyffuser-unconditional/epoch29\"  # Path to your trained model\n",
        "pipeline = DDPMPipeline.from_pretrained(model_path).to(\"cuda\")\n",
        "pipeline.scheduler = DPMSolverMultistepScheduler()\n",
        "\n",
        "# Create output directory for frames\n",
        "os.makedirs(\"animation_frames\", exist_ok=True)\n",
        "\n",
        "# Set parameters\n",
        "num_inference_steps = 50\n",
        "seed = 41\n",
        "\n",
        "# Use the model's forward process to generate images at each step\n",
        "print(\"Generating denoising frames...\")\n",
        "\n",
        "# Start with pure noise (t=1000)\n",
        "generator = torch.Generator(device=\"cuda\").manual_seed(seed)\n",
        "\n",
        "# Store all frames\n",
        "frames = []\n",
        "\n",
        "# The correct way to visualize the denoising process is to use the pipeline with\n",
        "# increasing numbers of denoising steps\n",
        "for step in tqdm(range(0, num_inference_steps + 1, 2)):  # Skip some steps for faster generation\n",
        "    if step == 0:\n",
        "        # For the initial noise, just use the pipeline with 1 step\n",
        "        # This will effectively show the noise\n",
        "        current_step = 1\n",
        "    else:\n",
        "        current_step = step\n",
        "\n",
        "    # Generate the image with the current number of denoising steps\n",
        "    image = pipeline(\n",
        "        batch_size=1,\n",
        "        generator=torch.Generator(device=\"cuda\").manual_seed(seed),\n",
        "        num_inference_steps=current_step\n",
        "    ).images[0]\n",
        "\n",
        "    # Save the frame\n",
        "    image.save(os.path.join(\"animation_frames\", f\"frame_{step:03d}.png\"))\n",
        "    frames.append(image)\n",
        "\n",
        "# Create GIF from frames\n",
        "print(\"Creating GIF animation...\")\n",
        "# Ensure all frames have the same size (shouldn't be necessary but just in case)\n",
        "frames_resized = [frame.resize((256, 256)) for frame in frames]\n",
        "\n",
        "# Save as GIF\n",
        "output_gif = \"diffusion_process30.gif\"\n",
        "frames_resized[0].save(\n",
        "    output_gif,\n",
        "    save_all=True,\n",
        "    append_images=frames_resized[1:],\n",
        "    optimize=False,\n",
        "    duration=150,  # milliseconds per frame - slower to see the changes\n",
        "    loop=0  # 0 means loop indefinitely\n",
        ")\n",
        "\n",
        "print(f\"Animation saved to {output_gif}\")\n",
        "\n",
        "# Create a grid showing selected frames\n",
        "def create_process_grid(frames, num_to_show=8):\n",
        "    # Select frames evenly throughout the process\n",
        "    if len(frames) <= num_to_show:\n",
        "        selected_frames = frames\n",
        "    else:\n",
        "        indices = np.linspace(0, len(frames)-1, num_to_show, dtype=int)\n",
        "        selected_frames = [frames[i] for i in indices]\n",
        "\n",
        "    # Resize frames\n",
        "    width, height = 256, 256\n",
        "    selected_frames = [frame.resize((width, height)) for frame in selected_frames]\n",
        "\n",
        "    # Create grid image\n",
        "    cols = min(4, num_to_show)\n",
        "    rows = (num_to_show + cols - 1) // cols\n",
        "\n",
        "    grid = Image.new('RGB', (width * cols, height * rows))\n",
        "\n",
        "    for i, frame in enumerate(selected_frames):\n",
        "        row = i // cols\n",
        "        col = i % cols\n",
        "        grid.paste(frame, (col * width, row * height))\n",
        "\n",
        "    return grid\n",
        "\n",
        "# Create and save the grid\n",
        "grid = create_process_grid(frames)\n",
        "grid.save(\"diffusion_process_grid3.png\")\n",
        "print(\"Process grid saved to diffusion_process_grid3.png\")"
      ]
    },
    {
      "cell_type": "code",
      "source": [],
      "metadata": {
        "id": "CoTJXfoMzAQd"
      },
      "execution_count": null,
      "outputs": []
    }
  ],
  "metadata": {
    "accelerator": "GPU",
    "colab": {
      "gpuType": "T4",
      "provenance": [],
      "collapsed_sections": [
        "_h_3r5WI9Hjh",
        "QPU7KJcNXE6F",
        "PD7QF9PjXKpl",
        "lM5kUcgvXST4",
        "FMh_fGstXXbT",
        "8txNXtRcXcMf",
        "KfmGAQdaXe06"
      ],
      "include_colab_link": true
    },
    "kernelspec": {
      "display_name": "Python 3",
      "name": "python3"
    },
    "language_info": {
      "codemirror_mode": {
        "name": "ipython",
        "version": 3
      },
      "file_extension": ".py",
      "mimetype": "text/x-python",
      "name": "python",
      "nbconvert_exporter": "python",
      "pygments_lexer": "ipython3",
      "version": "3.11.9"
    }
  },
  "nbformat": 4,
  "nbformat_minor": 0
}