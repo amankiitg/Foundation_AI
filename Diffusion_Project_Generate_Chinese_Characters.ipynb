{
 "cells": [
  {
   "cell_type": "markdown",
   "metadata": {
    "colab_type": "text",
    "id": "view-in-github"
   },
   "source": [
    "<a href=\"https://colab.research.google.com/github/amankiitg/Foundation_AI/blob/main/Diffusion_Project_Generate_Chinese_Characters.ipynb\" target=\"_parent\"><img src=\"https://colab.research.google.com/assets/colab-badge.svg\" alt=\"Open In Colab\"/></a>"
   ]
  },
  {
   "cell_type": "markdown",
   "metadata": {
    "id": "oXjCGObZx5h4"
   },
   "source": [
    "#### Links to Download\n",
    "\n",
    "Han characters dataset: https://drive.google.com/file/d/1JFU5QRn3T11adAYQtA-Of6-rplfVLyOm/view?usp=sharing\n",
    "\n",
    "NotoSans Font: https://drive.google.com/file/d/16Qv5S6_ZV3DzLkpvU-MEbCq94m5Olw1F/view?usp=sharing"
   ]
  },
  {
   "cell_type": "markdown",
   "metadata": {
    "id": "ivCQyc3a9Hjc"
   },
   "source": [
    "### Step 1: Generate a Chinese glyph and definition dataset\n",
    "We use the unicode consortium's [unihan database](https://github.com/unicode-org/unihan-database) for this. We can take the kDefinition text file to extract both characters and labels in the form of definitions."
   ]
  },
  {
   "cell_type": "code",
   "execution_count": 1,
   "metadata": {
    "colab": {
     "base_uri": "https://localhost:8080/",
     "height": 206
    },
    "id": "-fkTv4Q59Hjf",
    "outputId": "3f1f8738-fc9f-481b-eab4-a52164bd34fd"
   },
   "outputs": [
    {
     "data": {
      "application/vnd.google.colaboratory.intrinsic+json": {
       "summary": "{\n  \"name\": \"df\",\n  \"rows\": 20607,\n  \"fields\": [\n    {\n      \"column\": \"Unicode\",\n      \"properties\": {\n        \"dtype\": \"string\",\n        \"num_unique_values\": 20607,\n        \"samples\": [\n          \"875E\",\n          \"46C7\",\n          \"6832\"\n        ],\n        \"semantic_type\": \"\",\n        \"description\": \"\"\n      }\n    },\n    {\n      \"column\": \"Character\",\n      \"properties\": {\n        \"dtype\": \"string\",\n        \"num_unique_values\": 20607,\n        \"samples\": [\n          \"\\u875e\",\n          \"\\u46c7\",\n          \"\\u6832\"\n        ],\n        \"semantic_type\": \"\",\n        \"description\": \"\"\n      }\n    },\n    {\n      \"column\": \"Definition\",\n      \"properties\": {\n        \"dtype\": \"string\",\n        \"num_unique_values\": 16352,\n        \"samples\": [\n          \"eating or talking, moving of the mouth\",\n          \"say, speak; clouds\",\n          \"to tread on, to kick\"\n        ],\n        \"semantic_type\": \"\",\n        \"description\": \"\"\n      }\n    }\n  ]\n}",
       "type": "dataframe",
       "variable_name": "df"
      },
      "text/html": [
       "\n",
       "  <div id=\"df-c21740ad-3c58-442d-9a57-f28be2a39b4c\" class=\"colab-df-container\">\n",
       "    <div>\n",
       "<style scoped>\n",
       "    .dataframe tbody tr th:only-of-type {\n",
       "        vertical-align: middle;\n",
       "    }\n",
       "\n",
       "    .dataframe tbody tr th {\n",
       "        vertical-align: top;\n",
       "    }\n",
       "\n",
       "    .dataframe thead th {\n",
       "        text-align: right;\n",
       "    }\n",
       "</style>\n",
       "<table border=\"1\" class=\"dataframe\">\n",
       "  <thead>\n",
       "    <tr style=\"text-align: right;\">\n",
       "      <th></th>\n",
       "      <th>Unicode</th>\n",
       "      <th>Character</th>\n",
       "      <th>Definition</th>\n",
       "    </tr>\n",
       "  </thead>\n",
       "  <tbody>\n",
       "    <tr>\n",
       "      <th>0</th>\n",
       "      <td>3400</td>\n",
       "      <td>㐀</td>\n",
       "      <td>hillock or mound</td>\n",
       "    </tr>\n",
       "    <tr>\n",
       "      <th>1</th>\n",
       "      <td>3401</td>\n",
       "      <td>㐁</td>\n",
       "      <td>to lick; to taste, a mat, bamboo bark</td>\n",
       "    </tr>\n",
       "    <tr>\n",
       "      <th>2</th>\n",
       "      <td>3402</td>\n",
       "      <td>㐂</td>\n",
       "      <td>non-standard form of , to like, love, enjoy; a...</td>\n",
       "    </tr>\n",
       "    <tr>\n",
       "      <th>3</th>\n",
       "      <td>3405</td>\n",
       "      <td>㐅</td>\n",
       "      <td>five</td>\n",
       "    </tr>\n",
       "    <tr>\n",
       "      <th>4</th>\n",
       "      <td>3406</td>\n",
       "      <td>㐆</td>\n",
       "      <td>to follow, to trust to; to put confidence in; ...</td>\n",
       "    </tr>\n",
       "  </tbody>\n",
       "</table>\n",
       "</div>\n",
       "    <div class=\"colab-df-buttons\">\n",
       "\n",
       "  <div class=\"colab-df-container\">\n",
       "    <button class=\"colab-df-convert\" onclick=\"convertToInteractive('df-c21740ad-3c58-442d-9a57-f28be2a39b4c')\"\n",
       "            title=\"Convert this dataframe to an interactive table.\"\n",
       "            style=\"display:none;\">\n",
       "\n",
       "  <svg xmlns=\"http://www.w3.org/2000/svg\" height=\"24px\" viewBox=\"0 -960 960 960\">\n",
       "    <path d=\"M120-120v-720h720v720H120Zm60-500h600v-160H180v160Zm220 220h160v-160H400v160Zm0 220h160v-160H400v160ZM180-400h160v-160H180v160Zm440 0h160v-160H620v160ZM180-180h160v-160H180v160Zm440 0h160v-160H620v160Z\"/>\n",
       "  </svg>\n",
       "    </button>\n",
       "\n",
       "  <style>\n",
       "    .colab-df-container {\n",
       "      display:flex;\n",
       "      gap: 12px;\n",
       "    }\n",
       "\n",
       "    .colab-df-convert {\n",
       "      background-color: #E8F0FE;\n",
       "      border: none;\n",
       "      border-radius: 50%;\n",
       "      cursor: pointer;\n",
       "      display: none;\n",
       "      fill: #1967D2;\n",
       "      height: 32px;\n",
       "      padding: 0 0 0 0;\n",
       "      width: 32px;\n",
       "    }\n",
       "\n",
       "    .colab-df-convert:hover {\n",
       "      background-color: #E2EBFA;\n",
       "      box-shadow: 0px 1px 2px rgba(60, 64, 67, 0.3), 0px 1px 3px 1px rgba(60, 64, 67, 0.15);\n",
       "      fill: #174EA6;\n",
       "    }\n",
       "\n",
       "    .colab-df-buttons div {\n",
       "      margin-bottom: 4px;\n",
       "    }\n",
       "\n",
       "    [theme=dark] .colab-df-convert {\n",
       "      background-color: #3B4455;\n",
       "      fill: #D2E3FC;\n",
       "    }\n",
       "\n",
       "    [theme=dark] .colab-df-convert:hover {\n",
       "      background-color: #434B5C;\n",
       "      box-shadow: 0px 1px 3px 1px rgba(0, 0, 0, 0.15);\n",
       "      filter: drop-shadow(0px 1px 2px rgba(0, 0, 0, 0.3));\n",
       "      fill: #FFFFFF;\n",
       "    }\n",
       "  </style>\n",
       "\n",
       "    <script>\n",
       "      const buttonEl =\n",
       "        document.querySelector('#df-c21740ad-3c58-442d-9a57-f28be2a39b4c button.colab-df-convert');\n",
       "      buttonEl.style.display =\n",
       "        google.colab.kernel.accessAllowed ? 'block' : 'none';\n",
       "\n",
       "      async function convertToInteractive(key) {\n",
       "        const element = document.querySelector('#df-c21740ad-3c58-442d-9a57-f28be2a39b4c');\n",
       "        const dataTable =\n",
       "          await google.colab.kernel.invokeFunction('convertToInteractive',\n",
       "                                                    [key], {});\n",
       "        if (!dataTable) return;\n",
       "\n",
       "        const docLinkHtml = 'Like what you see? Visit the ' +\n",
       "          '<a target=\"_blank\" href=https://colab.research.google.com/notebooks/data_table.ipynb>data table notebook</a>'\n",
       "          + ' to learn more about interactive tables.';\n",
       "        element.innerHTML = '';\n",
       "        dataTable['output_type'] = 'display_data';\n",
       "        await google.colab.output.renderOutput(dataTable, element);\n",
       "        const docLink = document.createElement('div');\n",
       "        docLink.innerHTML = docLinkHtml;\n",
       "        element.appendChild(docLink);\n",
       "      }\n",
       "    </script>\n",
       "  </div>\n",
       "\n",
       "\n",
       "<div id=\"df-47ce6379-87e7-46cb-8872-633c73ae1ef9\">\n",
       "  <button class=\"colab-df-quickchart\" onclick=\"quickchart('df-47ce6379-87e7-46cb-8872-633c73ae1ef9')\"\n",
       "            title=\"Suggest charts\"\n",
       "            style=\"display:none;\">\n",
       "\n",
       "<svg xmlns=\"http://www.w3.org/2000/svg\" height=\"24px\"viewBox=\"0 0 24 24\"\n",
       "     width=\"24px\">\n",
       "    <g>\n",
       "        <path d=\"M19 3H5c-1.1 0-2 .9-2 2v14c0 1.1.9 2 2 2h14c1.1 0 2-.9 2-2V5c0-1.1-.9-2-2-2zM9 17H7v-7h2v7zm4 0h-2V7h2v10zm4 0h-2v-4h2v4z\"/>\n",
       "    </g>\n",
       "</svg>\n",
       "  </button>\n",
       "\n",
       "<style>\n",
       "  .colab-df-quickchart {\n",
       "      --bg-color: #E8F0FE;\n",
       "      --fill-color: #1967D2;\n",
       "      --hover-bg-color: #E2EBFA;\n",
       "      --hover-fill-color: #174EA6;\n",
       "      --disabled-fill-color: #AAA;\n",
       "      --disabled-bg-color: #DDD;\n",
       "  }\n",
       "\n",
       "  [theme=dark] .colab-df-quickchart {\n",
       "      --bg-color: #3B4455;\n",
       "      --fill-color: #D2E3FC;\n",
       "      --hover-bg-color: #434B5C;\n",
       "      --hover-fill-color: #FFFFFF;\n",
       "      --disabled-bg-color: #3B4455;\n",
       "      --disabled-fill-color: #666;\n",
       "  }\n",
       "\n",
       "  .colab-df-quickchart {\n",
       "    background-color: var(--bg-color);\n",
       "    border: none;\n",
       "    border-radius: 50%;\n",
       "    cursor: pointer;\n",
       "    display: none;\n",
       "    fill: var(--fill-color);\n",
       "    height: 32px;\n",
       "    padding: 0;\n",
       "    width: 32px;\n",
       "  }\n",
       "\n",
       "  .colab-df-quickchart:hover {\n",
       "    background-color: var(--hover-bg-color);\n",
       "    box-shadow: 0 1px 2px rgba(60, 64, 67, 0.3), 0 1px 3px 1px rgba(60, 64, 67, 0.15);\n",
       "    fill: var(--button-hover-fill-color);\n",
       "  }\n",
       "\n",
       "  .colab-df-quickchart-complete:disabled,\n",
       "  .colab-df-quickchart-complete:disabled:hover {\n",
       "    background-color: var(--disabled-bg-color);\n",
       "    fill: var(--disabled-fill-color);\n",
       "    box-shadow: none;\n",
       "  }\n",
       "\n",
       "  .colab-df-spinner {\n",
       "    border: 2px solid var(--fill-color);\n",
       "    border-color: transparent;\n",
       "    border-bottom-color: var(--fill-color);\n",
       "    animation:\n",
       "      spin 1s steps(1) infinite;\n",
       "  }\n",
       "\n",
       "  @keyframes spin {\n",
       "    0% {\n",
       "      border-color: transparent;\n",
       "      border-bottom-color: var(--fill-color);\n",
       "      border-left-color: var(--fill-color);\n",
       "    }\n",
       "    20% {\n",
       "      border-color: transparent;\n",
       "      border-left-color: var(--fill-color);\n",
       "      border-top-color: var(--fill-color);\n",
       "    }\n",
       "    30% {\n",
       "      border-color: transparent;\n",
       "      border-left-color: var(--fill-color);\n",
       "      border-top-color: var(--fill-color);\n",
       "      border-right-color: var(--fill-color);\n",
       "    }\n",
       "    40% {\n",
       "      border-color: transparent;\n",
       "      border-right-color: var(--fill-color);\n",
       "      border-top-color: var(--fill-color);\n",
       "    }\n",
       "    60% {\n",
       "      border-color: transparent;\n",
       "      border-right-color: var(--fill-color);\n",
       "    }\n",
       "    80% {\n",
       "      border-color: transparent;\n",
       "      border-right-color: var(--fill-color);\n",
       "      border-bottom-color: var(--fill-color);\n",
       "    }\n",
       "    90% {\n",
       "      border-color: transparent;\n",
       "      border-bottom-color: var(--fill-color);\n",
       "    }\n",
       "  }\n",
       "</style>\n",
       "\n",
       "  <script>\n",
       "    async function quickchart(key) {\n",
       "      const quickchartButtonEl =\n",
       "        document.querySelector('#' + key + ' button');\n",
       "      quickchartButtonEl.disabled = true;  // To prevent multiple clicks.\n",
       "      quickchartButtonEl.classList.add('colab-df-spinner');\n",
       "      try {\n",
       "        const charts = await google.colab.kernel.invokeFunction(\n",
       "            'suggestCharts', [key], {});\n",
       "      } catch (error) {\n",
       "        console.error('Error during call to suggestCharts:', error);\n",
       "      }\n",
       "      quickchartButtonEl.classList.remove('colab-df-spinner');\n",
       "      quickchartButtonEl.classList.add('colab-df-quickchart-complete');\n",
       "    }\n",
       "    (() => {\n",
       "      let quickchartButtonEl =\n",
       "        document.querySelector('#df-47ce6379-87e7-46cb-8872-633c73ae1ef9 button');\n",
       "      quickchartButtonEl.style.display =\n",
       "        google.colab.kernel.accessAllowed ? 'block' : 'none';\n",
       "    })();\n",
       "  </script>\n",
       "</div>\n",
       "\n",
       "    </div>\n",
       "  </div>\n"
      ],
      "text/plain": [
       "  Unicode Character                                         Definition\n",
       "0    3400         㐀                                   hillock or mound\n",
       "1    3401         㐁              to lick; to taste, a mat, bamboo bark\n",
       "2    3402         㐂  non-standard form of , to like, love, enjoy; a...\n",
       "3    3405         㐅                                               five\n",
       "4    3406         㐆  to follow, to trust to; to put confidence in; ..."
      ]
     },
     "execution_count": 1,
     "metadata": {},
     "output_type": "execute_result"
    }
   ],
   "source": [
    "import pandas as pd\n",
    "import os\n",
    "import re\n",
    "\n",
    "# Definitions are of the form \"(same as U+4E18 丘) hillock or mound\"\n",
    "# Need to clean the definition of unicode references, Chinese characters and parentheses\n",
    "\n",
    "def clean_definition(definition):\n",
    "    # Remove any parentheses containing a Chinese character\n",
    "    definition = re.sub(r'\\(.*?[/u3400-\\u9FFF]+.*?\\)', '', definition)\n",
    "    # Remove clauses containing a Chinese character separated by commas or semicolons\n",
    "    definition = re.sub(r',.*?[\\u3400-\\u9FFF]+.*?(,|$)', '', definition)\n",
    "    definition = re.sub(r';.*?[\\u3400-\\u9FFF]+.*?(;|$)', '', definition)\n",
    "    # Remove all remaining Chinese characters and non-standard characters\n",
    "    definition = re.sub(r'[\\u3400-\\u9FFF]', '', definition)\n",
    "    # Remove Unicode codes\n",
    "    definition = re.sub(r'U\\+\\w+', '', definition)\n",
    "    # Keep only ASCII\n",
    "    definition = re.sub(r'[^\\x00-\\x7F]', '', definition)\n",
    "    # Remove specific set of punctuation at start or end of string\n",
    "    definition = re.sub(r'^[!\\\"#$%&\\'()*+,-./:;<=>?@[\\\\]^_`{|}~]+|[!\\\"#$%&\\'()*+,-./:;<=>?@[\\\\]^_`{|}~]+$', '', definition)\n",
    "    # Remove isolated punctuation (surrounded by spaces)\n",
    "    definition = re.sub(r'\\s[!\\\"#$%&\\'()*+,-./:;<=>?@[\\\\]^_`{|}~]+\\s', ' ', definition)\n",
    "    # Trim extra spaces\n",
    "    definition = re.sub(r'\\s+', ' ', definition).strip()\n",
    "    return definition\n",
    "\n",
    "# Initialize lists to store the data\n",
    "unicodes = []\n",
    "characters = []\n",
    "definitions = []\n",
    "\n",
    "# Read the file line by line\n",
    "file = \"Unihan-kDefinition.txt\"\n",
    "with open(file, 'r', encoding='utf-8') as file:\n",
    "    for line in file:\n",
    "        # Extract unicode, character, and definition\n",
    "        match = re.match(r'U\\+([0-9A-F]+)\\s([\\u3400-\\u9FFF])\\tkDefinition\\t(.+)', line)\n",
    "        if match:\n",
    "            unicodes.append(match.group(1))\n",
    "            characters.append(match.group(2))\n",
    "            cleaned_definition = clean_definition(match.group(3))\n",
    "            definitions.append(cleaned_definition)\n",
    "\n",
    "# Load into a DataFrame\n",
    "df = pd.DataFrame({\n",
    "    'Unicode': unicodes,\n",
    "    'Character': characters,\n",
    "    'Definition': definitions\n",
    "})\n",
    "\n",
    "# Remove rows with empty definitions\n",
    "df = df[df['Definition'] != '']\n",
    "df.head()"
   ]
  },
  {
   "cell_type": "markdown",
   "metadata": {
    "id": "_h_3r5WI9Hjh"
   },
   "source": [
    "### Step 2: Create the dataset of images\n",
    "\n",
    "(1) Take a DataFrame df (like the one you previously created from Unihan-kDefinition.txt)\n",
    "\n",
    "(2) Extract Unicode characters and render them as images using the specified font style (e.g., 128x128 PNGs).\n",
    "\n",
    "(3) Save them into a directory using their Unicode code points as filenames."
   ]
  },
  {
   "cell_type": "code",
   "execution_count": 2,
   "metadata": {
    "id": "i4gSns3V9Hji"
   },
   "outputs": [],
   "source": [
    "import pandas as pd\n",
    "import os\n",
    "from PIL import Image, ImageDraw, ImageFont\n",
    "\n",
    "def create_image(character, font, image_size=(128, 128)):\n",
    "    \"\"\"\n",
    "    Create an image of a single Unicode character.\n",
    "    \"\"\"\n",
    "    image = Image.new('RGB', image_size, 'white')\n",
    "    draw = ImageDraw.Draw(image)\n",
    "    text_width, text_height = draw.textbbox((0, 0), character, font=font)[2:]\n",
    "    x = (image_size[0] - text_width) / 2\n",
    "    y = (image_size[1] - text_height) / 2 - 16\n",
    "    draw.text((x, y), character, fill='black', font=font)\n",
    "    return image\n",
    "\n",
    "def is_character_supported(character, font, image_size=(128, 128)):\n",
    "    \"\"\"\n",
    "    Check if the character is supported by the font.\n",
    "    \"\"\"\n",
    "    image_char = create_image(character, font, image_size)\n",
    "    image_unknown = create_image(\"�\", font, image_size)  # U+FFFD is the replacement character\n",
    "\n",
    "    return not image_char.tobytes() == image_unknown.tobytes()\n",
    "\n",
    "def generate_and_save_images_from_df(df, font_path, column_name=\"Unicode\", directory=\"data\"):\n",
    "    \"\"\"\n",
    "    Generate and save images for each character specified in the DataFrame's column.\n",
    "    \"\"\"\n",
    "    if not os.path.exists(directory):\n",
    "        os.makedirs(directory)\n",
    "\n",
    "    font_size = 100\n",
    "    font = ImageFont.truetype(font_path, font_size)\n",
    "\n",
    "    for unicode_str in df[column_name]:\n",
    "        code_point = int(unicode_str, 16)  # Convert hex string to integer\n",
    "        character = chr(code_point)\n",
    "        if is_character_supported(character, font):\n",
    "            img = create_image(character, font)\n",
    "            filename = os.path.join(directory, f\"{code_point:04X}.png\")\n",
    "            img.save(filename)\n",
    "\n",
    "# Assuming 'df' is your DataFrame and it is already defined and loaded\n",
    "font_path = 'NotoSansSC-Regular.ttf'\n",
    "# Update the function call accordingly\n",
    "generate_and_save_images_from_df(df, font_path, column_name=\"Unicode\", directory=\"data\")\n"
   ]
  },
  {
   "cell_type": "markdown",
   "metadata": {
    "id": "bajo7BTW9Hji"
   },
   "source": [
    "Generate metadata.jsonl"
   ]
  },
  {
   "cell_type": "markdown",
   "metadata": {
    "id": "wh_okz-EWZuQ"
   },
   "source": [
    "### Step 3: Converts the DataFrame to JSON Lines format (.jsonl)\n",
    "\n",
    "Each line is a separate JSON object, which is ideal for training datasets in ML frameworks like Hugging Face, PyTorch, etc."
   ]
  },
  {
   "cell_type": "code",
   "execution_count": 3,
   "metadata": {
    "id": "4rabbnDJ9Hji"
   },
   "outputs": [],
   "source": [
    "# Change \"Definition\" to \"caption\" column name\n",
    "df = df.rename(columns={'Definition': 'caption'})\n",
    "\n",
    "# Generate file names based on the 'Character Unicode' column\n",
    "df['file_name'] = df['Unicode'].apply(lambda x: x + '.png')\n",
    "\n",
    "# # If you need to split your dataset\n",
    "# train_df, test_df = train_test_split(df, test_size=0.2, random_state=42)\n",
    "\n",
    "# # Assign 'split' labels\n",
    "# train_df['split'] = 'train'\n",
    "# test_df['split'] = 'test'\n",
    "\n",
    "# # Combine back if needed\n",
    "# df_combined = pd.concat([train_df, test_df])\n",
    "\n",
    "# Ensure the DataFrame is sorted or in the desired order\n",
    "# This step is optional and can be customized\n",
    "# df_combined = df_combined.sort_values('some_column')\n",
    "\n",
    "# Convert to JSON Lines format\n",
    "jsonl_string_with_splits = df.to_json(orient='records', lines=True)\n",
    "\n",
    "# Write to metadata.jsonl file\n",
    "with open('metadata.jsonl', 'w') as file:\n",
    "    file.write(jsonl_string_with_splits)\n",
    "\n",
    "# move metadata.jsonl to the data folder for training purposes"
   ]
  },
  {
   "cell_type": "code",
   "execution_count": 4,
   "metadata": {
    "colab": {
     "base_uri": "https://localhost:8080/",
     "height": 206
    },
    "id": "81m5oDuOWf-S",
    "outputId": "fcce3c92-8cb9-46a9-e525-8df6b84ceb41"
   },
   "outputs": [
    {
     "data": {
      "application/vnd.google.colaboratory.intrinsic+json": {
       "summary": "{\n  \"name\": \"df\",\n  \"rows\": 20607,\n  \"fields\": [\n    {\n      \"column\": \"Unicode\",\n      \"properties\": {\n        \"dtype\": \"string\",\n        \"num_unique_values\": 20607,\n        \"samples\": [\n          \"875E\",\n          \"46C7\",\n          \"6832\"\n        ],\n        \"semantic_type\": \"\",\n        \"description\": \"\"\n      }\n    },\n    {\n      \"column\": \"Character\",\n      \"properties\": {\n        \"dtype\": \"string\",\n        \"num_unique_values\": 20607,\n        \"samples\": [\n          \"\\u875e\",\n          \"\\u46c7\",\n          \"\\u6832\"\n        ],\n        \"semantic_type\": \"\",\n        \"description\": \"\"\n      }\n    },\n    {\n      \"column\": \"caption\",\n      \"properties\": {\n        \"dtype\": \"string\",\n        \"num_unique_values\": 16352,\n        \"samples\": [\n          \"eating or talking, moving of the mouth\",\n          \"say, speak; clouds\",\n          \"to tread on, to kick\"\n        ],\n        \"semantic_type\": \"\",\n        \"description\": \"\"\n      }\n    },\n    {\n      \"column\": \"file_name\",\n      \"properties\": {\n        \"dtype\": \"string\",\n        \"num_unique_values\": 20607,\n        \"samples\": [\n          \"875E.png\",\n          \"46C7.png\",\n          \"6832.png\"\n        ],\n        \"semantic_type\": \"\",\n        \"description\": \"\"\n      }\n    }\n  ]\n}",
       "type": "dataframe",
       "variable_name": "df"
      },
      "text/html": [
       "\n",
       "  <div id=\"df-fbaaadc4-c1bf-4491-abeb-5d68761b11e8\" class=\"colab-df-container\">\n",
       "    <div>\n",
       "<style scoped>\n",
       "    .dataframe tbody tr th:only-of-type {\n",
       "        vertical-align: middle;\n",
       "    }\n",
       "\n",
       "    .dataframe tbody tr th {\n",
       "        vertical-align: top;\n",
       "    }\n",
       "\n",
       "    .dataframe thead th {\n",
       "        text-align: right;\n",
       "    }\n",
       "</style>\n",
       "<table border=\"1\" class=\"dataframe\">\n",
       "  <thead>\n",
       "    <tr style=\"text-align: right;\">\n",
       "      <th></th>\n",
       "      <th>Unicode</th>\n",
       "      <th>Character</th>\n",
       "      <th>caption</th>\n",
       "      <th>file_name</th>\n",
       "    </tr>\n",
       "  </thead>\n",
       "  <tbody>\n",
       "    <tr>\n",
       "      <th>0</th>\n",
       "      <td>3400</td>\n",
       "      <td>㐀</td>\n",
       "      <td>hillock or mound</td>\n",
       "      <td>3400.png</td>\n",
       "    </tr>\n",
       "    <tr>\n",
       "      <th>1</th>\n",
       "      <td>3401</td>\n",
       "      <td>㐁</td>\n",
       "      <td>to lick; to taste, a mat, bamboo bark</td>\n",
       "      <td>3401.png</td>\n",
       "    </tr>\n",
       "    <tr>\n",
       "      <th>2</th>\n",
       "      <td>3402</td>\n",
       "      <td>㐂</td>\n",
       "      <td>non-standard form of , to like, love, enjoy; a...</td>\n",
       "      <td>3402.png</td>\n",
       "    </tr>\n",
       "    <tr>\n",
       "      <th>3</th>\n",
       "      <td>3405</td>\n",
       "      <td>㐅</td>\n",
       "      <td>five</td>\n",
       "      <td>3405.png</td>\n",
       "    </tr>\n",
       "    <tr>\n",
       "      <th>4</th>\n",
       "      <td>3406</td>\n",
       "      <td>㐆</td>\n",
       "      <td>to follow, to trust to; to put confidence in; ...</td>\n",
       "      <td>3406.png</td>\n",
       "    </tr>\n",
       "  </tbody>\n",
       "</table>\n",
       "</div>\n",
       "    <div class=\"colab-df-buttons\">\n",
       "\n",
       "  <div class=\"colab-df-container\">\n",
       "    <button class=\"colab-df-convert\" onclick=\"convertToInteractive('df-fbaaadc4-c1bf-4491-abeb-5d68761b11e8')\"\n",
       "            title=\"Convert this dataframe to an interactive table.\"\n",
       "            style=\"display:none;\">\n",
       "\n",
       "  <svg xmlns=\"http://www.w3.org/2000/svg\" height=\"24px\" viewBox=\"0 -960 960 960\">\n",
       "    <path d=\"M120-120v-720h720v720H120Zm60-500h600v-160H180v160Zm220 220h160v-160H400v160Zm0 220h160v-160H400v160ZM180-400h160v-160H180v160Zm440 0h160v-160H620v160ZM180-180h160v-160H180v160Zm440 0h160v-160H620v160Z\"/>\n",
       "  </svg>\n",
       "    </button>\n",
       "\n",
       "  <style>\n",
       "    .colab-df-container {\n",
       "      display:flex;\n",
       "      gap: 12px;\n",
       "    }\n",
       "\n",
       "    .colab-df-convert {\n",
       "      background-color: #E8F0FE;\n",
       "      border: none;\n",
       "      border-radius: 50%;\n",
       "      cursor: pointer;\n",
       "      display: none;\n",
       "      fill: #1967D2;\n",
       "      height: 32px;\n",
       "      padding: 0 0 0 0;\n",
       "      width: 32px;\n",
       "    }\n",
       "\n",
       "    .colab-df-convert:hover {\n",
       "      background-color: #E2EBFA;\n",
       "      box-shadow: 0px 1px 2px rgba(60, 64, 67, 0.3), 0px 1px 3px 1px rgba(60, 64, 67, 0.15);\n",
       "      fill: #174EA6;\n",
       "    }\n",
       "\n",
       "    .colab-df-buttons div {\n",
       "      margin-bottom: 4px;\n",
       "    }\n",
       "\n",
       "    [theme=dark] .colab-df-convert {\n",
       "      background-color: #3B4455;\n",
       "      fill: #D2E3FC;\n",
       "    }\n",
       "\n",
       "    [theme=dark] .colab-df-convert:hover {\n",
       "      background-color: #434B5C;\n",
       "      box-shadow: 0px 1px 3px 1px rgba(0, 0, 0, 0.15);\n",
       "      filter: drop-shadow(0px 1px 2px rgba(0, 0, 0, 0.3));\n",
       "      fill: #FFFFFF;\n",
       "    }\n",
       "  </style>\n",
       "\n",
       "    <script>\n",
       "      const buttonEl =\n",
       "        document.querySelector('#df-fbaaadc4-c1bf-4491-abeb-5d68761b11e8 button.colab-df-convert');\n",
       "      buttonEl.style.display =\n",
       "        google.colab.kernel.accessAllowed ? 'block' : 'none';\n",
       "\n",
       "      async function convertToInteractive(key) {\n",
       "        const element = document.querySelector('#df-fbaaadc4-c1bf-4491-abeb-5d68761b11e8');\n",
       "        const dataTable =\n",
       "          await google.colab.kernel.invokeFunction('convertToInteractive',\n",
       "                                                    [key], {});\n",
       "        if (!dataTable) return;\n",
       "\n",
       "        const docLinkHtml = 'Like what you see? Visit the ' +\n",
       "          '<a target=\"_blank\" href=https://colab.research.google.com/notebooks/data_table.ipynb>data table notebook</a>'\n",
       "          + ' to learn more about interactive tables.';\n",
       "        element.innerHTML = '';\n",
       "        dataTable['output_type'] = 'display_data';\n",
       "        await google.colab.output.renderOutput(dataTable, element);\n",
       "        const docLink = document.createElement('div');\n",
       "        docLink.innerHTML = docLinkHtml;\n",
       "        element.appendChild(docLink);\n",
       "      }\n",
       "    </script>\n",
       "  </div>\n",
       "\n",
       "\n",
       "<div id=\"df-d2e458ee-d19b-41ea-96b2-0407b6a95c9a\">\n",
       "  <button class=\"colab-df-quickchart\" onclick=\"quickchart('df-d2e458ee-d19b-41ea-96b2-0407b6a95c9a')\"\n",
       "            title=\"Suggest charts\"\n",
       "            style=\"display:none;\">\n",
       "\n",
       "<svg xmlns=\"http://www.w3.org/2000/svg\" height=\"24px\"viewBox=\"0 0 24 24\"\n",
       "     width=\"24px\">\n",
       "    <g>\n",
       "        <path d=\"M19 3H5c-1.1 0-2 .9-2 2v14c0 1.1.9 2 2 2h14c1.1 0 2-.9 2-2V5c0-1.1-.9-2-2-2zM9 17H7v-7h2v7zm4 0h-2V7h2v10zm4 0h-2v-4h2v4z\"/>\n",
       "    </g>\n",
       "</svg>\n",
       "  </button>\n",
       "\n",
       "<style>\n",
       "  .colab-df-quickchart {\n",
       "      --bg-color: #E8F0FE;\n",
       "      --fill-color: #1967D2;\n",
       "      --hover-bg-color: #E2EBFA;\n",
       "      --hover-fill-color: #174EA6;\n",
       "      --disabled-fill-color: #AAA;\n",
       "      --disabled-bg-color: #DDD;\n",
       "  }\n",
       "\n",
       "  [theme=dark] .colab-df-quickchart {\n",
       "      --bg-color: #3B4455;\n",
       "      --fill-color: #D2E3FC;\n",
       "      --hover-bg-color: #434B5C;\n",
       "      --hover-fill-color: #FFFFFF;\n",
       "      --disabled-bg-color: #3B4455;\n",
       "      --disabled-fill-color: #666;\n",
       "  }\n",
       "\n",
       "  .colab-df-quickchart {\n",
       "    background-color: var(--bg-color);\n",
       "    border: none;\n",
       "    border-radius: 50%;\n",
       "    cursor: pointer;\n",
       "    display: none;\n",
       "    fill: var(--fill-color);\n",
       "    height: 32px;\n",
       "    padding: 0;\n",
       "    width: 32px;\n",
       "  }\n",
       "\n",
       "  .colab-df-quickchart:hover {\n",
       "    background-color: var(--hover-bg-color);\n",
       "    box-shadow: 0 1px 2px rgba(60, 64, 67, 0.3), 0 1px 3px 1px rgba(60, 64, 67, 0.15);\n",
       "    fill: var(--button-hover-fill-color);\n",
       "  }\n",
       "\n",
       "  .colab-df-quickchart-complete:disabled,\n",
       "  .colab-df-quickchart-complete:disabled:hover {\n",
       "    background-color: var(--disabled-bg-color);\n",
       "    fill: var(--disabled-fill-color);\n",
       "    box-shadow: none;\n",
       "  }\n",
       "\n",
       "  .colab-df-spinner {\n",
       "    border: 2px solid var(--fill-color);\n",
       "    border-color: transparent;\n",
       "    border-bottom-color: var(--fill-color);\n",
       "    animation:\n",
       "      spin 1s steps(1) infinite;\n",
       "  }\n",
       "\n",
       "  @keyframes spin {\n",
       "    0% {\n",
       "      border-color: transparent;\n",
       "      border-bottom-color: var(--fill-color);\n",
       "      border-left-color: var(--fill-color);\n",
       "    }\n",
       "    20% {\n",
       "      border-color: transparent;\n",
       "      border-left-color: var(--fill-color);\n",
       "      border-top-color: var(--fill-color);\n",
       "    }\n",
       "    30% {\n",
       "      border-color: transparent;\n",
       "      border-left-color: var(--fill-color);\n",
       "      border-top-color: var(--fill-color);\n",
       "      border-right-color: var(--fill-color);\n",
       "    }\n",
       "    40% {\n",
       "      border-color: transparent;\n",
       "      border-right-color: var(--fill-color);\n",
       "      border-top-color: var(--fill-color);\n",
       "    }\n",
       "    60% {\n",
       "      border-color: transparent;\n",
       "      border-right-color: var(--fill-color);\n",
       "    }\n",
       "    80% {\n",
       "      border-color: transparent;\n",
       "      border-right-color: var(--fill-color);\n",
       "      border-bottom-color: var(--fill-color);\n",
       "    }\n",
       "    90% {\n",
       "      border-color: transparent;\n",
       "      border-bottom-color: var(--fill-color);\n",
       "    }\n",
       "  }\n",
       "</style>\n",
       "\n",
       "  <script>\n",
       "    async function quickchart(key) {\n",
       "      const quickchartButtonEl =\n",
       "        document.querySelector('#' + key + ' button');\n",
       "      quickchartButtonEl.disabled = true;  // To prevent multiple clicks.\n",
       "      quickchartButtonEl.classList.add('colab-df-spinner');\n",
       "      try {\n",
       "        const charts = await google.colab.kernel.invokeFunction(\n",
       "            'suggestCharts', [key], {});\n",
       "      } catch (error) {\n",
       "        console.error('Error during call to suggestCharts:', error);\n",
       "      }\n",
       "      quickchartButtonEl.classList.remove('colab-df-spinner');\n",
       "      quickchartButtonEl.classList.add('colab-df-quickchart-complete');\n",
       "    }\n",
       "    (() => {\n",
       "      let quickchartButtonEl =\n",
       "        document.querySelector('#df-d2e458ee-d19b-41ea-96b2-0407b6a95c9a button');\n",
       "      quickchartButtonEl.style.display =\n",
       "        google.colab.kernel.accessAllowed ? 'block' : 'none';\n",
       "    })();\n",
       "  </script>\n",
       "</div>\n",
       "\n",
       "    </div>\n",
       "  </div>\n"
      ],
      "text/plain": [
       "  Unicode Character                                            caption  \\\n",
       "0    3400         㐀                                   hillock or mound   \n",
       "1    3401         㐁              to lick; to taste, a mat, bamboo bark   \n",
       "2    3402         㐂  non-standard form of , to like, love, enjoy; a...   \n",
       "3    3405         㐅                                               five   \n",
       "4    3406         㐆  to follow, to trust to; to put confidence in; ...   \n",
       "\n",
       "  file_name  \n",
       "0  3400.png  \n",
       "1  3401.png  \n",
       "2  3402.png  \n",
       "3  3405.png  \n",
       "4  3406.png  "
      ]
     },
     "execution_count": 4,
     "metadata": {},
     "output_type": "execute_result"
    }
   ],
   "source": [
    "df.head()"
   ]
  },
  {
   "cell_type": "markdown",
   "metadata": {
    "id": "QPU7KJcNXE6F"
   },
   "source": [
    "### Step 4: Define training model configuration"
   ]
  },
  {
   "cell_type": "code",
   "execution_count": 15,
   "metadata": {
    "id": "RHeGh7XU-2m2"
   },
   "outputs": [],
   "source": [
    "from dataclasses import dataclass\n",
    "\n",
    "@dataclass\n",
    "class TrainingConfig:\n",
    "    image_size = 128  # assumes images are square\n",
    "    train_batch_size = 32\n",
    "    eval_batch_size = 32\n",
    "    num_epochs = 30\n",
    "    gradient_accumulation_steps = 1\n",
    "    learning_rate = 1e-4\n",
    "    lr_warmup_steps = 500\n",
    "    save_image_epochs = 1\n",
    "    save_model_epochs = 30\n",
    "    mixed_precision = \"fp16\"  # `no` for float32, `fp16` for automatic mixed precision\n",
    "    output_dir = \"glyffuser-unconditional\"  # the model name\n",
    "    overwrite_output_dir = True  # overwrite the old model when re-running the notebook\n",
    "    seed = 0\n",
    "    dataset_name=\"data128\"\n",
    "\n",
    "config = TrainingConfig()"
   ]
  },
  {
   "cell_type": "markdown",
   "metadata": {
    "id": "PD7QF9PjXKpl"
   },
   "source": [
    "### Step 5: Create Local Dataset Class and helper functions"
   ]
  },
  {
   "cell_type": "code",
   "execution_count": 16,
   "metadata": {
    "colab": {
     "base_uri": "https://localhost:8080/"
    },
    "id": "7RV7ieh1-8fH",
    "outputId": "1549b0c2-220a-460f-ed68-643b555bae80"
   },
   "outputs": [
    {
     "name": "stdout",
     "output_type": "stream",
     "text": [
      "Requirement already satisfied: datasets in /usr/local/lib/python3.11/dist-packages (3.5.0)\n",
      "Requirement already satisfied: filelock in /usr/local/lib/python3.11/dist-packages (from datasets) (3.18.0)\n",
      "Requirement already satisfied: numpy>=1.17 in /usr/local/lib/python3.11/dist-packages (from datasets) (2.0.2)\n",
      "Requirement already satisfied: pyarrow>=15.0.0 in /usr/local/lib/python3.11/dist-packages (from datasets) (18.1.0)\n",
      "Requirement already satisfied: dill<0.3.9,>=0.3.0 in /usr/local/lib/python3.11/dist-packages (from datasets) (0.3.8)\n",
      "Requirement already satisfied: pandas in /usr/local/lib/python3.11/dist-packages (from datasets) (2.2.2)\n",
      "Requirement already satisfied: requests>=2.32.2 in /usr/local/lib/python3.11/dist-packages (from datasets) (2.32.3)\n",
      "Requirement already satisfied: tqdm>=4.66.3 in /usr/local/lib/python3.11/dist-packages (from datasets) (4.67.1)\n",
      "Requirement already satisfied: xxhash in /usr/local/lib/python3.11/dist-packages (from datasets) (3.5.0)\n",
      "Requirement already satisfied: multiprocess<0.70.17 in /usr/local/lib/python3.11/dist-packages (from datasets) (0.70.16)\n",
      "Requirement already satisfied: fsspec<=2024.12.0,>=2023.1.0 in /usr/local/lib/python3.11/dist-packages (from fsspec[http]<=2024.12.0,>=2023.1.0->datasets) (2024.12.0)\n",
      "Requirement already satisfied: aiohttp in /usr/local/lib/python3.11/dist-packages (from datasets) (3.11.15)\n",
      "Requirement already satisfied: huggingface-hub>=0.24.0 in /usr/local/lib/python3.11/dist-packages (from datasets) (0.30.1)\n",
      "Requirement already satisfied: packaging in /usr/local/lib/python3.11/dist-packages (from datasets) (24.2)\n",
      "Requirement already satisfied: pyyaml>=5.1 in /usr/local/lib/python3.11/dist-packages (from datasets) (6.0.2)\n",
      "Requirement already satisfied: aiohappyeyeballs>=2.3.0 in /usr/local/lib/python3.11/dist-packages (from aiohttp->datasets) (2.6.1)\n",
      "Requirement already satisfied: aiosignal>=1.1.2 in /usr/local/lib/python3.11/dist-packages (from aiohttp->datasets) (1.3.2)\n",
      "Requirement already satisfied: attrs>=17.3.0 in /usr/local/lib/python3.11/dist-packages (from aiohttp->datasets) (25.3.0)\n",
      "Requirement already satisfied: frozenlist>=1.1.1 in /usr/local/lib/python3.11/dist-packages (from aiohttp->datasets) (1.5.0)\n",
      "Requirement already satisfied: multidict<7.0,>=4.5 in /usr/local/lib/python3.11/dist-packages (from aiohttp->datasets) (6.3.2)\n",
      "Requirement already satisfied: propcache>=0.2.0 in /usr/local/lib/python3.11/dist-packages (from aiohttp->datasets) (0.3.1)\n",
      "Requirement already satisfied: yarl<2.0,>=1.17.0 in /usr/local/lib/python3.11/dist-packages (from aiohttp->datasets) (1.18.3)\n",
      "Requirement already satisfied: typing-extensions>=3.7.4.3 in /usr/local/lib/python3.11/dist-packages (from huggingface-hub>=0.24.0->datasets) (4.13.1)\n",
      "Requirement already satisfied: charset-normalizer<4,>=2 in /usr/local/lib/python3.11/dist-packages (from requests>=2.32.2->datasets) (3.4.1)\n",
      "Requirement already satisfied: idna<4,>=2.5 in /usr/local/lib/python3.11/dist-packages (from requests>=2.32.2->datasets) (3.10)\n",
      "Requirement already satisfied: urllib3<3,>=1.21.1 in /usr/local/lib/python3.11/dist-packages (from requests>=2.32.2->datasets) (2.3.0)\n",
      "Requirement already satisfied: certifi>=2017.4.17 in /usr/local/lib/python3.11/dist-packages (from requests>=2.32.2->datasets) (2025.1.31)\n",
      "Requirement already satisfied: python-dateutil>=2.8.2 in /usr/local/lib/python3.11/dist-packages (from pandas->datasets) (2.8.2)\n",
      "Requirement already satisfied: pytz>=2020.1 in /usr/local/lib/python3.11/dist-packages (from pandas->datasets) (2025.2)\n",
      "Requirement already satisfied: tzdata>=2022.7 in /usr/local/lib/python3.11/dist-packages (from pandas->datasets) (2025.2)\n",
      "Requirement already satisfied: six>=1.5 in /usr/local/lib/python3.11/dist-packages (from python-dateutil>=2.8.2->pandas->datasets) (1.17.0)\n"
     ]
    }
   ],
   "source": [
    "!pip install datasets\n",
    "from datasets import Dataset\n",
    "from pathlib import Path\n",
    "from PIL import Image\n",
    "from torch.utils.data import Dataset, DataLoader\n",
    "from torch.optim import AdamW\n",
    "import torchvision.transforms as T\n",
    "import torch.nn.functional as F\n",
    "from diffusers import UNet2DModel, DDPMScheduler, DPMSolverMultistepScheduler\n",
    "from diffusers.optimization import get_cosine_schedule_with_warmup\n",
    "from diffusers import DDPMPipeline\n",
    "from accelerate import Accelerator\n",
    "import torch\n",
    "from tqdm.auto import tqdm\n",
    "import os\n",
    "\n",
    "def normalize_neg_one_to_one(img):\n",
    "    return img * 2 - 1\n",
    "\n",
    "# UPDATED LocalDataset class\n",
    "class LocalDataset(Dataset):\n",
    "    def __init__(self, folder, image_size, exts=['png']):\n",
    "        super().__init__()\n",
    "        self.folder = folder\n",
    "        self.image_size = image_size\n",
    "\n",
    "        # Match extensions case-insensitively\n",
    "        self.paths = []\n",
    "        for ext in exts:\n",
    "            self.paths.extend([\n",
    "                p for p in Path(folder).rglob(f'*.{ext}')\n",
    "                if p.suffix.lower() == f'.{ext.lower()}'\n",
    "            ])\n",
    "\n",
    "        assert len(self.paths) > 0, f\"No images found in {folder}. Check path and extensions.\"\n",
    "\n",
    "        self.transform = T.Compose([\n",
    "            T.Resize((image_size, image_size)),\n",
    "            T.ToTensor(),\n",
    "            T.Lambda(normalize_neg_one_to_one),\n",
    "        ])\n",
    "\n",
    "    def __len__(self):\n",
    "        return len(self.paths)\n",
    "\n",
    "    def __getitem__(self, index):\n",
    "        path = self.paths[index]\n",
    "        img = Image.open(path).convert('L')  # Grayscale\n",
    "        return self.transform(img)\n",
    "\n",
    "def make_grid(images, rows, cols):\n",
    "    # Helper function for making a grid of images\n",
    "    w, h = images[0].size\n",
    "    grid = Image.new('RGB', size=(cols*w, rows*h))\n",
    "    for i, image in enumerate(images):\n",
    "        grid.paste(image, box=(i%cols*w, i//cols*h))\n",
    "    return grid\n",
    "\n",
    "def evaluate(config, epoch, pipeline):\n",
    "    # Sample from the model and save the images in a grid\n",
    "    images = pipeline(\n",
    "        batch_size=config.eval_batch_size,\n",
    "        generator=torch.Generator(device='cpu').manual_seed(config.seed),\n",
    "        num_inference_steps=50\n",
    "    ).images\n",
    "\n",
    "    image_grid = make_grid(images, rows=4, cols=4)\n",
    "\n",
    "    test_dir = os.path.join(config.output_dir, \"samples\")\n",
    "    os.makedirs(test_dir, exist_ok=True)\n",
    "    image_grid.save(f\"{test_dir}/{epoch:04d}.png\")\n"
   ]
  },
  {
   "cell_type": "markdown",
   "metadata": {
    "id": "lM5kUcgvXST4"
   },
   "source": [
    "### Step 6: Define model training loop"
   ]
  },
  {
   "cell_type": "code",
   "execution_count": 17,
   "metadata": {
    "id": "u4okkjY2XUYc"
   },
   "outputs": [],
   "source": [
    "def train_loop(config, model, noise_scheduler, optimizer, train_dataloader, lr_scheduler):\n",
    "    accelerator = Accelerator(\n",
    "        mixed_precision=config.mixed_precision,\n",
    "        gradient_accumulation_steps=config.gradient_accumulation_steps,\n",
    "        log_with=\"tensorboard\",\n",
    "        project_dir=os.path.join(config.output_dir, \"logs\")\n",
    "    )\n",
    "\n",
    "    if accelerator.is_main_process:\n",
    "        if config.output_dir is not None:\n",
    "            os.makedirs(config.output_dir, exist_ok=True)\n",
    "        accelerator.init_trackers(\"train_example\")\n",
    "\n",
    "    model, optimizer, train_dataloader, lr_scheduler = accelerator.prepare(\n",
    "        model, optimizer, train_dataloader, lr_scheduler\n",
    "    )\n",
    "\n",
    "    global_step = 0\n",
    "\n",
    "    for epoch in range(config.num_epochs):\n",
    "        progress_bar = tqdm(total=len(train_dataloader), disable=not accelerator.is_local_main_process)\n",
    "        progress_bar.set_description(f\"Epoch {epoch}\")\n",
    "\n",
    "        for step, batch in enumerate(train_dataloader):\n",
    "            clean_images = batch\n",
    "            noise = torch.randn(clean_images.shape).to(clean_images.device)\n",
    "            bs = clean_images.shape[0]\n",
    "            timesteps = torch.randint(0, noise_scheduler.num_train_timesteps, (bs,), device=clean_images.device).long()\n",
    "            noisy_images = noise_scheduler.add_noise(clean_images, noise, timesteps)\n",
    "\n",
    "            with accelerator.accumulate(model):\n",
    "                noise_pred = model(noisy_images, timesteps, return_dict=False)[0]\n",
    "                loss = F.mse_loss(noise_pred, noise)\n",
    "                accelerator.backward(loss)\n",
    "                accelerator.clip_grad_norm_(model.parameters(), 1.0)\n",
    "                optimizer.step()\n",
    "                lr_scheduler.step()\n",
    "                optimizer.zero_grad()\n",
    "\n",
    "            progress_bar.update(1)\n",
    "            logs = {\"loss\": loss.detach().item(), \"lr\": lr_scheduler.get_last_lr()[0], \"step\": global_step}\n",
    "            progress_bar.set_postfix(**logs)\n",
    "            accelerator.log(logs, step=global_step)\n",
    "            global_step += 1\n",
    "\n",
    "        if accelerator.is_main_process:\n",
    "            if (epoch + 1) % config.save_image_epochs == 0 or epoch == config.num_epochs - 1:\n",
    "                pipeline = DDPMPipeline(unet=accelerator.unwrap_model(model), scheduler=inference_scheduler)\n",
    "                evaluate(config, epoch, pipeline)\n",
    "\n",
    "            if (epoch + 1) % config.save_model_epochs == 0 or epoch == config.num_epochs - 1:\n",
    "                pipeline = DDPMPipeline(unet=accelerator.unwrap_model(model), scheduler=inference_scheduler)\n",
    "                save_dir = os.path.join(config.output_dir, f\"epoch{epoch}\")\n",
    "                pipeline.save_pretrained(save_dir)"
   ]
  },
  {
   "cell_type": "markdown",
   "metadata": {
    "id": "FMh_fGstXXbT"
   },
   "source": [
    "### Step 7: Load dataset"
   ]
  },
  {
   "cell_type": "code",
   "execution_count": 18,
   "metadata": {
    "id": "Cb9XLgJn_L2e"
   },
   "outputs": [],
   "source": [
    "# Define data source\n",
    "dataset = LocalDataset(\"data\", image_size=config.image_size)\n",
    "train_dataloader = DataLoader(dataset, batch_size=config.train_batch_size, shuffle=True)"
   ]
  },
  {
   "cell_type": "markdown",
   "metadata": {
    "id": "8txNXtRcXcMf"
   },
   "source": [
    "### Step 8: Define UNet Model"
   ]
  },
  {
   "cell_type": "code",
   "execution_count": 19,
   "metadata": {
    "id": "0LZ_aRt-Xd9c"
   },
   "outputs": [],
   "source": [
    "# Define model\n",
    "model = UNet2DModel(\n",
    "    sample_size=config.image_size,  # the target image resolution\n",
    "    in_channels=1,  # the number of input channels\n",
    "    out_channels=1,  # the number of output channels\n",
    "    layers_per_block=1,  # how many ResNet layers to use per UNet block\n",
    "    block_out_channels=(128, 128, 256, 256, 512, 512),  # the number of output channels for each UNet block\n",
    "    down_block_types=(\n",
    "        \"DownBlock2D\",\n",
    "        \"DownBlock2D\",\n",
    "        \"DownBlock2D\",\n",
    "        \"DownBlock2D\",\n",
    "        \"AttnDownBlock2D\",\n",
    "        \"DownBlock2D\",\n",
    "    ),\n",
    "    up_block_types=(\n",
    "        \"UpBlock2D\",\n",
    "        \"AttnUpBlock2D\",\n",
    "        \"UpBlock2D\",\n",
    "        \"UpBlock2D\",\n",
    "        \"UpBlock2D\",\n",
    "        \"UpBlock2D\",\n",
    "    ),\n",
    ")"
   ]
  },
  {
   "cell_type": "markdown",
   "metadata": {
    "id": "KfmGAQdaXe06"
   },
   "source": [
    "### Step 9: Define optimizers and schedulers"
   ]
  },
  {
   "cell_type": "code",
   "execution_count": 20,
   "metadata": {
    "id": "AbfMLI6RXjLV"
   },
   "outputs": [],
   "source": [
    "noise_scheduler = DDPMScheduler(num_train_timesteps=1000)\n",
    "inference_scheduler = DPMSolverMultistepScheduler()\n",
    "optimizer = AdamW(model.parameters(), lr=config.learning_rate)\n",
    "lr_scheduler = get_cosine_schedule_with_warmup(\n",
    "    optimizer=optimizer,\n",
    "    num_warmup_steps=config.lr_warmup_steps,\n",
    "    num_training_steps=(len(train_dataloader) * config.num_epochs),\n",
    ")"
   ]
  },
  {
   "cell_type": "markdown",
   "metadata": {
    "id": "jyksgzGeXkEJ"
   },
   "source": [
    "### Step 10: Run training on the model!"
   ]
  },
  {
   "cell_type": "code",
   "execution_count": 21,
   "metadata": {
    "colab": {
     "base_uri": "https://localhost:8080/",
     "height": 1000,
     "referenced_widgets": [
      "5a225e8609ab49e99f17c413b15fb761",
      "7201c234ee4945619f42326a8a0caabe",
      "056110503c0b4aaeb51c3ba4c09d4f92",
      "2a7319bcea374d76814bd98e6338edb7",
      "a8f1b8d8755f4300a8e0fe7f811d8c7c",
      "3138ae8efa0548b1907ba2f54b2bcc12",
      "ee3780a58b744339a92784e283d2c0d5",
      "9def8cb471664cc6ac72b6fbe8f1b0dd",
      "07df2438c9c4426c83a8f07a56183a77",
      "bb5825b9f1ea40b5b6efe0f6465d64c6",
      "e8df5b736d8a419f8800b7ea93a278ab",
      "e9f3677b56c54a748821ff6415b90514",
      "16b61d0a8db640228071164df65dd174",
      "ec7a0793d96b4993942f29e5642e4ccb",
      "47877978813a4e8eb67df7bcf3f7e18c",
      "183ba7542838424eb8113c2e4ad9901f",
      "d013ffca970e42fa8645d26ab6e266ad",
      "b419b571a41e4c3980c0ae2764d99374",
      "3fd6cf64b0b94bd596ed5576122601c8",
      "87b9826caa814419bc0fd1d4f97256d9",
      "0a410c02bf0b4710b0e4cd11b3b74ce4",
      "924f625e96694fe28a67b39bd4288463",
      "1ca8edce74ea4b8e9d9d51807d8d5fdd",
      "5ac4d54e21484ab5b294b7d8413025a4",
      "e024bf2edb2e456694d0680ec79b428f",
      "43a83755963b47a3b30a59d788bd575e",
      "6eae6830e1954c22a51b938ae4d72d63",
      "31f805e10cbf43539350ba79e9106b7f",
      "21eb328f36584c6ca1230b1d004a63ad",
      "683548c12946403d96e7b5a3a2ef7aad",
      "aadef6764fe444199ec9515637d22c1a",
      "fd53c8a8bf7b456ea1a63d3ea7550c29",
      "79e8c86156cb46faa8b61e8b2eeec2e1",
      "ac0f78f3d8cf4963ab04cdad2a070b3d",
      "13dfb6c5cda9420890eaacb7f65e2f88",
      "e4f4ae7c3d7f469499f07d373cfbdfdc",
      "ba4ed63d0e404cf7b05f36d045a88386",
      "ebdffac740394235bf45094e9ea6e0a4",
      "a4982dfbf1e246c990c9aeb1ff81adcb",
      "9b0d078bb9174dae826dd6c2581fb4f8",
      "5d4c2d6e200e4396aada54612153d7d8",
      "6d5851dbb10a45338c0e775f33460573",
      "38242dd1ef614e088a4f99cdf787fa77",
      "339726985fd143cb80f2732e311cf3e1",
      "0db0cd0e53184b4d826954f3d06b3bff",
      "9d59e37e3ee74b47ae68c21af864ef9f",
      "e911eb5a87774bcbbc025c5db3308b62",
      "54ed36da030c4c989862e5bb2289bd39",
      "3c44dd1d5905473b9887577a8b0bf343",
      "ebfb4d58c1854610b342469781d2b5d4",
      "e53d001bfb6246e4a7b1338d3cc6560b",
      "e8b3b23262d64dc398ac8926d03e379d",
      "c0fe872083a24242b526d1741e8420d6",
      "f813b23e9ef3448c8adc1d5ccf2fb0b5",
      "58e54637b8704f15b7defb2471bf29cb",
      "9d547fae242a43b598f04e291f7b8d38",
      "b925d5224ce9429eb7e80074252440a1",
      "5a1ba655e3b6408e9c6cc90baf45d776",
      "0960626732944e718f2c143ab20cc918",
      "b69fddc26f6640a28c6f6e9d03c87df2",
      "2673c86a0d48400eaccc4f244274e528",
      "42b121dbda744d8180886741235dc0de",
      "2804b3b23aab4615850785ef737cca3b",
      "9e94525fe10f4518b04ebda244e93690",
      "008b2b78278c4260823580571f5cbb62",
      "6e0761b476b94afa8e5c23f486111390",
      "140fe4b024294a9dbe6cd73dad8f671e",
      "09495afb61e546cea70f36adf0405ae6",
      "0bb9effe1a4a4f1e99ffd4dabe7215e0",
      "2c897c0c7bd6448197fbdef5941538c3",
      "6e9ecda24fdf41a3b6da5f3b140c6a1d",
      "51d89e8900984f8da4e706467f51b0b5",
      "eb57586983af4992afeb1aeff15f8554",
      "6552f9ccfe8344d8ab7a1583cd8c3ac7",
      "b8a140feb0594f09902fdb4a0da1ea42",
      "165b7fd5e5e74befbff9efb0a8693d29",
      "84378f72f9234baa9ad38bcf14b8933d",
      "009cd21f110f43a6b07c9be9a160b270",
      "913d75aafc9b416cbb2822350468c02b",
      "fe0d03b4a1d94e34b728f283685b283a",
      "cc3c655b292f4c2292faf070c113b34f",
      "e18088d18b1e49499ff0e6bc49557409",
      "4d5dae8a41164167adacbfff1cba2cd5",
      "b3620182086647298bd30f6c3b12a545",
      "7c0d777e7f90480fad3f9d4a9835a3f2",
      "4b7f6b59000f4ed9a79b63ad4ca95e11",
      "ebae0b3d320b455ab52eb7f02980e600",
      "bc94562054f2449b89b24361412b0a3a",
      "fb0565b8bea34066a508d46fa39577c5",
      "6015b2f9862f49be878cf2c1233be878",
      "0c4e9e698091459b9b8e24650cbab5de",
      "765434b21b8740c2a54ee87a66638977",
      "06389f784df2414ea5a1dd5312dd33ff",
      "6a11c299187545e1989a0f59d054636c",
      "9aa3838d34804773a427e9c76c5cd91a",
      "3a898bf2601043ce8fa5921365ac3781",
      "a8ee63c178a24b5f939fc0059bfc7b67",
      "73dbdab6a993475f909a09329d81ac9a",
      "c5a268907bff4e8e8cac18848b883691",
      "36815adeaf9f4651a1b44907b92b8287",
      "da4b87a92d734e7391afd561c1ad74a6",
      "9199e26c9ce44b70a372910813295134",
      "4237fee082c14c17a7fa113a3f261124",
      "bd5f22489303447ba9256c77dd36b248",
      "b672bbc63ab741db8b5c8949f0fc78bd",
      "69e49bd5a93646e69c8a79cdd94e3d14",
      "a2248d7ccdbc4faba311a7723cf94ddf",
      "3efe1e50b5fb483fbb36770e176e56b2",
      "0c1498a4264f4ed285e69d9dd90be373",
      "185e40e4f8ae4972a109421c1820db9b",
      "8efcbf819fe947cb86dcbd3ebbd3b487",
      "4ad1cf615312451cb3cd9ed5dc862fb9",
      "2b313e2860dd4184b92ca2be7d63f1f3",
      "1d1e8eda0c7542f28a49b8373f41ab7a",
      "89591179b48e439aacb7d66a44ad2fa0",
      "132ba783c2994843a01e76f044fef747",
      "d092da6e571546e690d47f16f87577c1",
      "1f21b3b125824a8a8443597f19f556d2",
      "16189948cba845dd9ef9ab43a1bcdd5b",
      "fcd2394e051b496eb61168aa987286e2",
      "a45da7f6a83a476db95e327893d9d911",
      "4b604dfad623499b8ada4de2e03f80e5",
      "964d2a31bfaa4966afecca3dfbd16197",
      "d5075a2943ff46a7b8396e52a8d453c7",
      "eeb8fe4a2c374a9f89a609df37143233",
      "e9178632b8dc4ecb92ef1bb2ed10df63",
      "3f7e44dd14154b2cb63cb119a06835f1",
      "e9ccce3ac69e4de9804d34f7e587b64b",
      "807253d2e6a04ca4a235821e65722692",
      "b3e2dd7cf4454b8389fecf892985e726",
      "031c899f4a4b44a79178125c9e861dcc",
      "3d0a449bcfa0414f8e625f1bb85d9010",
      "2bef546a20eb4728b9ebb084422bb13a",
      "ef3124d2ac44455ebd98c231fb3de01e",
      "81ce89e016904397b7f3791092785ad9",
      "93bc5967e2804440a7fc3aef6fbeab59",
      "70e4ab15e54b43afaad4a77034cff218",
      "a4e8b32a9ade4c02b4ec27c42e685b06",
      "6b92ad5537bf45659b71efd5c54e04fa",
      "f79d76629a2b48c9aa0095cd95c96226",
      "f6881c0c0d274a03b75360a26f08ba1b",
      "e36ef3ccbc5745769eac97748abc760f",
      "652d1f6d949b4741be307a064cd1a69f",
      "9f3314fda9b84effaaf8bb1390f50a4c",
      "fdc3543d1890411292bce487538e5e45",
      "7c250d72cb5f4ca3aecb7e81c220da98",
      "3b8d08c3ae5f461d9891c3f3fa3c6633",
      "1f8374bce6ad4354ad466c0fcc84e43d",
      "d8ec0345c48747099f42036b866ce86c",
      "6428d0510a244bdd8459564b41a1531e",
      "1c1fb7bdfa03429688110dff78e8b9be",
      "39f2760f046a4d72b0bb5b693bacf474",
      "c720b5e2460d4e0584a296661f701e43",
      "d2ac9a8f1ba64e34b33fa13b32b4effa",
      "62fbf8f0d7b2462eaa84ec7ed3d8a431",
      "84ae7a9c22a24e128f1145fa0a9b50bd",
      "a56a05d862a946df82a3fcb5f8e0b2a7",
      "1543025f75af4bf590f2e1bf478dc3bc",
      "7c0dd7472de549f0b4affab09a6d3750",
      "cdfec462a218443d8c98ed26a7cf6d45",
      "7d96c388eca4472e816332d6f6171e16",
      "7329c02e2fa44430bdd606e0cf531de7",
      "ab05bd06129747688e81e1d8a87da89d",
      "cdca1e7784eb408baa6ee0c2cdd9115d",
      "a217d0e06aab4632b91b1f8781d57300",
      "64e6afcd302b4ee8bb660e6b627f8e90",
      "79185f76049c40a4a8438566d4114a04",
      "84fdc9a05b0d44d0a5f0c8fd0c72feb4",
      "bcb723b4949b4a5c811d6947c67b81d0",
      "fb7c7463a3724c679a72b9cbe8a91034",
      "6620fd4255dd4287a8517a30cc3437d9",
      "ad5a4ce348c946429530d204901eb1e4",
      "23c1859c7af44d68a2f7790da49bb426",
      "35c7358a4c154500ab539d99037ea47d",
      "5dc65710c1f84374b98a8909574cbd0c",
      "a7b7cd5a933a4d83ba937407183d8ae9",
      "99d059e6dbeb4e9bb66d25a22fc93738",
      "28814671ae764b618336883f923a3cb4",
      "cf70b80d0d4b4351a76d78521884f4bc",
      "5c53510c85d64c7a8c6423cf66e36250",
      "0fc2848b878b4add941bdb61854f6438",
      "0c87c2ca96dd4c188471dc23bb349149",
      "cc610e1a099a44a5994c439498f82184",
      "0713edbdf5254ca2aa31c28be5be3c3c",
      "0fef686db030476bbe0885ae0a12635c",
      "6bc5493f0a31456da54a45e390e45ef2",
      "012bc231eb9640758403856fca9ee442",
      "c6f991a645804853b11cbae52aed477f",
      "c0d272ae1c9342efa3700f22dc90c8be",
      "cc2ff67ad3274411923f17bee482ff70",
      "a0feebffcd5d43af99e4a3ad20e7271f",
      "e2224f98b2ab4e748db94401356001ae",
      "988081b7116b4b72a0ac0f747f1a3401",
      "82f63371516a4c428d495b03d82fda36",
      "c70531dc32514955b59dff1ca7604912",
      "1539f4c9f8e34d249b6e4ea8904ad6b5",
      "5d36d492b526462f95112ca3803ff761",
      "0e0efb2eaa9449be9d1c0a9eea9664de",
      "43182329c7274ba79e78f8c1bd9ef1fb",
      "3e0a6726692c465da747da5b0beb48cc",
      "9ccc45bbbcb94a8bbc6b084cb680b5c4",
      "dc881d837d0e45dab3e73198c7dd5945",
      "8fb487e656d44551b9ccdfd697a32b3b",
      "44df129b5c084235bd842f2fb5544c92",
      "860a429c115444089c31e0fe493eabbf",
      "cd9d2f32a2ff4a74a884c761bd0c0c7e",
      "cd71daa3c3be43c1a75484a9bd556c56",
      "b2638c6cc92f495e9531f866bf8d4339",
      "c8264ab336a94af0b1d0de505a369562",
      "823f24aa26ef4c96af94cd3bd0846d02",
      "349c77dc3281481b945235522cd71ccb",
      "803ef1586ee740c0918a8ec15acec638",
      "013f8596cfe54946afc7a98cc55f5d8d",
      "3d1efea233834bd89a56740119d5e262",
      "24465615355a4246b2ca771794f515f9",
      "e8126e5019db4fbbafaa063dfc1503f1",
      "0ce12af02bfd45b3899228fb450f00a8",
      "c836309934314931899fee5043a75c1b",
      "5decff23f1c94d2a8b341f4e28cf870d",
      "d861450f3a9d4196b67c53e0aa3836ee",
      "70f76e7f446d40a59222b658a41263d8",
      "7e6b35fa38164a41bd3b77a62d235e3f",
      "74c03b8aa57b4c91af0a5274ad73145e",
      "f3a59ad8c930410580d5e3f1b195856b",
      "1319bc4c1b3a465d9b3eed99f507d539",
      "85e1ed39057649829357bc6e4e2e8df4",
      "7036fe77acf941869b0aeabe9fa5571f",
      "2974d8547a274b93b5eb386cf6e427ac",
      "85235c42f0e94d639e8744f66b02aa5d",
      "6cf2b4510ee04f66b04e11c683a2679b",
      "271ad70dd7cc4874b20caedca615f2d5",
      "441f4d9173e94caeb1dee5703faebdfb",
      "3f413d4bb8094fe7a955637f9b36b417",
      "3a86c7730caa4a3184983b7e54bcae40",
      "e3175f079a5b48efb4b7525115b4adc7",
      "710bcd3aae53433da8a1b365088ecbd4",
      "7a2eb89289db4f6598b863fc537fc5ac",
      "ad5a436b2fb140399426998de18d1842",
      "2baa0b021c6548e98bc2d752d5ade0ec",
      "8978785f66064501934d0a69774af785",
      "84dee89196be4385993ded2082df51ae",
      "bc446a5cd43f4d199a911a03ff24eb17",
      "1b2d8a3fe5cb472c876a61929d38999e",
      "d38818a78e264cd498b171ab8df23a05",
      "411c3c2e68844ff9b956bb9e16af2b2d",
      "3700c29038fb487ca336f689ebaada73",
      "4e9423555695414a85ba4d3ac2511f8a",
      "9103ced7ac994a909932ccd9f0a45942",
      "53d615d8233b4b3e8955a78353d24473",
      "51f0d8e7f4914246ad6489a53f0bec37",
      "c505389059fe48dd8d43f4f1125ba4d5",
      "a8b8e3b2e8f74c238d82e3cc02675a36",
      "8e6f5e0a1c9844e78a26fcf2607ed78e",
      "3f9ab703ffbd4c9b89643feca9a4ba2d",
      "3f820370646a47c1a237c631cd67960d",
      "f236d4287b844def9b168bf7f48dbbc7",
      "c91ee0c7b6b24406a66df86b85515b44",
      "87cc7f1d07ed427caab4d850786aac67",
      "a0eb333a4378430f872e536d919df4e9",
      "59c4d652bbe444499fd618644e9d9403",
      "1bca5b5cf6ee418da3535bd416c597a9",
      "5af481eba4c74fbf8480bf425896e84b",
      "66fe74b553d6451b9746aa7b07ae3671",
      "84be5099dc974bd9b47df35757081c3e",
      "12a08fe899194dc58c72d187d3597a7e",
      "17ce46a42cce48aea0f18cf7ee3899d3",
      "d3515b26236842fd804ea5161ede17ef",
      "54db5befc2d34bae886ba14fa05b7733",
      "b3135998d148452b9113d4e7a0c93887",
      "11d21791d5024fd68263e2fa27243277",
      "90ff0b36221c4929886be9b0a3078432",
      "d63a2257a65e4612afd0beb031200fe8",
      "c702d0dcf6ba445abffd0dc876a5aa2e",
      "b0fbc75c4b26468bbea46b38c088ae7f",
      "ebd644688aa045aea458c31ac600711b",
      "0395f549d4414d7d841753f1d886203d",
      "ee09bfb9b0db477782637de7b06db2a1",
      "1ec94c9be5cd4d188110acdfb6730aaf",
      "e6a94e616a16499eab7dacf1d9474509",
      "7702684e79fd47c0b9b2959fecfac1a6",
      "a16e587c549a4f399b38f30cf4a1b579",
      "1a865a69b4194ef48fa69e4a86fc18d6",
      "b022057407e94a5d98ab94a1e5602677",
      "500ef4b9e15049979b628394d816fb2d",
      "0f753be1148344e89924a7bfa0125854",
      "f3264586ad764ec1aec35674fa14359c",
      "86ec3ceebd7f43cd8ef607474bb5d376",
      "1b919c579d9f4244bd6989b83838c4e9",
      "16681842cbc8437fa4c39a98a860ab94",
      "482e93cc536c4d63adcf5a8711cac744",
      "443fadb7f2e44d9996a5de2ea648b356",
      "9794a177508d45fa8e0043210b9c7d63",
      "7fef86b5ed7d4de48efb1e24dd6dd241",
      "46dc7f6c47e744079c5a302b0e364b8f",
      "945f373193fe4db8946275e2c721a9da",
      "ba5ea365250a46efa89802e0fe9a2766",
      "944e422809cb4886b41e4cbf6608ca97",
      "6e87d3f1014f4bc3b8cf1559108b49f6",
      "b5f733b6693a462a82d5ff05596e5122",
      "eecae364752a4fb398de2e0f9632983c",
      "945470199cdf4816b85d3bcc3b7b3bf1",
      "596a98f0052342548afc5f936b8ee231",
      "da522ea6ea3c4088b750e7aebf6b6714",
      "9503e13db3a140569f5c6655771868ae",
      "7017c01684c1450c8cf3ec93fcf9b66a",
      "640dc693970a4a4f835f293db71e19e5",
      "7de832f5730045fdb767b5376233c231",
      "f303a9acd82e45f99a4a64e15f84f119",
      "50c1da2296df44ad950d21c04cb1b86b",
      "f5fd3e6ff237412bb625439e68e8a4c1",
      "8c8e47dac8f341d2a571e38c185e70c4",
      "a4bfe14e82cb45cb89e371544abc6e12",
      "fa074b606a0b4f1ebc341a8aca49a7cf",
      "f1a7fb648c7549a98792cc646766347d",
      "1967457b69974d53a33706248e1a8d91",
      "03ec9edac8c042afbb929ecd529585dc",
      "8894c82b43604e71b52161f85bbd174f",
      "0c8de348ad9e4de68ae6fc1ef5e7320f",
      "0f843b7afc444ca6a6a5d4d386cc058a",
      "4cad51e8817441928ae3def425b861b6",
      "b4045b2494c04745a4fe51cd06d1a734",
      "c9aa88576f9d49479a0361932f96fd7d",
      "17c6950486234a8c807e615d37de4f5c",
      "c106604a572d45a5b096310707dac831",
      "00ce3e1a86134c4ca0f21c8fd9f179f2",
      "a2a3e97d36224ac9a0522eac8b91fe5e",
      "9b04d094c5484bf29ddc1a92c60f9c0c",
      "8064b0bf9f504a95a4bd3994f6eaf52e",
      "3c2193f12b6b4527b8b2451d864db980",
      "4da03ff7f8a1427f8b4d8bf88ea9610a",
      "f9a81674fcf74c2fa0750a04b6a46560",
      "c06fcd6d33434d0f853e1c4f5eea4ea4",
      "9bf9ff4212dc456990f00c6d0b720618",
      "9db0dbefb3e643218d8515f1b69cc9d8",
      "15d80c1aaffe49b18022af4b9863d5a4",
      "f2e963471ba74d238099b68ce84d747a",
      "8347943910b64a88aa042c9fb1dcc1e3",
      "581d8b07e83842298a522bf1c87c973b",
      "3977a0ec574c436ebdda091df1cebb1a",
      "32a4fccb4766410f8fedf3542265a51a",
      "393dd6d85b0a47dabb293dd04a1a09f2",
      "8f586a5740b44688bb1bea2d1d51136f",
      "c42f2beb124f4c3bb20ef1e0d009abcc",
      "66d4879686d145f39a5b2eb52471f154",
      "bd2da7c8e32a410b97676782bed1968c",
      "e5346581a9294115b1a9db53ff243fd4",
      "7344d1ff68ef499faa448e0f97c18650",
      "4afb3204375a4f389fa3a1a7509a9e04",
      "4f5e4bb24f634ea8864b70998dbacfa1",
      "7c03c4856cff4097886385ed8787b959",
      "dd96515e1d1e4a3b98374a6931b7c773",
      "f2b493e5820f43b08a81e40c9db16d62",
      "10e7f7327bd14b2fb7421f24e849fb84",
      "f7b9e7e4598a45e4a07aedfabe4af3ac",
      "d01c70df363f47afa212d7c7bffe71d3",
      "3ce3f8c88b764c49b382625dd34f484c",
      "8a264a7193f748b2a5f258e7fc2a6d30",
      "942eab39d9e84866a76609d485677f96",
      "b92ed09a53ca48d3a3b0fb7e119355fa",
      "d341d7daa4084c1cbd049ea3cf47987f",
      "fb1d41b12fc648cbb7d9713117fedd7e",
      "156f5ed5e47c41ee8c3311559258c7fb",
      "ceae3992d1674c54a1a9e5c414518874",
      "b791f98de87e48eb809064319d7a2640",
      "afaf2a2cf256425abe9e9bfc10dd4675",
      "319c24ed6df24b9a88909acab881850e",
      "2c75a5307377442b8289941db26ee30c",
      "29c1473191c64274bb91c55186a4175e",
      "0d805e5692dc436d9c56867f32f65219",
      "a460665a77894239b081bda42377e6e1",
      "98c5f1a8ae1848a7a1fb89367ebb4138",
      "efd3a9af201f43cda95921e6649405c1",
      "20b2fa2aea5e48909281d5a1c0609018",
      "2da7582decf6484d8f62cdcff7422040",
      "8bef897c22894b5792d6baa6096da3fb",
      "cf5182592c11439da7073ce24c413c7e",
      "cfb77b1a7de7469a8aa275b3b31202cb",
      "77166d2505d749a087d63396630e5337",
      "569ac80d7b694e069f0bf2a9f02b1f4d",
      "6f112f0f4fff493398a89f32ce3164fc",
      "3e45397e69574d19af891074285dd795",
      "132d267f2ad3432c87f1221bc963f20d",
      "36c97e83fe574e51ac268a51d9397041",
      "ccee16c7ff1348a8b93e8daae68efca4",
      "d5d05d18f14a4eb4a3c7b45eaec97246",
      "de44cbdc86f14e8f83be9250d038417f",
      "e91e1f0171374a1bb4043fa23667df93",
      "34989939713e42f09995d53f6deed310",
      "805da55bea584fef83379cf2b937de93",
      "aa19beac811f41508a9c56a60473e1de",
      "61f89c1d165f48e3b53b827b5862a6f0",
      "f474939735324a578a4e0b170ec9c4c1",
      "c07c5cedc35648fbb40054db20800ac0",
      "24c2f166fdff449ab8d63959f82e1c1f",
      "c83c3b9153ff4628aa0bdc3d70c90caa",
      "916f84becc8d4f25b6fa952bc0235e6c",
      "5df2de530cad4299a7fa40953872f08e",
      "ea62ec114edb4b62ab6de83657c9852a",
      "238cbd9583bb4614992aeaf940bf5ff0",
      "9e398f8fd49f4c8faf87da3b27278d9e",
      "5bf0416360e5496ba98156be9e79c44b",
      "75510fd235db4c18bbaed101fdad9d87",
      "528301a3da254f47b47e2785d4a084f7",
      "2fe90a85706d48e78f8d5b3442aa15e6",
      "47b3d884520d42e1986f4040765c991c",
      "8321963878724bca964d50a87c10e13c",
      "58d127f5bae04369b39b6f69a7a54f53",
      "8d48430c7676430491dbc1a8a914e4d8",
      "d13c2098afbe4567bc9a6f982fd88a71",
      "5bd6344806de42d68413ee24bdf94ead",
      "524232016cf74665a1e340c1ba727911",
      "4a1f0fddb9844ca989c93deb539189d8",
      "b6446dd1bdc043238f8a1ffa2f5e4bf4",
      "c7c6022d37b348f39f909311f9e7fade",
      "fd33659523c7434eabaff5eb6ff366e2",
      "b0245a4667594b3d9353168f8bc94f1d",
      "02d59eae774644e98eb3387c00dfb425",
      "a68fd20816644660a3bceb2ae9756e4b",
      "44e6023ad6614779abff03678613a822",
      "bb1f5640cb5846a3864090bb4dd8354c",
      "5e6fabdfa2bd4bfab0b82622bd71db8d",
      "0be1ae6d5c6b4bd0b175b391076139d3",
      "e80ff263830f41a1a516aa81a962551f",
      "6945c436f4d641a3bb3d678ea82ebb9c",
      "5943f5738450400ea1d0f795bf1a1cb4",
      "a852fc5c6ada470889d1d862c050ceeb",
      "f298e40e57b54fe6be6b1b3112f41690",
      "cad0109599fb447fb82cdaed9d46c629",
      "46aaf98b3f2e4d73b17ae8fa3dae1ea5",
      "e0cccb94e53b44549711864631a14597",
      "93c9eafb9d5b480db91953aa66ec606e",
      "21ed7b10eace4183a50136920170107c",
      "e11e51e7eca44ddca0124553037ece52",
      "a05b8d12229c4ac9be29cfaa95ce0b53",
      "77c257625637474c825e1be8c6d0261d",
      "5ea464a457c7422babae9f5c1093f896",
      "476ccf82d58c48b6ae2c26551a072e1b",
      "5408eabf30de4af7a839b7eb4ef960cd",
      "8dcdf69e2bc94b8fbf2d75b0fd8ddbe3",
      "b934dfd173f44cebaae675eea24ca6b1",
      "988a8b7ca09f4b5bb29f987e892f0e90",
      "48ec7dbe6a984d64a48e1251aa5001e3",
      "0bb14e44c85c4ed48ce084a9b13beabe",
      "dc7f9ed6be6e42b185c1d6be22b3382e",
      "2a4aa08ac2a446b3af293940ff945185",
      "1c3ec26b73fc4bed8b4e78d38620e965",
      "d627b3375cd24d1f86206fd9da86d5be",
      "3b9ddcbbc35848249c072d0c8d304400",
      "ff08bcf0664f4a418570f7273238a788",
      "9b08a1f673e847ee9cb9e766d7da4f6d",
      "3b21934dedd643a8a2f66ea7006a3f55",
      "2c991a2de763457fb59240976d271628",
      "31493a27aa934c5697ffd3f6e2c4d35f",
      "1651ca16935a438dba05b010f89919fd",
      "134a2e5142ce4d38a0edcf1e29c6ac0d",
      "ab09876f61204a968a350d7f81024f3c",
      "af963ad83669427588a0cd435db105da",
      "02dfac47dbf841e8b91c8a99b3d338b0",
      "807865732b704956bdebbbf013de8cb6",
      "4fd1256c315b4aeb837624b72de8a105",
      "285334d86844486ebcb8695bd392fb59",
      "d2626ff9b0fc4aee882715e77ac338a3",
      "4dd178007d714a9ab593f39dc80cd0bd",
      "54b0dab5b6334c4ca114091bddfc3080",
      "9696d35901874cb9af082bbb604a1bdf",
      "a6155b9f36f94d9ab3b894d68abbfd47",
      "697926dc80db436ba4f7c9d908761fc1",
      "5fffb007cf274e8e8da4a910ca40c674",
      "9bdec95f185349448abc63a17251d780",
      "a3466c6eaa72430983bf58bbe15d5885",
      "dd4921677eae4756a866677295fdeda4",
      "e78e77eeb955470fa143ea5899527fce",
      "cb6bc24216124649acae69dc40642587",
      "aa19f60d123345aeb1cca70256e0bc88",
      "1909e5d0558d4e9e91612f6201e71278",
      "26f0273da70a4c29a2338ae12947e1b2",
      "eda03316f0274e9abbbfc0f815ae6424",
      "0a4fd5df99414dafaf354e476b94b373",
      "ac093d0322ef416cb40f11a56bce0649",
      "c700dc127c8b4acc9044473af66bf6fd",
      "abc01c0e323e440787b5c98a4fc18980",
      "5817dfc5ff8f47e29c4c7431cd845639",
      "d5232b67cd5d4585b5c0803694e5ef57",
      "00e357b943764fc4b148a48394653194",
      "aee5bd8649f34e82aabbfb63be6711b1",
      "b90cf9a0a8634f29a4a04cf21b232e7d",
      "ed16fa8b801a4d49b3d9c1e4366ca71c",
      "e1f8345e24194bf1be30f36237c2be8a",
      "f470109491204e7a8bc6f055566d52c8",
      "159eaa50b9d049338c6d6b0fc6830891",
      "6ea0d7adee0745bfaf9ae57d75b3f444",
      "de2f5c8fb81e4ce19621983a429ff9f2",
      "f5884db10fd74ab18437ed7d8ea56cfd",
      "b6d2f02785b54d2d99777b1e5d520b4b",
      "fc23aeb7a47047b39390a7ccc8eceb13",
      "549b32fe5b4f407cacb350f66665d6b7",
      "e9e529e3479543818af2ad5444c7dbb1",
      "5f9b035088aa42e78c41164ad46e8f4a",
      "85f00bab14d8496dbea30afc37a13b39",
      "d19038ddd45844c39c31c0da324f4195",
      "e3b2106d230c40f1baf83a52e5033208",
      "15cc6a15cb9644e4bbb35dca066997f1",
      "9917542a340f4fb79f1f531f3cdb5e49",
      "73ffa5c3526a4e23bbe34e1a390be7c8",
      "2111594ee124469bad26b403a4f2480f",
      "c769abaec39f4c00a14fe24a6e53545b",
      "e9012aae114c408d8c1ef209b88c5e55",
      "369f451e5ec44d0b9fbc7a0a97ee0556",
      "b2f312bda60842bf93b0591ba7c6bcf6",
      "8ac34be2b2e64a0da686bcbf023003b0",
      "c15b61ab2626477392d7718638369fe8",
      "87c560813c50411fa2da2ebea2d7d492",
      "972fc152e517465d91d029ed1186bc21",
      "35c3f615c2de480b8ee9a49583f2b6cd",
      "7f640f3590f4476cb6fdef40383fe4e4",
      "5dd567af44cd4557814177449f57e236",
      "82921a8c239248469d77daad62b49b05",
      "6db8353c01e34567b23e281122838110",
      "0d4c398a9958497e8d6d5c71cffdc4f5",
      "fbc37baf1a194728ae6f1e9002b10a3d",
      "e4cf5af83a3e4005bf0895998b8d9d18",
      "3ac8f21a6bd040568fcc3a5402397d68",
      "02368dc0c6544ea0b585dfb3a1676543",
      "f6ed2389129549c9a634a441c5259a34",
      "45f99c29457d4b8193ae31ef996ca206",
      "d3d4f3695b9a4c909897b560209e7b45",
      "89b1f735331a494fbca94dd7a44b016b",
      "a9816132e18044619cf5f16b43a9b0ce",
      "0c70c9841c874bc5802872061a6be9a1",
      "8c59bfa46b8f44abbaa543f7910f6644",
      "20e07603a531432591d24cf755af8125",
      "7753538cc3f945dc8103dca36925d777",
      "52e0458a765b43f9b016428562e28ea6",
      "29dcd5a6e2ff48c3b406575b6e074077",
      "95474ffea5c94076bfc29b3b783108f5",
      "fa10f158ffa741ec9e9b08483adaef90",
      "a37e85f2db484f2eb19d0eaa45b289e0",
      "f3f9a4063b3048d48bc8997b392a0368",
      "03bf365cdab941548a58097f3c10c9ee",
      "62cbddf498214943889517a7b465aa25",
      "e1c34e12d9c448fbb62ad2a1b1fee16e",
      "ee3894d069cb450391a461a09e7c81e7",
      "7c57a13405344a248ffb6bd63a8562aa",
      "5f92800c9cf749c4b2cdef39927ec530",
      "624a3a948bbd489f809273829d87c448",
      "69ac3f7bb27940629584202da9203759",
      "bc6cd181c51b4b558854fc186911d174",
      "ba7708ea0e884d5e8ad83d84e9f54304",
      "347ed743ec4843419c71d2286d05309a",
      "9faf7e3a1b0c42499e4d01bcdd6a09c7",
      "fce9c10bb8334f55bccf87f272496cb4",
      "1caf7e4c5c6b455ab03f7690ad7f50d5",
      "6de240d97cac458ba69e68d52ecafaba",
      "5c679e2196794bbdadc7e58abdd36a3a",
      "d2cc46792b8d44ac947344bf767db597",
      "c71657bdcb83434388191add8e0a2dfb",
      "b3c0473385ce4baf86ccf6dba621da17",
      "bb6e280a5e004565b54306732711113a",
      "4c4e46972f694971936f76ff893350c6",
      "7c4f913d7861495f975286b773239741",
      "16dcde105f3a4e0dacd58ac5bfb44f01",
      "0a5ba0e51ea64196bd2177f2dcdc8657",
      "beded8b3fc2a414a841ac200df083c4f",
      "4ce8659d418e42cfa5424881d1148556",
      "64bcda6d134b446ca66f862c2e3b96ee",
      "851ff402143544d89de85f143a22e4bd",
      "cb5951a2204440439769979dd1936533",
      "e825220d60af4a2396bf194f83cea8c9",
      "580e4f12f1c14d568ed5b4913061987f",
      "25e16fbdc60945828b5b9e6711ee6728",
      "b5797b83ebee408baf824bc7fa5b0ec5",
      "70ab4f8a6ba94533a5097821e6d2ce28",
      "42eaab2bc358473e83ea1aaea06bc506",
      "a1d4888aee5e42c1b8d978c3b195009c",
      "a11473f9e5d247fca58e0b44a03ddb81",
      "fc83599c07b6408b9c7d6426b559e962",
      "80a0f73e8d1e487f96910a5bef7ce814",
      "37aaf37e794b42ae8e573e4277191824",
      "02a1c86101da444eba03db8e14e26880",
      "bb70bc35006e4543b48e7d7afa1f1aa4",
      "b3ac0978b2f248c29649f72c0ddfa9c6",
      "255aea4c878e4f43907a9cd02adfa694",
      "62061e43e021493699b1453aecbc9f0d",
      "8ec507d505e0495881709aea38efc1c6",
      "da5297616a2745c4bd661ad8bc67ce3f",
      "3480745502af4919ad41de2642f0c7d1",
      "4fc7c909067f4fc394c64f3c8c97aa5b",
      "b75a5b0749844433a1e88d8400be1e19",
      "cb80276630eb4056959d738176cf2bce",
      "8109a0fca6c74b4cb53c5e07b7330099",
      "eedea502bb8d46069310537b65e00763",
      "a311dc6cf2574668a68b29f5af451e39",
      "867de992616d4709ba6362ef7f649c40",
      "d2ad0caa88f04f6da231ba19775d1ea6",
      "a8a9d87d19d0481aa9e479e0c9f75050",
      "016f878fe01345099a6a28c833ef6dc1",
      "1fea04f90df844b6a8f0307a914ffb97",
      "43c53d0fb22446f39d67942ffbd17b6f",
      "10dd28cf3fc44e72aa01c7be2f8867d8",
      "f2c5cd5d4c9c446a97f579c969f51b48",
      "71dee50a378a429dbf17894d2f4c23fc",
      "6099ae6d2fea458386bc9b03f605769f",
      "2005bfaa9f48465f8cf4ad21a53fa1b9",
      "eaf3724de17144edaa01fce777a961fd",
      "baf59a13119a4ec7aa90420155aa8db3",
      "aa8a6bf836a8499f93c4d6113fb263ad",
      "4c404b6852f944fbbade039f8f90ece0",
      "881e59c86e284ecdbcb0aa062026696e",
      "d7030b0d0e2943e08386c8e5c9fb2cfd",
      "7bb14685fe1e41ee894c19f7b0032e05",
      "6d172a4d81af4071812eee77dd08127c",
      "b2c0849df46944ba9cc07a9adf078884",
      "ecc25b1dda04461e92a28b5382ab9887",
      "49b082da02af47a4bb38cb99f456f717",
      "7cd65e15ad13409790fd51e4cb3bd9b6",
      "0e18af483c2e4888a9757b080c2cd42b",
      "e29ae833d8f6482fbd04e6fb1b519913",
      "3f9a8d732caf46d9912616374d8b3b06",
      "e3e250a6f8ed495d9248b266344a1201",
      "e461cd2d249347808bf8211ba3fd7ef5",
      "a4de0b2dcb454f4f9a1fa4052bf3b033",
      "a550b4e12f89439a8bc8f85189f11989",
      "94d788b4edb94a2594a7c7b7ac6e58c7",
      "ed8b7f0942674b60a7c064bade4d47b0",
      "b3aca9c8dd324c0aab266b5ecdddd3f3",
      "1fc11276165a4caca71e9e8f653d7b76",
      "0d76d64abcd7493d82545212ecf450d8",
      "db7868120914444eb75048ac645207f2",
      "3a66152e59dc4f94bc69d46311396511",
      "298c696329764adb995737323ddb2c97",
      "b63af55c8a054afe95071e6815474e50",
      "8a0c24825bd446d48f7ba844cc938d70",
      "b426b96e498b4a9da4bc53c5022bf7f7",
      "934fa3144ea144ea85ce6363ee4d14f3",
      "26122c31e49f4af18c7fda22a100a946",
      "ec693cc142dc49e0b1ef47c1cc085a54",
      "81f22ac42ef54ecead49302cee4a6839",
      "45831db8d43a4d8a87e177f338b75e1e",
      "d932b605a4704556b5bace2ab90f392f",
      "6a5e570a8c894b38ae861c7a6cbd675a",
      "eac501ca1bdb450a84fb673c6e104ae9",
      "6da80f653d5c4da28a6d9dfb6d6b5220",
      "347fcc8563e54524a03b7be2a39eddbf",
      "25ed488dd4f84c90b296adaa8a38edb4",
      "339be502f4eb4b76a2206108ca129949",
      "cec2485bf7b84c2299d72c6ffeba3457",
      "5dc68e29792a41d0860cc132d8f4b0a1",
      "97efb682377349a59b7a2cdcef4c10aa",
      "27f1f412d3a7454e8ff7bf94607c02e7",
      "d99940ff1a044821b02700006262263b",
      "324a868a8766442aac8dd9c6f20fe462",
      "7b3442084750424594eef1c5643b4928",
      "26a0f298c489447887547eb76a909b4c",
      "df01a04ee5a04f299435e2604ee4b617",
      "fb4a77db39be4cfd9f9458af443bcc4b",
      "ba9d41bd85094c4cacd45078c1c4c3b9",
      "3d8a82d393964c95947516c10dbfef29",
      "96bc8c6d137f43b6ba51e7113520f451",
      "e40fc536dcf34e8ab74a764c4438ae81",
      "cfcd128574384d2aafad228d53dec0c1"
     ]
    },
    "id": "UKCI5mgrBGhT",
    "outputId": "6f0a3247-ee73-4c87-90a0-67b909421ccb"
   },
   "outputs": [
    {
     "name": "stdout",
     "output_type": "stream",
     "text": [
      "Launching training on one GPU.\n"
     ]
    },
    {
     "data": {
      "application/vnd.jupyter.widget-view+json": {
       "model_id": "5a225e8609ab49e99f17c413b15fb761",
       "version_major": 2,
       "version_minor": 0
      },
      "text/plain": [
       "  0%|          | 0/239 [00:00<?, ?it/s]"
      ]
     },
     "metadata": {},
     "output_type": "display_data"
    },
    {
     "name": "stderr",
     "output_type": "stream",
     "text": [
      "/usr/local/lib/python3.11/dist-packages/diffusers/configuration_utils.py:140: FutureWarning: Accessing config attribute `num_train_timesteps` directly via 'DDPMScheduler' object attribute is deprecated. Please access 'num_train_timesteps' over 'DDPMScheduler's config object instead, e.g. 'scheduler.config.num_train_timesteps'.\n",
      "  deprecate(\"direct config name access\", \"1.0.0\", deprecation_message, standard_warn=False)\n"
     ]
    },
    {
     "data": {
      "application/vnd.jupyter.widget-view+json": {
       "model_id": "e9f3677b56c54a748821ff6415b90514",
       "version_major": 2,
       "version_minor": 0
      },
      "text/plain": [
       "  0%|          | 0/50 [00:00<?, ?it/s]"
      ]
     },
     "metadata": {},
     "output_type": "display_data"
    },
    {
     "data": {
      "application/vnd.jupyter.widget-view+json": {
       "model_id": "1ca8edce74ea4b8e9d9d51807d8d5fdd",
       "version_major": 2,
       "version_minor": 0
      },
      "text/plain": [
       "  0%|          | 0/239 [00:00<?, ?it/s]"
      ]
     },
     "metadata": {},
     "output_type": "display_data"
    },
    {
     "data": {
      "application/vnd.jupyter.widget-view+json": {
       "model_id": "ac0f78f3d8cf4963ab04cdad2a070b3d",
       "version_major": 2,
       "version_minor": 0
      },
      "text/plain": [
       "  0%|          | 0/50 [00:00<?, ?it/s]"
      ]
     },
     "metadata": {},
     "output_type": "display_data"
    },
    {
     "data": {
      "application/vnd.jupyter.widget-view+json": {
       "model_id": "0db0cd0e53184b4d826954f3d06b3bff",
       "version_major": 2,
       "version_minor": 0
      },
      "text/plain": [
       "  0%|          | 0/239 [00:00<?, ?it/s]"
      ]
     },
     "metadata": {},
     "output_type": "display_data"
    },
    {
     "data": {
      "application/vnd.jupyter.widget-view+json": {
       "model_id": "9d547fae242a43b598f04e291f7b8d38",
       "version_major": 2,
       "version_minor": 0
      },
      "text/plain": [
       "  0%|          | 0/50 [00:00<?, ?it/s]"
      ]
     },
     "metadata": {},
     "output_type": "display_data"
    },
    {
     "data": {
      "application/vnd.jupyter.widget-view+json": {
       "model_id": "140fe4b024294a9dbe6cd73dad8f671e",
       "version_major": 2,
       "version_minor": 0
      },
      "text/plain": [
       "  0%|          | 0/239 [00:00<?, ?it/s]"
      ]
     },
     "metadata": {},
     "output_type": "display_data"
    },
    {
     "data": {
      "application/vnd.jupyter.widget-view+json": {
       "model_id": "009cd21f110f43a6b07c9be9a160b270",
       "version_major": 2,
       "version_minor": 0
      },
      "text/plain": [
       "  0%|          | 0/50 [00:00<?, ?it/s]"
      ]
     },
     "metadata": {},
     "output_type": "display_data"
    },
    {
     "data": {
      "application/vnd.jupyter.widget-view+json": {
       "model_id": "fb0565b8bea34066a508d46fa39577c5",
       "version_major": 2,
       "version_minor": 0
      },
      "text/plain": [
       "  0%|          | 0/239 [00:00<?, ?it/s]"
      ]
     },
     "metadata": {},
     "output_type": "display_data"
    },
    {
     "data": {
      "application/vnd.jupyter.widget-view+json": {
       "model_id": "36815adeaf9f4651a1b44907b92b8287",
       "version_major": 2,
       "version_minor": 0
      },
      "text/plain": [
       "  0%|          | 0/50 [00:00<?, ?it/s]"
      ]
     },
     "metadata": {},
     "output_type": "display_data"
    },
    {
     "data": {
      "application/vnd.jupyter.widget-view+json": {
       "model_id": "8efcbf819fe947cb86dcbd3ebbd3b487",
       "version_major": 2,
       "version_minor": 0
      },
      "text/plain": [
       "  0%|          | 0/239 [00:00<?, ?it/s]"
      ]
     },
     "metadata": {},
     "output_type": "display_data"
    },
    {
     "data": {
      "application/vnd.jupyter.widget-view+json": {
       "model_id": "4b604dfad623499b8ada4de2e03f80e5",
       "version_major": 2,
       "version_minor": 0
      },
      "text/plain": [
       "  0%|          | 0/50 [00:00<?, ?it/s]"
      ]
     },
     "metadata": {},
     "output_type": "display_data"
    },
    {
     "data": {
      "application/vnd.jupyter.widget-view+json": {
       "model_id": "2bef546a20eb4728b9ebb084422bb13a",
       "version_major": 2,
       "version_minor": 0
      },
      "text/plain": [
       "  0%|          | 0/239 [00:00<?, ?it/s]"
      ]
     },
     "metadata": {},
     "output_type": "display_data"
    },
    {
     "data": {
      "application/vnd.jupyter.widget-view+json": {
       "model_id": "9f3314fda9b84effaaf8bb1390f50a4c",
       "version_major": 2,
       "version_minor": 0
      },
      "text/plain": [
       "  0%|          | 0/50 [00:00<?, ?it/s]"
      ]
     },
     "metadata": {},
     "output_type": "display_data"
    },
    {
     "data": {
      "application/vnd.jupyter.widget-view+json": {
       "model_id": "62fbf8f0d7b2462eaa84ec7ed3d8a431",
       "version_major": 2,
       "version_minor": 0
      },
      "text/plain": [
       "  0%|          | 0/239 [00:00<?, ?it/s]"
      ]
     },
     "metadata": {},
     "output_type": "display_data"
    },
    {
     "data": {
      "application/vnd.jupyter.widget-view+json": {
       "model_id": "64e6afcd302b4ee8bb660e6b627f8e90",
       "version_major": 2,
       "version_minor": 0
      },
      "text/plain": [
       "  0%|          | 0/50 [00:00<?, ?it/s]"
      ]
     },
     "metadata": {},
     "output_type": "display_data"
    },
    {
     "data": {
      "application/vnd.jupyter.widget-view+json": {
       "model_id": "99d059e6dbeb4e9bb66d25a22fc93738",
       "version_major": 2,
       "version_minor": 0
      },
      "text/plain": [
       "  0%|          | 0/239 [00:00<?, ?it/s]"
      ]
     },
     "metadata": {},
     "output_type": "display_data"
    },
    {
     "data": {
      "application/vnd.jupyter.widget-view+json": {
       "model_id": "c6f991a645804853b11cbae52aed477f",
       "version_major": 2,
       "version_minor": 0
      },
      "text/plain": [
       "  0%|          | 0/50 [00:00<?, ?it/s]"
      ]
     },
     "metadata": {},
     "output_type": "display_data"
    },
    {
     "data": {
      "application/vnd.jupyter.widget-view+json": {
       "model_id": "43182329c7274ba79e78f8c1bd9ef1fb",
       "version_major": 2,
       "version_minor": 0
      },
      "text/plain": [
       "  0%|          | 0/239 [00:00<?, ?it/s]"
      ]
     },
     "metadata": {},
     "output_type": "display_data"
    },
    {
     "data": {
      "application/vnd.jupyter.widget-view+json": {
       "model_id": "823f24aa26ef4c96af94cd3bd0846d02",
       "version_major": 2,
       "version_minor": 0
      },
      "text/plain": [
       "  0%|          | 0/50 [00:00<?, ?it/s]"
      ]
     },
     "metadata": {},
     "output_type": "display_data"
    },
    {
     "data": {
      "application/vnd.jupyter.widget-view+json": {
       "model_id": "70f76e7f446d40a59222b658a41263d8",
       "version_major": 2,
       "version_minor": 0
      },
      "text/plain": [
       "  0%|          | 0/239 [00:00<?, ?it/s]"
      ]
     },
     "metadata": {},
     "output_type": "display_data"
    },
    {
     "data": {
      "application/vnd.jupyter.widget-view+json": {
       "model_id": "441f4d9173e94caeb1dee5703faebdfb",
       "version_major": 2,
       "version_minor": 0
      },
      "text/plain": [
       "  0%|          | 0/50 [00:00<?, ?it/s]"
      ]
     },
     "metadata": {},
     "output_type": "display_data"
    },
    {
     "data": {
      "application/vnd.jupyter.widget-view+json": {
       "model_id": "1b2d8a3fe5cb472c876a61929d38999e",
       "version_major": 2,
       "version_minor": 0
      },
      "text/plain": [
       "  0%|          | 0/239 [00:00<?, ?it/s]"
      ]
     },
     "metadata": {},
     "output_type": "display_data"
    },
    {
     "data": {
      "application/vnd.jupyter.widget-view+json": {
       "model_id": "3f9ab703ffbd4c9b89643feca9a4ba2d",
       "version_major": 2,
       "version_minor": 0
      },
      "text/plain": [
       "  0%|          | 0/50 [00:00<?, ?it/s]"
      ]
     },
     "metadata": {},
     "output_type": "display_data"
    },
    {
     "data": {
      "application/vnd.jupyter.widget-view+json": {
       "model_id": "12a08fe899194dc58c72d187d3597a7e",
       "version_major": 2,
       "version_minor": 0
      },
      "text/plain": [
       "  0%|          | 0/239 [00:00<?, ?it/s]"
      ]
     },
     "metadata": {},
     "output_type": "display_data"
    },
    {
     "data": {
      "application/vnd.jupyter.widget-view+json": {
       "model_id": "0395f549d4414d7d841753f1d886203d",
       "version_major": 2,
       "version_minor": 0
      },
      "text/plain": [
       "  0%|          | 0/50 [00:00<?, ?it/s]"
      ]
     },
     "metadata": {},
     "output_type": "display_data"
    },
    {
     "data": {
      "application/vnd.jupyter.widget-view+json": {
       "model_id": "86ec3ceebd7f43cd8ef607474bb5d376",
       "version_major": 2,
       "version_minor": 0
      },
      "text/plain": [
       "  0%|          | 0/239 [00:00<?, ?it/s]"
      ]
     },
     "metadata": {},
     "output_type": "display_data"
    },
    {
     "data": {
      "application/vnd.jupyter.widget-view+json": {
       "model_id": "6e87d3f1014f4bc3b8cf1559108b49f6",
       "version_major": 2,
       "version_minor": 0
      },
      "text/plain": [
       "  0%|          | 0/50 [00:00<?, ?it/s]"
      ]
     },
     "metadata": {},
     "output_type": "display_data"
    },
    {
     "data": {
      "application/vnd.jupyter.widget-view+json": {
       "model_id": "50c1da2296df44ad950d21c04cb1b86b",
       "version_major": 2,
       "version_minor": 0
      },
      "text/plain": [
       "  0%|          | 0/239 [00:00<?, ?it/s]"
      ]
     },
     "metadata": {},
     "output_type": "display_data"
    },
    {
     "data": {
      "application/vnd.jupyter.widget-view+json": {
       "model_id": "4cad51e8817441928ae3def425b861b6",
       "version_major": 2,
       "version_minor": 0
      },
      "text/plain": [
       "  0%|          | 0/50 [00:00<?, ?it/s]"
      ]
     },
     "metadata": {},
     "output_type": "display_data"
    },
    {
     "data": {
      "application/vnd.jupyter.widget-view+json": {
       "model_id": "f9a81674fcf74c2fa0750a04b6a46560",
       "version_major": 2,
       "version_minor": 0
      },
      "text/plain": [
       "  0%|          | 0/239 [00:00<?, ?it/s]"
      ]
     },
     "metadata": {},
     "output_type": "display_data"
    },
    {
     "data": {
      "application/vnd.jupyter.widget-view+json": {
       "model_id": "8f586a5740b44688bb1bea2d1d51136f",
       "version_major": 2,
       "version_minor": 0
      },
      "text/plain": [
       "  0%|          | 0/50 [00:00<?, ?it/s]"
      ]
     },
     "metadata": {},
     "output_type": "display_data"
    },
    {
     "data": {
      "application/vnd.jupyter.widget-view+json": {
       "model_id": "10e7f7327bd14b2fb7421f24e849fb84",
       "version_major": 2,
       "version_minor": 0
      },
      "text/plain": [
       "  0%|          | 0/239 [00:00<?, ?it/s]"
      ]
     },
     "metadata": {},
     "output_type": "display_data"
    },
    {
     "data": {
      "application/vnd.jupyter.widget-view+json": {
       "model_id": "b791f98de87e48eb809064319d7a2640",
       "version_major": 2,
       "version_minor": 0
      },
      "text/plain": [
       "  0%|          | 0/50 [00:00<?, ?it/s]"
      ]
     },
     "metadata": {},
     "output_type": "display_data"
    },
    {
     "data": {
      "application/vnd.jupyter.widget-view+json": {
       "model_id": "8bef897c22894b5792d6baa6096da3fb",
       "version_major": 2,
       "version_minor": 0
      },
      "text/plain": [
       "  0%|          | 0/239 [00:00<?, ?it/s]"
      ]
     },
     "metadata": {},
     "output_type": "display_data"
    },
    {
     "data": {
      "application/vnd.jupyter.widget-view+json": {
       "model_id": "de44cbdc86f14e8f83be9250d038417f",
       "version_major": 2,
       "version_minor": 0
      },
      "text/plain": [
       "  0%|          | 0/50 [00:00<?, ?it/s]"
      ]
     },
     "metadata": {},
     "output_type": "display_data"
    },
    {
     "data": {
      "application/vnd.jupyter.widget-view+json": {
       "model_id": "5df2de530cad4299a7fa40953872f08e",
       "version_major": 2,
       "version_minor": 0
      },
      "text/plain": [
       "  0%|          | 0/239 [00:00<?, ?it/s]"
      ]
     },
     "metadata": {},
     "output_type": "display_data"
    },
    {
     "data": {
      "application/vnd.jupyter.widget-view+json": {
       "model_id": "8d48430c7676430491dbc1a8a914e4d8",
       "version_major": 2,
       "version_minor": 0
      },
      "text/plain": [
       "  0%|          | 0/50 [00:00<?, ?it/s]"
      ]
     },
     "metadata": {},
     "output_type": "display_data"
    },
    {
     "data": {
      "application/vnd.jupyter.widget-view+json": {
       "model_id": "44e6023ad6614779abff03678613a822",
       "version_major": 2,
       "version_minor": 0
      },
      "text/plain": [
       "  0%|          | 0/239 [00:00<?, ?it/s]"
      ]
     },
     "metadata": {},
     "output_type": "display_data"
    },
    {
     "data": {
      "application/vnd.jupyter.widget-view+json": {
       "model_id": "e0cccb94e53b44549711864631a14597",
       "version_major": 2,
       "version_minor": 0
      },
      "text/plain": [
       "  0%|          | 0/50 [00:00<?, ?it/s]"
      ]
     },
     "metadata": {},
     "output_type": "display_data"
    },
    {
     "data": {
      "application/vnd.jupyter.widget-view+json": {
       "model_id": "988a8b7ca09f4b5bb29f987e892f0e90",
       "version_major": 2,
       "version_minor": 0
      },
      "text/plain": [
       "  0%|          | 0/239 [00:00<?, ?it/s]"
      ]
     },
     "metadata": {},
     "output_type": "display_data"
    },
    {
     "data": {
      "application/vnd.jupyter.widget-view+json": {
       "model_id": "2c991a2de763457fb59240976d271628",
       "version_major": 2,
       "version_minor": 0
      },
      "text/plain": [
       "  0%|          | 0/50 [00:00<?, ?it/s]"
      ]
     },
     "metadata": {},
     "output_type": "display_data"
    },
    {
     "data": {
      "application/vnd.jupyter.widget-view+json": {
       "model_id": "4dd178007d714a9ab593f39dc80cd0bd",
       "version_major": 2,
       "version_minor": 0
      },
      "text/plain": [
       "  0%|          | 0/239 [00:00<?, ?it/s]"
      ]
     },
     "metadata": {},
     "output_type": "display_data"
    },
    {
     "data": {
      "application/vnd.jupyter.widget-view+json": {
       "model_id": "aa19f60d123345aeb1cca70256e0bc88",
       "version_major": 2,
       "version_minor": 0
      },
      "text/plain": [
       "  0%|          | 0/50 [00:00<?, ?it/s]"
      ]
     },
     "metadata": {},
     "output_type": "display_data"
    },
    {
     "data": {
      "application/vnd.jupyter.widget-view+json": {
       "model_id": "aee5bd8649f34e82aabbfb63be6711b1",
       "version_major": 2,
       "version_minor": 0
      },
      "text/plain": [
       "  0%|          | 0/239 [00:00<?, ?it/s]"
      ]
     },
     "metadata": {},
     "output_type": "display_data"
    },
    {
     "data": {
      "application/vnd.jupyter.widget-view+json": {
       "model_id": "549b32fe5b4f407cacb350f66665d6b7",
       "version_major": 2,
       "version_minor": 0
      },
      "text/plain": [
       "  0%|          | 0/50 [00:00<?, ?it/s]"
      ]
     },
     "metadata": {},
     "output_type": "display_data"
    },
    {
     "data": {
      "application/vnd.jupyter.widget-view+json": {
       "model_id": "e9012aae114c408d8c1ef209b88c5e55",
       "version_major": 2,
       "version_minor": 0
      },
      "text/plain": [
       "  0%|          | 0/239 [00:00<?, ?it/s]"
      ]
     },
     "metadata": {},
     "output_type": "display_data"
    },
    {
     "data": {
      "application/vnd.jupyter.widget-view+json": {
       "model_id": "6db8353c01e34567b23e281122838110",
       "version_major": 2,
       "version_minor": 0
      },
      "text/plain": [
       "  0%|          | 0/50 [00:00<?, ?it/s]"
      ]
     },
     "metadata": {},
     "output_type": "display_data"
    },
    {
     "data": {
      "application/vnd.jupyter.widget-view+json": {
       "model_id": "0c70c9841c874bc5802872061a6be9a1",
       "version_major": 2,
       "version_minor": 0
      },
      "text/plain": [
       "  0%|          | 0/239 [00:00<?, ?it/s]"
      ]
     },
     "metadata": {},
     "output_type": "display_data"
    },
    {
     "data": {
      "application/vnd.jupyter.widget-view+json": {
       "model_id": "62cbddf498214943889517a7b465aa25",
       "version_major": 2,
       "version_minor": 0
      },
      "text/plain": [
       "  0%|          | 0/50 [00:00<?, ?it/s]"
      ]
     },
     "metadata": {},
     "output_type": "display_data"
    },
    {
     "data": {
      "application/vnd.jupyter.widget-view+json": {
       "model_id": "fce9c10bb8334f55bccf87f272496cb4",
       "version_major": 2,
       "version_minor": 0
      },
      "text/plain": [
       "  0%|          | 0/239 [00:00<?, ?it/s]"
      ]
     },
     "metadata": {},
     "output_type": "display_data"
    },
    {
     "data": {
      "application/vnd.jupyter.widget-view+json": {
       "model_id": "0a5ba0e51ea64196bd2177f2dcdc8657",
       "version_major": 2,
       "version_minor": 0
      },
      "text/plain": [
       "  0%|          | 0/50 [00:00<?, ?it/s]"
      ]
     },
     "metadata": {},
     "output_type": "display_data"
    },
    {
     "data": {
      "application/vnd.jupyter.widget-view+json": {
       "model_id": "42eaab2bc358473e83ea1aaea06bc506",
       "version_major": 2,
       "version_minor": 0
      },
      "text/plain": [
       "  0%|          | 0/239 [00:00<?, ?it/s]"
      ]
     },
     "metadata": {},
     "output_type": "display_data"
    },
    {
     "data": {
      "application/vnd.jupyter.widget-view+json": {
       "model_id": "8ec507d505e0495881709aea38efc1c6",
       "version_major": 2,
       "version_minor": 0
      },
      "text/plain": [
       "  0%|          | 0/50 [00:00<?, ?it/s]"
      ]
     },
     "metadata": {},
     "output_type": "display_data"
    },
    {
     "data": {
      "application/vnd.jupyter.widget-view+json": {
       "model_id": "a8a9d87d19d0481aa9e479e0c9f75050",
       "version_major": 2,
       "version_minor": 0
      },
      "text/plain": [
       "  0%|          | 0/239 [00:00<?, ?it/s]"
      ]
     },
     "metadata": {},
     "output_type": "display_data"
    },
    {
     "data": {
      "application/vnd.jupyter.widget-view+json": {
       "model_id": "aa8a6bf836a8499f93c4d6113fb263ad",
       "version_major": 2,
       "version_minor": 0
      },
      "text/plain": [
       "  0%|          | 0/50 [00:00<?, ?it/s]"
      ]
     },
     "metadata": {},
     "output_type": "display_data"
    },
    {
     "data": {
      "application/vnd.jupyter.widget-view+json": {
       "model_id": "e29ae833d8f6482fbd04e6fb1b519913",
       "version_major": 2,
       "version_minor": 0
      },
      "text/plain": [
       "  0%|          | 0/239 [00:00<?, ?it/s]"
      ]
     },
     "metadata": {},
     "output_type": "display_data"
    },
    {
     "data": {
      "application/vnd.jupyter.widget-view+json": {
       "model_id": "db7868120914444eb75048ac645207f2",
       "version_major": 2,
       "version_minor": 0
      },
      "text/plain": [
       "  0%|          | 0/50 [00:00<?, ?it/s]"
      ]
     },
     "metadata": {},
     "output_type": "display_data"
    },
    {
     "data": {
      "application/vnd.jupyter.widget-view+json": {
       "model_id": "d932b605a4704556b5bace2ab90f392f",
       "version_major": 2,
       "version_minor": 0
      },
      "text/plain": [
       "  0%|          | 0/239 [00:00<?, ?it/s]"
      ]
     },
     "metadata": {},
     "output_type": "display_data"
    },
    {
     "data": {
      "application/vnd.jupyter.widget-view+json": {
       "model_id": "d99940ff1a044821b02700006262263b",
       "version_major": 2,
       "version_minor": 0
      },
      "text/plain": [
       "  0%|          | 0/50 [00:00<?, ?it/s]"
      ]
     },
     "metadata": {},
     "output_type": "display_data"
    }
   ],
   "source": [
    "from accelerate import notebook_launcher\n",
    "\n",
    "args = (config, model, noise_scheduler, optimizer, train_dataloader, lr_scheduler)\n",
    "notebook_launcher(train_loop, args, num_processes=1)"
   ]
  },
  {
   "cell_type": "markdown",
   "metadata": {
    "id": "mLcitA0uXnpT"
   },
   "source": [
    "### Step 11: Sample from trained diffusion model\n",
    "\n",
    "Loads a pretrained DDPMPipeline from epoch99 of a local model directory (likely trained on glyphs or characters).\n",
    "\n",
    "Moves the model to GPU.\n",
    "\n",
    "Sets the scheduler to DPMSolverMultistepScheduler, which controls the denoising steps during sampling.\n",
    "\n",
    "Generates 16 images in one batch.\n",
    "\n",
    "Uses a fixed random seed (config.seed) for reproducibility.\n",
    "\n",
    "Uses 50 diffusion steps to sample clean images from noise.\n",
    "\n",
    "Arranges the 16 images into a 4x4 grid.\n",
    "\n",
    "Creates a samples folder inside your config.output_dir.\n",
    "\n",
    "Saves the resulting image grid as samples.png."
   ]
  },
  {
   "cell_type": "code",
   "execution_count": 22,
   "metadata": {
    "colab": {
     "base_uri": "https://localhost:8080/",
     "height": 81,
     "referenced_widgets": [
      "b01415677a7c4fb6bb1dc04761101c9e",
      "e1e459cef2a242f8987093bd0657c57b",
      "1abf2b618c4946fcbda421541a40fb9c",
      "6b22a6808dbe4987b14e4fd63baa1fca",
      "7d6f7543fc874c278936c4219cc20620",
      "16cd273ba3ca4d12b0beebdcaf2ea9ee",
      "cedef01722fb4c869baafa181ea2352c",
      "a89a4a3970cd4dad893526cba7bdd563",
      "e0114cef2fa24b16818c7cb4e13ac944",
      "e3e6e3bdbb744e7fb70f036c63f31a1e",
      "f6f9d313d6c84c49913b275eb33b6d2e",
      "76ec755ee4724100977c35776093aa55",
      "5d4503ac56784db08c042f827fc459d9",
      "f4341d67a4dd432f97e8dc476b1fb6c9",
      "79c795702d4e4344a24bcd0e62ea5c71",
      "091a991285214237b07c043e3095e411",
      "93db4fd8c6144c2fadfa5e87749cf593",
      "8e43096016ae4a5b82c1bf00c370cfde",
      "cc9ab3aff16243638674ca2bc096f74d",
      "a04d8d0037554c498189855819bc953f",
      "34a5b93d7b67428391dc98bc2b113bc9",
      "87de3f1e743049cebfe41b38bf2e5d43"
     ]
    },
    "id": "T3hJns34BPLd",
    "outputId": "c5a6ff79-01df-401e-c2a7-55348d1c057c"
   },
   "outputs": [
    {
     "data": {
      "application/vnd.jupyter.widget-view+json": {
       "model_id": "b01415677a7c4fb6bb1dc04761101c9e",
       "version_major": 2,
       "version_minor": 0
      },
      "text/plain": [
       "Loading pipeline components...:   0%|          | 0/2 [00:00<?, ?it/s]"
      ]
     },
     "metadata": {},
     "output_type": "display_data"
    },
    {
     "data": {
      "application/vnd.jupyter.widget-view+json": {
       "model_id": "76ec755ee4724100977c35776093aa55",
       "version_major": 2,
       "version_minor": 0
      },
      "text/plain": [
       "  0%|          | 0/50 [00:00<?, ?it/s]"
      ]
     },
     "metadata": {},
     "output_type": "display_data"
    }
   ],
   "source": [
    "model_path = \"glyffuser-unconditional/epoch29\"  # Path to the specific epoch model directory# Path to the model directory\n",
    "pipeline = DDPMPipeline.from_pretrained(model_path).to(\"cuda\")\n",
    "pipeline.scheduler = DPMSolverMultistepScheduler()\n",
    "\n",
    "# Sample from the model and save the images in a grid\n",
    "images = pipeline(\n",
    "    batch_size=16,\n",
    "    generator=torch.Generator(device='cuda').manual_seed(config.seed), # Generator can be on GPU here\n",
    "    num_inference_steps=50\n",
    ").images\n",
    "\n",
    "# Make a grid out of the inverted images\n",
    "image_grid = make_grid(images, rows=4, cols=4)\n",
    "\n",
    "# Save the images\n",
    "test_dir = os.path.join(config.output_dir, \"samples\")\n",
    "os.makedirs(test_dir, exist_ok=True)\n",
    "image_grid.save(f\"{test_dir}/samples.png\")"
   ]
  },
  {
   "cell_type": "markdown",
   "metadata": {
    "id": "2JeENU5RYGwM"
   },
   "source": [
    "### Step 12: Visualize model generated images"
   ]
  },
  {
   "cell_type": "code",
   "execution_count": 23,
   "metadata": {
    "colab": {
     "base_uri": "https://localhost:8080/",
     "height": 461,
     "referenced_widgets": [
      "cf19a1ea4bfc439a99c037524eb92ded",
      "44227cd493644ebeac402b8518105aba",
      "c08cb98e13c14c03aac007d1acd54064",
      "a1ae3ec583054d32abb118e2e0fb917e",
      "98c7be6f28b54f61b4f21e6b899911ea",
      "53aeff307d5441479d6aabd89031f96f",
      "38f22463d78f449c9e9a49dc52681f2d",
      "0afab32e6f5b4b02a61f4642ce98e248",
      "eaabdb2902f64f1aadceaf7ee1acb11a",
      "43d1eb218e214677b077e05e5b1edc9f",
      "9745cee6035b4c20b8cba4db719d4708",
      "80e0a07acba54bef8386e11fb481420e",
      "d004e31f49684849b9f44083f54a93ef",
      "4fc1a10c39164bfa81f57c0cc1658252",
      "30558bb54a4244509469da4fe320a526",
      "2a9cc14f20a14d638b9d75bc10a33330",
      "c4914b1e81e04da9b20ee2f0d7c92034",
      "6a7cc497529f4e88962ef72af2161c88",
      "40127101d05443dda0815274df8f974b",
      "4aa9c423f4d248ee9ca4fa82f57f5274",
      "a5b54825dd1e4efa9fe0648e2d99c6bf",
      "d74ab777996445938acb5598af620198",
      "5a06d34ba0ff421dbdf3b057d3c1d6e3",
      "c88d190561054cfda34d1908324a688e",
      "63379e8a39bd4060b4f00d52932a3845",
      "7b26ce2876724b749f95c3bd535811fc",
      "7f87e37a2a034278bfa2a7a5b2b923d2",
      "d7568005219a42fabd8c07f7bef2cf4a",
      "11b52c791fe944aa9d30ec0bb75da840",
      "097a65d726cd467cb4c5698711265080",
      "9056e00c77234ee2b491daa978ac49c0",
      "4567e3f803834ffda4dca349615ac696",
      "59365779df464c85bd17c217c4b6738a",
      "9e8a9095fed04ffc824c9a0bf64e1c58",
      "95d4c70025d34a3796fc7e65f8a99202",
      "a1875b7c1dbc4831bac989358b2abdd8",
      "0ee3af71dbf7494988676ff35dbd8708",
      "9731f8c9d09344f89e325e6bc4cddc6f",
      "86d3c60d78504cdb8ec9a2b7f09dac37",
      "1f1a7a64eb8645e1b526639ef0d98902",
      "dd45515b106145f68b2fabfb970268ac",
      "1e569117b5c24b7b9bd7c08db6b2028c",
      "5e4933e6b011477abb7b3a4059383fcc",
      "9a1927bf82544354a3e33f9ad1b81f6b",
      "ba8b751da12542c69cdc6b7c1bfebbfd",
      "0bd8d1560f154a20a95f9dca2e5a8f78",
      "0f8d912d33b54c43ade8effa0bb799d3",
      "114163aa5a504844be294401da002561",
      "93964badf5774444b5a51a78cd2d1db8",
      "f197901019be446482b70d28121c370d",
      "7d91b139eedf45e081bff433c9a67db9",
      "4784e6675cee49cf93cfb038ea82bc3a",
      "6354b071755e4feb8648f33b38d92660",
      "eed509f86e804f02aa471dd947841b0c",
      "7206408ce2fb4f849653789803bf7e54",
      "b89944e4fdf04b099513f4a357a4f1f3",
      "ecdd8e87512e4bbc907330636ac81239",
      "d4fac51fe76b40c597b786f20c35e03e",
      "2d0b52d166a648708887785d2764dae2",
      "c805395e98a6432c8b274e6ba3895158",
      "578e9816a963428fafa3e7c567c73cef",
      "60eb467922c64160979f67c44f8032cf",
      "baeacb62894f443bb7ac99e4bc77c2a4",
      "4dbed8b390694b10a516dc8e7eabce28",
      "bc1f4f166bde48c697426aa0f156a62a",
      "12f4dd3fda4a43db98ae9a1f95b00bc7",
      "5c361f068fb04371846e52fbde9b59dc",
      "4ec1b04cb1694282b97a5c7601cfc581",
      "7329313ee0e84aad8f3dd7a852974ec7",
      "f2ba6c3cc6ea4e658bfe6a2b6fa73e20",
      "b80be77902cc47f0a2d85c2c95f673e2",
      "310fc645c57348e8853c10feae9f6527",
      "0f022428a4174f918ca14470c3e59da2",
      "162467e35e954bad8baea701e2a6deb5",
      "50a4be5ced9b47509c5387dd5d1232ac",
      "e3141b87dbf94178b42ca7893506f527",
      "607023c2018e4d7e844ba61f3ff7042d",
      "bb49c064c44a4b0490fdc2363b44503b",
      "6da1c427209744278960a41da1e5675f",
      "c98a588498154252a93d9d15b401274b",
      "b9ee127bb03d4e12ad17d781cc32d124",
      "0998421ed7bd4a4c97394335c39e5bdd",
      "6eb6f46c55bb4903b2c1623314e9b6b4",
      "7affbf5d107544eeb73bef6626fa440d",
      "6207bc01dd7d4832bbb9e230abea0ca4",
      "cafa0de7f9b34e2fbc8cca91559d23e0",
      "50c144e9e0f947a781d993cc2bb990ef",
      "6ba886466a924624a569af89f421f9f6"
     ]
    },
    "id": "pGa7pruCUaTV",
    "outputId": "efcec5b7-1d5b-46dc-f7d8-fd69f0c62f67"
   },
   "outputs": [
    {
     "data": {
      "application/vnd.jupyter.widget-view+json": {
       "model_id": "cf19a1ea4bfc439a99c037524eb92ded",
       "version_major": 2,
       "version_minor": 0
      },
      "text/plain": [
       "Loading pipeline components...:   0%|          | 0/2 [00:00<?, ?it/s]"
      ]
     },
     "metadata": {},
     "output_type": "display_data"
    },
    {
     "data": {
      "application/vnd.jupyter.widget-view+json": {
       "model_id": "80e0a07acba54bef8386e11fb481420e",
       "version_major": 2,
       "version_minor": 0
      },
      "text/plain": [
       "  0%|          | 0/1 [00:00<?, ?it/s]"
      ]
     },
     "metadata": {},
     "output_type": "display_data"
    },
    {
     "data": {
      "application/vnd.jupyter.widget-view+json": {
       "model_id": "5a06d34ba0ff421dbdf3b057d3c1d6e3",
       "version_major": 2,
       "version_minor": 0
      },
      "text/plain": [
       "  0%|          | 0/2 [00:00<?, ?it/s]"
      ]
     },
     "metadata": {},
     "output_type": "display_data"
    },
    {
     "data": {
      "application/vnd.jupyter.widget-view+json": {
       "model_id": "9e8a9095fed04ffc824c9a0bf64e1c58",
       "version_major": 2,
       "version_minor": 0
      },
      "text/plain": [
       "  0%|          | 0/3 [00:00<?, ?it/s]"
      ]
     },
     "metadata": {},
     "output_type": "display_data"
    },
    {
     "data": {
      "application/vnd.jupyter.widget-view+json": {
       "model_id": "ba8b751da12542c69cdc6b7c1bfebbfd",
       "version_major": 2,
       "version_minor": 0
      },
      "text/plain": [
       "  0%|          | 0/5 [00:00<?, ?it/s]"
      ]
     },
     "metadata": {},
     "output_type": "display_data"
    },
    {
     "data": {
      "application/vnd.jupyter.widget-view+json": {
       "model_id": "b89944e4fdf04b099513f4a357a4f1f3",
       "version_major": 2,
       "version_minor": 0
      },
      "text/plain": [
       "  0%|          | 0/10 [00:00<?, ?it/s]"
      ]
     },
     "metadata": {},
     "output_type": "display_data"
    },
    {
     "data": {
      "application/vnd.jupyter.widget-view+json": {
       "model_id": "5c361f068fb04371846e52fbde9b59dc",
       "version_major": 2,
       "version_minor": 0
      },
      "text/plain": [
       "  0%|          | 0/20 [00:00<?, ?it/s]"
      ]
     },
     "metadata": {},
     "output_type": "display_data"
    },
    {
     "data": {
      "application/vnd.jupyter.widget-view+json": {
       "model_id": "bb49c064c44a4b0490fdc2363b44503b",
       "version_major": 2,
       "version_minor": 0
      },
      "text/plain": [
       "  0%|          | 0/50 [00:00<?, ?it/s]"
      ]
     },
     "metadata": {},
     "output_type": "display_data"
    },
    {
     "data": {
      "image/jpeg": "[encoded data removed]",
      "image/png": "[encoded data removed]",
      "text/plain": [
       "<PIL.Image.Image image mode=RGB size=896x188>"
      ]
     },
     "metadata": {},
     "output_type": "display_data"
    }
   ],
   "source": [
    "from diffusers import DPMSolverMultistepScheduler, DDPMPipeline\n",
    "from PIL import Image, ImageDraw, ImageFont\n",
    "import torch\n",
    "\n",
    "def make_labeled_grid(images, prompt, steps, font_path=None, font_size=20, margin=10):\n",
    "    assert len(images) == len(steps), \"The number of images must match the number of steps\"\n",
    "\n",
    "    w, h = images[0].size\n",
    "    font = ImageFont.truetype(font_path, font_size) if font_path else ImageFont.load_default()\n",
    "\n",
    "    # Calculate the height of the grid including the margin for text\n",
    "    total_height = h + margin + font_size\n",
    "    total_width = w * len(images)\n",
    "    grid_height = total_height + margin + font_size  # Add extra margin for the prompt\n",
    "    grid = Image.new('RGB', size=(total_width, grid_height), color=(255, 255, 255))\n",
    "    # Draw the text prompt at the top\n",
    "    draw = ImageDraw.Draw(grid)\n",
    "    prompt_text = f\"Prompt: \\\"{prompt}\\\"\"\n",
    "    prompt_width, prompt_height = draw.textbbox((0, 0), prompt_text, font=font)[2:4]\n",
    "    prompt_x = (total_width - prompt_width) / 2\n",
    "    prompt_y = margin / 2\n",
    "    draw.text((prompt_x, prompt_y), prompt_text, fill=\"black\", font=font)\n",
    "\n",
    "    for i, (image, step) in enumerate(zip(images, steps)):\n",
    "        # Calculate position to paste the image\n",
    "        x = i * w\n",
    "        y = margin + font_size\n",
    "\n",
    "        # Paste the image\n",
    "        grid.paste(image, box=(x, y))\n",
    "\n",
    "        # Draw the step text\n",
    "        step_text = f\"Steps: {step}\"\n",
    "        text_width, text_height = draw.textbbox((0, 0), step_text, font=font)[2:4]\n",
    "        text_x = x + (w - text_width) / 2\n",
    "        text_y = y + h + margin / 2 - 8\n",
    "        draw.text((text_x, text_y), step_text, fill=\"black\", font=font)\n",
    "    return grid\n",
    "\n",
    "# Initialize the model pipeline using your local model\n",
    "model_path = \"glyffuser-unconditional/epoch2\"  # Path to your trained model\n",
    "pipeline = DDPMPipeline.from_pretrained(model_path).to(\"cuda\")\n",
    "pipeline.scheduler = DPMSolverMultistepScheduler()\n",
    "\n",
    "# Define the number of steps to visualize\n",
    "num_inference_steps_list = [1, 2, 3, 5, 10, 20, 50]\n",
    "\n",
    "images = []\n",
    "\n",
    "# Generate images for each value in num_inference_steps_list\n",
    "for num_steps in num_inference_steps_list:\n",
    "    generated_images = pipeline(\n",
    "        batch_size=1,\n",
    "        generator=torch.Generator(device='cuda').manual_seed(0),\n",
    "        num_inference_steps=num_steps\n",
    "    ).images\n",
    "    images.append(generated_images[0])  # Append the generated image\n",
    "\n",
    "# Create the labeled grid with a descriptive prompt since this is an unconditional model\n",
    "prompt = \"Unconditional Diffusion Model Output\"\n",
    "image_grid = make_labeled_grid(images, prompt, num_inference_steps_list)\n",
    "\n",
    "# Show the grid\n",
    "from IPython.display import display\n",
    "display(image_grid)\n",
    "\n",
    "# Save the image grid\n",
    "image_grid.save(\"diffusion_steps_visualization3.png\")"
   ]
  },
  {
   "cell_type": "markdown",
   "metadata": {
    "id": "a8l6iv4iYRcD"
   },
   "source": [
    "### Step 13: Create animated visualization"
   ]
  },
  {
   "cell_type": "code",
   "execution_count": 24,
   "metadata": {
    "colab": {
     "base_uri": "https://localhost:8080/",
     "height": 1000,
     "referenced_widgets": [
      "a60695cdb12343a098e595dd6afee5b5",
      "0eee3540636440f391a8185593965303",
      "0a77b47d65d445958f6d3ca3df72ac2f",
      "0d73e576990a43358950f290b4b9c08d",
      "75586695007d497f971b7792e60bd144",
      "f1f0ee5d9beb480287cd5b5f308cf165",
      "a4b8494c546d49eabe6ae97571765a50",
      "87863394f89c480a8b862499cfeccf54",
      "c79878f2f3cf4c6286c97cae8872b43a",
      "3e805006fc4646e9a0fcd96cc3d6abb5",
      "e708e64d418849deb6e537dc156404e7",
      "5d6db89496654b218f0fdb03f8b36244",
      "46f0fb5ed1584dc4ae085f7bc860e510",
      "76b85e7312cb44fcaa34b0a209d48076",
      "de66081f8f8f403792f3c911562c4a27",
      "6e5c5deb83054948a1494baf9be1e1e4",
      "f7024e73459340ecac62c74a4cf2ac07",
      "cf963636854b47feb45396e56561daa2",
      "9bb55b1ef0ba4a10a59390afbc7092f6",
      "2f179007b41b42cf8e3a4d0c2525b8cb",
      "608d6d2f3c1949a2a6d2cf406e8a3fb3",
      "88d7816b3e214d2cabeb622175bd021a",
      "a87db409a2c9469eb0301b5d7ed19f21",
      "ae9303c910b149f591ca6a829570bd92",
      "da936e4e0dbd4f40a4adc5124ec1f63c",
      "8eebd53b71324fc9b1301b81e207c598",
      "b53f1553ce61417b8974db12e98b521e",
      "78c69437138044c6b2a36bb17ea0a2c0",
      "14243640fc844ab69e3a9cea86f1eacb",
      "d21937e8db934ffa8061fa45e1ce3877",
      "c6ae939e65ef4745a574f85d72a99d43",
      "61e9b51a55a84504887552337c743081",
      "fd92b1884c9b4d01842d01c47a650e85",
      "13268356fd174ada8ae471013b50bb7e",
      "e3db565af3fe41a4bc90f5268a5ef56e",
      "8159d716622d41298e9121833821c7c4",
      "36fc8ae4a05e439da4996e5bc463802b",
      "cb3fc98f1bee41e7a207e1f7b707a2a6",
      "0fa509055e7b4aba8b67ae8afd6243ef",
      "bf2810854422467ab226559c2bc962fc",
      "66c8a48920fb420caea3b73a65c7a48c",
      "d216250e05614d5fb00b1794d2eed2b2",
      "91ac661846ee43fba63616a9d3053e5d",
      "a940b2b0957c40d7a8d1aa30eda3972c",
      "75cfce608e1e45a4a7a2e375fc452805",
      "2d0d3517ced3400895b97a21a1e0d4c3",
      "022cc9ab30624966bbb6cc7012bda9ae",
      "5d20b399b627435792b6ee562506cabf",
      "f6912f7da5c04c02afc9a02f9c7ba2a8",
      "1c1b1d31cde2401286a7a89f4e2806b3",
      "54c7f3aa0c6a4a3194ec2876d1e10ed3",
      "4ec2b5f92bee48268fa6d83b77de9d9f",
      "18e965ce6de746f497c9a504769ebca3",
      "2f6e56bc7be34ee1bc6c68807fbf841c",
      "58130fd57bc2418488e5e6fe818df41e",
      "6129d9bcb8de4aabaa0846fef33e06e6",
      "2b1668081b4948b8b46b3a5a0b7a6da4",
      "18560e6ccf9a4db28b833232b545093c",
      "829156c98e6349fabceea13816f5c29f",
      "5afa5d31f32646dda8aac356f1fbf377",
      "373eef9e24a54ac491533c8d1343747b",
      "ff607cc655554060b2911b1daa6b15d8",
      "9bf6b0e45829401288db63fdb13106d1",
      "749d828e40864d8390a0d909f4885ed4",
      "dd2b812953ee4c1ba75983a6f43ac241",
      "c8564f1f328a47dc8377ea27e05dd3b4",
      "71bb805ac1964c2b9cc14a72e12abc1a",
      "815259575c984cbcb8ba5c811300976b",
      "546d4511aedf43688ed9f5e79d2b4b0a",
      "c4435403b5194c0fb14d3956d7d0355e",
      "ee67842d70de4777bd437797de268b8c",
      "26bd49c8851a449ea6468cee17ab4d3c",
      "2ed3c62c50aa4c338d9af9b15ac5a9b6",
      "208816e1bdef4bda9d58350bccb217ff",
      "eb5cf582441448039727c8c773b44b5e",
      "e4a82b80b175401db4dbd79316e216c6",
      "3988f9ca54484decab454868cfc57b38",
      "ea202592d1ab4dd899ca31f8065073b9",
      "d38a9fb27e504152a38b05ee52f0a96c",
      "1196060f1797499eb683be8707502624",
      "231c98e07a6e473c85a7d53f528fc15e",
      "fe280aa1d57041fe8cbda87bb8a57282",
      "547d956744ef408da98b7217fa89409e",
      "b324680ddcdb499ab3d95aa212c4567d",
      "1a69f096c3ce4c50aa82ce736effa178",
      "50604d4f06384aaeb956eef365fe79bc",
      "dbcc35b8a1f84efaa561ca726c353fe3",
      "f1ad3c75182947a089e51e2e17030383",
      "414943b7420e406e9ef9d717668bc799",
      "1c427d804af244bba22fc1c3df809322",
      "14918f897cd649c4b2568cffa649e63a",
      "b771f780b707471498317efa3365c5b4",
      "1a81446056ea49f892d00b2df15b87d3",
      "627d2fc8899a4c1ca677947fa70e889a",
      "9a0d052e59c74ec282059ce665a0535b",
      "4f069375a93f409c80b1225146754609",
      "309af34f4db144a89fe1201328bd8b3e",
      "9f700aedba074c548f4219e1624193e8",
      "d3f375d1a682454ca2128e109a08bae2",
      "7032993d10df4674b92461691ee8fb5e",
      "9a656069b5f748778ab8bff1d6d0c979",
      "c1f57a850a204a7ca07dce78df307885",
      "773b219b1b7e4ce8ba7896648eb14f82",
      "3f059acc6aaa4434b2df5288851f77fe",
      "3d341d1556404ea1a0512dcdc09b9f08",
      "5e032aef1a384e6ab4bf52dc13df724b",
      "ffb3c0f821c041c48f22953a9bfc006b",
      "fade2a07304e422794b7a45bd01811f3",
      "e3cd5c5511234c2a90233561e592b9e1",
      "5a83d597e6b1472590e4097a3fd66e07",
      "58ec5a8962c44d5c931e5d4d7f299b7e",
      "4970ae1b6c5b40f4bb471d14b771d17e",
      "e3fbf2c23a964e4b823db30413cd1240",
      "e7bc208e296b4ba294dd05b677529471",
      "3b600d9447924b94b3d4eaef66fcc107",
      "37ddb43b3a944038b5d9e4e2c9a9feaa",
      "16e2b3d54eff49c18cb968c914fd3e2f",
      "004b0bec15c1487fb3595c14e98a93b2",
      "cf65f5fd34904cc388c482b9bac80968",
      "65cd0e60d5d6468a9c0883f59a377c07",
      "7195a77093244c228f51382e4a9f5a1b",
      "dd8b6747463744fe9ef008d9fd28b415",
      "de28fb13a7c84ce2ae77c6107ca36c21",
      "15b9c75deaf84c609fda764c9bc24a1b",
      "f9a157a8de27484794df52381f27292d",
      "d9acd952583b4c91b253b8000b24f1a9",
      "bcebc3ce472f42168998ada0469c3e05",
      "05dc0d965ecd43bf9d0a547e2d818c7a",
      "050fe739adfe482eb774970d1a23e9cd",
      "cb639a3228454e319dd0b877826b6875",
      "806fefc3df6a4f80a153fe14ff1de7f0",
      "9833a72c60cb47c181c6c4888f5aa94d",
      "c81ea86784344ee1a6f9674b5890b2b2",
      "de93fc0d20584544b2709f0c622a2839",
      "6fc866f910ec448fb72f87d368188b1f",
      "2c3310ac68af43de910c75fedd83b97e",
      "775fcd6623a04ee487e49e0414ceb56d",
      "19802dbdb5064deab205ed72ea5a447e",
      "831b1db588cc4b82bf0049b92dcec035",
      "a25256ff967f41699df1cea409f7434e",
      "c38c7f574fd04017971c1040bbe9c9d1",
      "d49a8069e150494687d63e3eed3dec91",
      "c68cdf70636b439dbc120f42b08328c5",
      "50e789b832114091ae9c5b70d5902136",
      "bce97de93e074a3d8af8feb01299b445",
      "51b788eba840465c86baa901c09aa291",
      "476322ea5c2f49659eeee298ffe1e0ea",
      "906a03d7a6c44beb8b32390573937d6c",
      "8f48aac7d8d647bf8ae227c71c4ee688",
      "0efbb4eb870246cb93ca578274b20227",
      "892b57e2518a4258a65a106787562ee8",
      "81ac4a2423384520af6edc03df405a10",
      "4231c7871baa4b8b86a2afe64c2e9caa",
      "673429ff8d93402aae4b71e821b09501",
      "dadf9c7745464faca0042253e53e61e5",
      "accced9d83cd48519feea9609ba914d6",
      "399512955ebd47faa67d2fd3ca7fbcfd",
      "d0092a881453485c8c4c27ec089ef0a9",
      "21ae9c08dc51452ba6df2e3e396130fd",
      "212fd86b95ea40ef8ab4eeee94ab3b3b",
      "dd7802c1bde5460097caf4b726477f9c",
      "c382f88dbe3f4c12b46d732f5e30c3ec",
      "5d4969b6281445fca5a72fcbe0feaa4e",
      "4a98c51dee0f454d81f37ee032d0ee3a",
      "937d1a9a34134c248c0ad28729a21c9f",
      "db5d86ad15464e129d35870fe29c872b",
      "54364614d90248939e240b66d581b56d",
      "49763fa925bd47a690f67c81ffeb1cf3",
      "745df5a71d754842a134f671eb791643",
      "c75bf09a8b6148568617471d14125992",
      "99f40b9ba3a84bdeb25690a6156cccd0",
      "f6fcf5916d17480e9ed5ae508b949f29",
      "bfa3b79e96b14b939bee798da9c7f4e6",
      "5f512c7abc8f40ac964ebaa633183f62",
      "d8457fe952ec4cd78e30727c55e50e89",
      "6fedd273dfaf4cd59bf72b462700ac51",
      "836702f1b5044a809c95525c326ac67d",
      "036851ca23de4f7993dd5b164f14a8bd",
      "477226bd505649829ce64901e84e0153",
      "4f830aaf33e440e2a94607bb9ec67ba3",
      "ee4f9e62968341cdaff543c6eeedbedd",
      "b2d24b9882634a16b514999e4f79ce55",
      "0a891b69b0e549bab71b1274a41f6d6e",
      "1302669a8be84b9283b0a6f1ad348d81",
      "6e8bb4da531f45188a341a77c714cf2d",
      "11f01ccfcb5a4083ac87a09a5b627630",
      "541e87dd57dc4f0baaa7ed3bc736eaa0",
      "b3c5bc007c3c4741bdd26b392533d3c5",
      "7d7b23739bfc4504a84beb06daf6fdb2",
      "98fa53da4a924c308d54a61d7acf6399",
      "f9cd75ab15c54e96bf8d8a55f615e2b2",
      "4df58a7ccfc54b1ba1ba85d6a3e59db1",
      "e50c9660c8e5407585f92e3f3c2ec67e",
      "5aba193a990a424293167d9f4ef95e3a",
      "2ee83db7f05045db9eee7a13ab1122fc",
      "828520296e2e479cbe7f577127dacf27",
      "1bc19ff917d04b46bf0272e9443923c1",
      "0032744eff7c40fcb593eb3026da48dc",
      "0907d61a68e346859f56a925cd4871b8",
      "62222e1359674f8fb0bd16d1fc4d778a",
      "9b7b361324064eeab1716ce858b3b6d6",
      "d0f95e148d4c418d8b90bed32e7d6385",
      "a207b71ead2848c49a94a35c37010c5d",
      "6782ec68f4b147749733d422cbf29198",
      "37aec5583e564feebaf6b27baf5ae1ae",
      "34d2b523f9184f57ba52b31baf138425",
      "12616661d6ea4b7ebcc407730673ea3a",
      "8291f3dfd7c04107931fe537ccb5474d",
      "abcde9efe04f482fba511bf0d792a5ba",
      "50bcacd7e907414cb041d0ee08a19732",
      "075f95a1898d4857a8618f089602c488",
      "f9624ef380714658a20977b5ff0f9880",
      "f7dda8b49b524e9e9f1b538f85a0a1ef",
      "22aa21a3a9fc4cd4837e3b223a8b8fc3",
      "e3ba92f9ed2b49548cde24b8c2c9b59d",
      "b8f69cb7aa244456849f614eb5cd8e97",
      "0af14ebfbc4e495b8f2999d0ceaacb24",
      "7c7ee7a07df44162860d34691b164dd7",
      "398d8ba8dc6d4ad08353db79fb3f90d6",
      "37c0b7f2a5ee4b7c9d0e025b0579da91",
      "2ac5a46233804b4390cb89d909e1b9d1",
      "93f72a04a518422db820b5485c3c05da",
      "1ce4d25792cb422dba0969d3b9995954",
      "b938f89791de43baa2b0b27462f06011",
      "86e14e6fb0fb4f7d88c965938d3b63b9",
      "a7ac05067abd4e90b003e8613f0fc5fa",
      "2a8751ee6e6c42d59ed92ceb603ae6ce",
      "eabc48a065b945f08357e39bdeb6b0e4",
      "bd5108789734471ebd5c875bfe552882",
      "c3dc35e005724655b1ac1cf995c605c5",
      "63016f04bd1b4040ab5b62387dc4cd99",
      "dc15125c84184ae987650ef571baefd4",
      "db00ad945e7d465f81af3aef308f930d",
      "76a15ac3e30f451ea05a0e03494e7cd7",
      "f1b5b6351d0b4af38c9db6f8e17d91e1",
      "bad4874a95014342986cc44744c459a1",
      "1ed9a4bfbebb4802b8eadd6cf1884958",
      "a0ab1713f42e42c9833ec937a2900d83",
      "260cc09c7ecf41bfa5f8efbb206befea",
      "c8fc2450128a481d97270cf9bb20e0ee",
      "a88486d7be4b4d3aaf4c5525fbace22e",
      "a2c6d40a4bce49e9baa280722f78a16a",
      "6386a47d463549e4be33c5c31da940cb",
      "98a83a16b6334435a6067314ae320d66",
      "a9e7cf0b4a4d4100b29f784c2a3585f9",
      "c5edfd4c4c424346a7b1b21f9d0a0abb",
      "1854ed24ce0f454a8cb5c8c2aec5bbac",
      "9e040f3d9be1468fb7596529095f803c",
      "c8964d0eb34344999e2d3dc1d3429ccf",
      "08d8401a66b2443280e09bad861a928c",
      "9429e2fd16f54f7dbf16b3d4d06106db",
      "484f8e7cca474082b74caf936850edfa",
      "999f2baf4e464515ab17d467e37dc17b",
      "66870b896281433da0d11fbadd645c74",
      "83af29ec468f457ba5c7394feb2cb8ca",
      "74034bb630134eca96a7b7a8d2f8ff2d",
      "5bad48ac496b4951b8200154b2744a5d",
      "66e8f05a694440459b49f5a0207a7345",
      "f121b0665c284007b531c5f620c19af6",
      "70a008f93c4b48c485b7470cad13d5a6",
      "f7b33f887ccc4b6e855a8a5a5321a8f6",
      "6a94dc49e2324c26994572a3ee910da5",
      "903e485acfa048eb8bf71e533857d96e",
      "80f2cd48e2e94fada98fb86908cb47e4",
      "ee509f17f9124c64bdc9c539a0bb7788",
      "742c3f0de2fe448ab459adfa9704dc8f",
      "f80d60fac6c84030898cbd998ad0257e",
      "de969d12654a4e17b44d3627e0f38246",
      "307cb363340e470080bfc9e466a68351",
      "e4d030aa39e340c6ad88cab8bfc6f1d9",
      "abdb59a1df75429a9ce18e52c7d1ebfd",
      "9e669576f1c54b61993520fcb5fcbebf",
      "4aef4e97657d4b27ba66e8a6ecc995a0",
      "60f5c15b0fb34cd3a7b6bc87f0b90ff1",
      "182920a517a140b388456b6a3fde61e8",
      "b5a93a294719436f9b67cf130d2cbd42",
      "1dc86bb2bebe41a28d9bc7958daf4b10",
      "6f6ffd75c4f0401aa98b561c93525122",
      "2882dd4953b14c92896d40b57d41a4b7",
      "7cda7c7e25a14494884714c6372ad2d4",
      "61ead976db604ce8966be55a19a3c823",
      "836ab0fa1c1045e88188721a5ca5513b",
      "fecf17907d3a4922a9c042cb48678545",
      "6aa2a22467f140dd8a21ebf73ca4a599",
      "c3a6abb14912485aab43c93b439d7f1f",
      "2362c087d69f4d67909eed1490fa83e0",
      "83c80b1c7caa4ded97cb0fadc0d482ca",
      "a09ef3a0ee984d81b2221862778b96e5",
      "41a52ea6f495415e98fea1df981fbdc0",
      "159a7dbe524b4e3aba653f5a66661ca7",
      "1abc3d01272e417bb1f2661e4e13b0e0",
      "8245c4d1f5f048d39f9bc295ed0bca0e",
      "f8bfe0d7c89241c6926f6513d79bd147",
      "061638dff52a4976acc5a0c4ad90de4d",
      "1991190472cd4bd294576a3eed625789",
      "742451a2b587441f9e57bd9a4b3cffef",
      "b9feb895371649fe8a0c1bbe1391cfa9"
     ]
    },
    "id": "LKf-_SwnUvtu",
    "outputId": "af3f9eb1-a486-4110-b12b-2f888d004445"
   },
   "outputs": [
    {
     "data": {
      "application/vnd.jupyter.widget-view+json": {
       "model_id": "a60695cdb12343a098e595dd6afee5b5",
       "version_major": 2,
       "version_minor": 0
      },
      "text/plain": [
       "Loading pipeline components...:   0%|          | 0/2 [00:00<?, ?it/s]"
      ]
     },
     "metadata": {},
     "output_type": "display_data"
    },
    {
     "name": "stdout",
     "output_type": "stream",
     "text": [
      "Generating denoising frames...\n"
     ]
    },
    {
     "name": "stderr",
     "output_type": "stream",
     "text": [
      "\n",
      "\n",
      "\n",
      "\n",
      "\n",
      "\n",
      "  0%|          | 0/26 [00:00<?, ?it/s]\u001b[A\u001b[A\u001b[A\u001b[A\u001b[A\u001b[A"
     ]
    },
    {
     "data": {
      "application/vnd.jupyter.widget-view+json": {
       "model_id": "5d6db89496654b218f0fdb03f8b36244",
       "version_major": 2,
       "version_minor": 0
      },
      "text/plain": [
       "  0%|          | 0/1 [00:00<?, ?it/s]"
      ]
     },
     "metadata": {},
     "output_type": "display_data"
    },
    {
     "data": {
      "application/vnd.jupyter.widget-view+json": {
       "model_id": "a87db409a2c9469eb0301b5d7ed19f21",
       "version_major": 2,
       "version_minor": 0
      },
      "text/plain": [
       "  0%|          | 0/2 [00:00<?, ?it/s]"
      ]
     },
     "metadata": {},
     "output_type": "display_data"
    },
    {
     "data": {
      "application/vnd.jupyter.widget-view+json": {
       "model_id": "13268356fd174ada8ae471013b50bb7e",
       "version_major": 2,
       "version_minor": 0
      },
      "text/plain": [
       "  0%|          | 0/4 [00:00<?, ?it/s]"
      ]
     },
     "metadata": {},
     "output_type": "display_data"
    },
    {
     "name": "stderr",
     "output_type": "stream",
     "text": [
      "\n",
      "\n",
      "\n",
      "\n",
      "\n",
      "\n",
      " 12%|█▏        | 3/26 [00:00<00:01, 15.56it/s]\u001b[A\u001b[A\u001b[A\u001b[A\u001b[A\u001b[A"
     ]
    },
    {
     "data": {
      "application/vnd.jupyter.widget-view+json": {
       "model_id": "75cfce608e1e45a4a7a2e375fc452805",
       "version_major": 2,
       "version_minor": 0
      },
      "text/plain": [
       "  0%|          | 0/6 [00:00<?, ?it/s]"
      ]
     },
     "metadata": {},
     "output_type": "display_data"
    },
    {
     "data": {
      "application/vnd.jupyter.widget-view+json": {
       "model_id": "6129d9bcb8de4aabaa0846fef33e06e6",
       "version_major": 2,
       "version_minor": 0
      },
      "text/plain": [
       "  0%|          | 0/8 [00:00<?, ?it/s]"
      ]
     },
     "metadata": {},
     "output_type": "display_data"
    },
    {
     "name": "stderr",
     "output_type": "stream",
     "text": [
      "\n",
      "\n",
      "\n",
      "\n",
      "\n",
      "\n",
      " 19%|█▉        | 5/26 [00:00<00:02,  8.77it/s]\u001b[A\u001b[A\u001b[A\u001b[A\u001b[A\u001b[A"
     ]
    },
    {
     "data": {
      "application/vnd.jupyter.widget-view+json": {
       "model_id": "71bb805ac1964c2b9cc14a72e12abc1a",
       "version_major": 2,
       "version_minor": 0
      },
      "text/plain": [
       "  0%|          | 0/10 [00:00<?, ?it/s]"
      ]
     },
     "metadata": {},
     "output_type": "display_data"
    },
    {
     "name": "stderr",
     "output_type": "stream",
     "text": [
      "\n",
      "\n",
      "\n",
      "\n",
      "\n",
      "\n",
      " 23%|██▎       | 6/26 [00:00<00:02,  7.18it/s]\u001b[A\u001b[A\u001b[A\u001b[A\u001b[A\u001b[A"
     ]
    },
    {
     "data": {
      "application/vnd.jupyter.widget-view+json": {
       "model_id": "ea202592d1ab4dd899ca31f8065073b9",
       "version_major": 2,
       "version_minor": 0
      },
      "text/plain": [
       "  0%|          | 0/12 [00:00<?, ?it/s]"
      ]
     },
     "metadata": {},
     "output_type": "display_data"
    },
    {
     "name": "stderr",
     "output_type": "stream",
     "text": [
      "\n",
      "\n",
      "\n",
      "\n",
      "\n",
      "\n",
      " 27%|██▋       | 7/26 [00:00<00:03,  5.90it/s]\u001b[A\u001b[A\u001b[A\u001b[A\u001b[A\u001b[A"
     ]
    },
    {
     "data": {
      "application/vnd.jupyter.widget-view+json": {
       "model_id": "414943b7420e406e9ef9d717668bc799",
       "version_major": 2,
       "version_minor": 0
      },
      "text/plain": [
       "  0%|          | 0/14 [00:00<?, ?it/s]"
      ]
     },
     "metadata": {},
     "output_type": "display_data"
    },
    {
     "name": "stderr",
     "output_type": "stream",
     "text": [
      "\n",
      "\n",
      "\n",
      "\n",
      "\n",
      "\n",
      " 31%|███       | 8/26 [00:01<00:03,  4.90it/s]\u001b[A\u001b[A\u001b[A\u001b[A\u001b[A\u001b[A"
     ]
    },
    {
     "data": {
      "application/vnd.jupyter.widget-view+json": {
       "model_id": "7032993d10df4674b92461691ee8fb5e",
       "version_major": 2,
       "version_minor": 0
      },
      "text/plain": [
       "  0%|          | 0/16 [00:00<?, ?it/s]"
      ]
     },
     "metadata": {},
     "output_type": "display_data"
    },
    {
     "name": "stderr",
     "output_type": "stream",
     "text": [
      "\n",
      "\n",
      "\n",
      "\n",
      "\n",
      "\n",
      " 35%|███▍      | 9/26 [00:01<00:04,  4.19it/s]\u001b[A\u001b[A\u001b[A\u001b[A\u001b[A\u001b[A"
     ]
    },
    {
     "data": {
      "application/vnd.jupyter.widget-view+json": {
       "model_id": "58ec5a8962c44d5c931e5d4d7f299b7e",
       "version_major": 2,
       "version_minor": 0
      },
      "text/plain": [
       "  0%|          | 0/18 [00:00<?, ?it/s]"
      ]
     },
     "metadata": {},
     "output_type": "display_data"
    },
    {
     "name": "stderr",
     "output_type": "stream",
     "text": [
      "\n",
      "\n",
      "\n",
      "\n",
      "\n",
      "\n",
      " 38%|███▊      | 10/26 [00:01<00:04,  3.66it/s]\u001b[A\u001b[A\u001b[A\u001b[A\u001b[A\u001b[A"
     ]
    },
    {
     "data": {
      "application/vnd.jupyter.widget-view+json": {
       "model_id": "dd8b6747463744fe9ef008d9fd28b415",
       "version_major": 2,
       "version_minor": 0
      },
      "text/plain": [
       "  0%|          | 0/20 [00:00<?, ?it/s]"
      ]
     },
     "metadata": {},
     "output_type": "display_data"
    },
    {
     "name": "stderr",
     "output_type": "stream",
     "text": [
      "\n",
      "\n",
      "\n",
      "\n",
      "\n",
      "\n",
      " 42%|████▏     | 11/26 [00:02<00:04,  3.21it/s]\u001b[A\u001b[A\u001b[A\u001b[A\u001b[A\u001b[A"
     ]
    },
    {
     "data": {
      "application/vnd.jupyter.widget-view+json": {
       "model_id": "c81ea86784344ee1a6f9674b5890b2b2",
       "version_major": 2,
       "version_minor": 0
      },
      "text/plain": [
       "  0%|          | 0/22 [00:00<?, ?it/s]"
      ]
     },
     "metadata": {},
     "output_type": "display_data"
    },
    {
     "name": "stderr",
     "output_type": "stream",
     "text": [
      "\n",
      "\n",
      "\n",
      "\n",
      "\n",
      "\n",
      " 46%|████▌     | 12/26 [00:02<00:04,  2.87it/s]\u001b[A\u001b[A\u001b[A\u001b[A\u001b[A\u001b[A"
     ]
    },
    {
     "data": {
      "application/vnd.jupyter.widget-view+json": {
       "model_id": "50e789b832114091ae9c5b70d5902136",
       "version_major": 2,
       "version_minor": 0
      },
      "text/plain": [
       "  0%|          | 0/24 [00:00<?, ?it/s]"
      ]
     },
     "metadata": {},
     "output_type": "display_data"
    },
    {
     "name": "stderr",
     "output_type": "stream",
     "text": [
      "\n",
      "\n",
      "\n",
      "\n",
      "\n",
      "\n",
      " 50%|█████     | 13/26 [00:03<00:05,  2.57it/s]\u001b[A\u001b[A\u001b[A\u001b[A\u001b[A\u001b[A"
     ]
    },
    {
     "data": {
      "application/vnd.jupyter.widget-view+json": {
       "model_id": "dadf9c7745464faca0042253e53e61e5",
       "version_major": 2,
       "version_minor": 0
      },
      "text/plain": [
       "  0%|          | 0/26 [00:00<?, ?it/s]"
      ]
     },
     "metadata": {},
     "output_type": "display_data"
    },
    {
     "name": "stderr",
     "output_type": "stream",
     "text": [
      "\n",
      "\n",
      "\n",
      "\n",
      "\n",
      "\n",
      " 54%|█████▍    | 14/26 [00:03<00:05,  2.31it/s]\u001b[A\u001b[A\u001b[A\u001b[A\u001b[A\u001b[A"
     ]
    },
    {
     "data": {
      "application/vnd.jupyter.widget-view+json": {
       "model_id": "db5d86ad15464e129d35870fe29c872b",
       "version_major": 2,
       "version_minor": 0
      },
      "text/plain": [
       "  0%|          | 0/28 [00:00<?, ?it/s]"
      ]
     },
     "metadata": {},
     "output_type": "display_data"
    },
    {
     "name": "stderr",
     "output_type": "stream",
     "text": [
      "\n",
      "\n",
      "\n",
      "\n",
      "\n",
      "\n",
      " 58%|█████▊    | 15/26 [00:04<00:05,  2.14it/s]\u001b[A\u001b[A\u001b[A\u001b[A\u001b[A\u001b[A"
     ]
    },
    {
     "data": {
      "application/vnd.jupyter.widget-view+json": {
       "model_id": "836702f1b5044a809c95525c326ac67d",
       "version_major": 2,
       "version_minor": 0
      },
      "text/plain": [
       "  0%|          | 0/30 [00:00<?, ?it/s]"
      ]
     },
     "metadata": {},
     "output_type": "display_data"
    },
    {
     "name": "stderr",
     "output_type": "stream",
     "text": [
      "\n",
      "\n",
      "\n",
      "\n",
      "\n",
      "\n",
      " 62%|██████▏   | 16/26 [00:04<00:05,  1.99it/s]\u001b[A\u001b[A\u001b[A\u001b[A\u001b[A\u001b[A"
     ]
    },
    {
     "data": {
      "application/vnd.jupyter.widget-view+json": {
       "model_id": "b3c5bc007c3c4741bdd26b392533d3c5",
       "version_major": 2,
       "version_minor": 0
      },
      "text/plain": [
       "  0%|          | 0/32 [00:00<?, ?it/s]"
      ]
     },
     "metadata": {},
     "output_type": "display_data"
    },
    {
     "name": "stderr",
     "output_type": "stream",
     "text": [
      "\n",
      "\n",
      "\n",
      "\n",
      "\n",
      "\n",
      " 65%|██████▌   | 17/26 [00:05<00:04,  1.87it/s]\u001b[A\u001b[A\u001b[A\u001b[A\u001b[A\u001b[A"
     ]
    },
    {
     "data": {
      "application/vnd.jupyter.widget-view+json": {
       "model_id": "0907d61a68e346859f56a925cd4871b8",
       "version_major": 2,
       "version_minor": 0
      },
      "text/plain": [
       "  0%|          | 0/34 [00:00<?, ?it/s]"
      ]
     },
     "metadata": {},
     "output_type": "display_data"
    },
    {
     "name": "stderr",
     "output_type": "stream",
     "text": [
      "\n",
      "\n",
      "\n",
      "\n",
      "\n",
      "\n",
      " 69%|██████▉   | 18/26 [00:06<00:04,  1.76it/s]\u001b[A\u001b[A\u001b[A\u001b[A\u001b[A\u001b[A"
     ]
    },
    {
     "data": {
      "application/vnd.jupyter.widget-view+json": {
       "model_id": "50bcacd7e907414cb041d0ee08a19732",
       "version_major": 2,
       "version_minor": 0
      },
      "text/plain": [
       "  0%|          | 0/36 [00:00<?, ?it/s]"
      ]
     },
     "metadata": {},
     "output_type": "display_data"
    },
    {
     "name": "stderr",
     "output_type": "stream",
     "text": [
      "\n",
      "\n",
      "\n",
      "\n",
      "\n",
      "\n",
      " 73%|███████▎  | 19/26 [00:06<00:04,  1.64it/s]\u001b[A\u001b[A\u001b[A\u001b[A\u001b[A\u001b[A"
     ]
    },
    {
     "data": {
      "application/vnd.jupyter.widget-view+json": {
       "model_id": "2ac5a46233804b4390cb89d909e1b9d1",
       "version_major": 2,
       "version_minor": 0
      },
      "text/plain": [
       "  0%|          | 0/38 [00:00<?, ?it/s]"
      ]
     },
     "metadata": {},
     "output_type": "display_data"
    },
    {
     "name": "stderr",
     "output_type": "stream",
     "text": [
      "\n",
      "\n",
      "\n",
      "\n",
      "\n",
      "\n",
      " 77%|███████▋  | 20/26 [00:07<00:03,  1.55it/s]\u001b[A\u001b[A\u001b[A\u001b[A\u001b[A\u001b[A"
     ]
    },
    {
     "data": {
      "application/vnd.jupyter.widget-view+json": {
       "model_id": "dc15125c84184ae987650ef571baefd4",
       "version_major": 2,
       "version_minor": 0
      },
      "text/plain": [
       "  0%|          | 0/40 [00:00<?, ?it/s]"
      ]
     },
     "metadata": {},
     "output_type": "display_data"
    },
    {
     "name": "stderr",
     "output_type": "stream",
     "text": [
      "\n",
      "\n",
      "\n",
      "\n",
      "\n",
      "\n",
      " 81%|████████  | 21/26 [00:08<00:03,  1.45it/s]\u001b[A\u001b[A\u001b[A\u001b[A\u001b[A\u001b[A"
     ]
    },
    {
     "data": {
      "application/vnd.jupyter.widget-view+json": {
       "model_id": "6386a47d463549e4be33c5c31da940cb",
       "version_major": 2,
       "version_minor": 0
      },
      "text/plain": [
       "  0%|          | 0/42 [00:00<?, ?it/s]"
      ]
     },
     "metadata": {},
     "output_type": "display_data"
    },
    {
     "name": "stderr",
     "output_type": "stream",
     "text": [
      "\n",
      "\n",
      "\n",
      "\n",
      "\n",
      "\n",
      " 85%|████████▍ | 22/26 [00:09<00:02,  1.38it/s]\u001b[A\u001b[A\u001b[A\u001b[A\u001b[A\u001b[A"
     ]
    },
    {
     "data": {
      "application/vnd.jupyter.widget-view+json": {
       "model_id": "66870b896281433da0d11fbadd645c74",
       "version_major": 2,
       "version_minor": 0
      },
      "text/plain": [
       "  0%|          | 0/44 [00:00<?, ?it/s]"
      ]
     },
     "metadata": {},
     "output_type": "display_data"
    },
    {
     "name": "stderr",
     "output_type": "stream",
     "text": [
      "\n",
      "\n",
      "\n",
      "\n",
      "\n",
      "\n",
      " 88%|████████▊ | 23/26 [00:10<00:02,  1.31it/s]\u001b[A\u001b[A\u001b[A\u001b[A\u001b[A\u001b[A"
     ]
    },
    {
     "data": {
      "application/vnd.jupyter.widget-view+json": {
       "model_id": "ee509f17f9124c64bdc9c539a0bb7788",
       "version_major": 2,
       "version_minor": 0
      },
      "text/plain": [
       "  0%|          | 0/46 [00:00<?, ?it/s]"
      ]
     },
     "metadata": {},
     "output_type": "display_data"
    },
    {
     "name": "stderr",
     "output_type": "stream",
     "text": [
      "\n",
      "\n",
      "\n",
      "\n",
      "\n",
      "\n",
      " 92%|█████████▏| 24/26 [00:11<00:01,  1.24it/s]\u001b[A\u001b[A\u001b[A\u001b[A\u001b[A\u001b[A"
     ]
    },
    {
     "data": {
      "application/vnd.jupyter.widget-view+json": {
       "model_id": "b5a93a294719436f9b67cf130d2cbd42",
       "version_major": 2,
       "version_minor": 0
      },
      "text/plain": [
       "  0%|          | 0/48 [00:00<?, ?it/s]"
      ]
     },
     "metadata": {},
     "output_type": "display_data"
    },
    {
     "name": "stderr",
     "output_type": "stream",
     "text": [
      "\n",
      "\n",
      "\n",
      "\n",
      "\n",
      "\n",
      " 96%|█████████▌| 25/26 [00:11<00:00,  1.19it/s]\u001b[A\u001b[A\u001b[A\u001b[A\u001b[A\u001b[A"
     ]
    },
    {
     "data": {
      "application/vnd.jupyter.widget-view+json": {
       "model_id": "83c80b1c7caa4ded97cb0fadc0d482ca",
       "version_major": 2,
       "version_minor": 0
      },
      "text/plain": [
       "  0%|          | 0/50 [00:00<?, ?it/s]"
      ]
     },
     "metadata": {},
     "output_type": "display_data"
    },
    {
     "name": "stderr",
     "output_type": "stream",
     "text": [
      "\n",
      "\n",
      "\n",
      "\n",
      "\n",
      "\n",
      "100%|██████████| 26/26 [00:12<00:00,  2.01it/s]"
     ]
    },
    {
     "name": "stdout",
     "output_type": "stream",
     "text": [
      "Creating GIF animation...\n",
      "Animation saved to diffusion_process3.gif\n",
      "Process grid saved to diffusion_process_grid3.png\n"
     ]
    },
    {
     "name": "stderr",
     "output_type": "stream",
     "text": [
      "\n"
     ]
    }
   ],
   "source": [
    "from diffusers import DPMSolverMultistepScheduler, DDPMPipeline\n",
    "from PIL import Image, ImageDraw, ImageFont\n",
    "import torch\n",
    "import numpy as np\n",
    "import os\n",
    "import imageio.v2 as imageio\n",
    "from tqdm import tqdm\n",
    "\n",
    "# Initialize the model pipeline using your local model\n",
    "model_path = \"glyffuser-unconditional/epoch2\"  # Path to your trained model\n",
    "pipeline = DDPMPipeline.from_pretrained(model_path).to(\"cuda\")\n",
    "pipeline.scheduler = DPMSolverMultistepScheduler()\n",
    "\n",
    "# Create output directory for frames\n",
    "os.makedirs(\"animation_frames\", exist_ok=True)\n",
    "\n",
    "# Set parameters\n",
    "num_inference_steps = 50\n",
    "seed = 42\n",
    "\n",
    "# Use the model's forward process to generate images at each step\n",
    "print(\"Generating denoising frames...\")\n",
    "\n",
    "# Start with pure noise (t=1000)\n",
    "generator = torch.Generator(device=\"cuda\").manual_seed(seed)\n",
    "\n",
    "# Store all frames\n",
    "frames = []\n",
    "\n",
    "# The correct way to visualize the denoising process is to use the pipeline with\n",
    "# increasing numbers of denoising steps\n",
    "for step in tqdm(range(0, num_inference_steps + 1, 2)):  # Skip some steps for faster generation\n",
    "    if step == 0:\n",
    "        # For the initial noise, just use the pipeline with 1 step\n",
    "        # This will effectively show the noise\n",
    "        current_step = 1\n",
    "    else:\n",
    "        current_step = step\n",
    "\n",
    "    # Generate the image with the current number of denoising steps\n",
    "    image = pipeline(\n",
    "        batch_size=1,\n",
    "        generator=torch.Generator(device=\"cuda\").manual_seed(seed),\n",
    "        num_inference_steps=current_step\n",
    "    ).images[0]\n",
    "\n",
    "    # Save the frame\n",
    "    image.save(os.path.join(\"animation_frames\", f\"frame_{step:03d}.png\"))\n",
    "    frames.append(image)\n",
    "\n",
    "# Create GIF from frames\n",
    "print(\"Creating GIF animation...\")\n",
    "# Ensure all frames have the same size (shouldn't be necessary but just in case)\n",
    "frames_resized = [frame.resize((256, 256)) for frame in frames]\n",
    "\n",
    "# Save as GIF\n",
    "output_gif = \"diffusion_process3.gif\"\n",
    "frames_resized[0].save(\n",
    "    output_gif,\n",
    "    save_all=True,\n",
    "    append_images=frames_resized[1:],\n",
    "    optimize=False,\n",
    "    duration=150,  # milliseconds per frame - slower to see the changes\n",
    "    loop=0  # 0 means loop indefinitely\n",
    ")\n",
    "\n",
    "print(f\"Animation saved to {output_gif}\")\n",
    "\n",
    "# Create a grid showing selected frames\n",
    "def create_process_grid(frames, num_to_show=8):\n",
    "    # Select frames evenly throughout the process\n",
    "    if len(frames) <= num_to_show:\n",
    "        selected_frames = frames\n",
    "    else:\n",
    "        indices = np.linspace(0, len(frames)-1, num_to_show, dtype=int)\n",
    "        selected_frames = [frames[i] for i in indices]\n",
    "\n",
    "    # Resize frames\n",
    "    width, height = 256, 256\n",
    "    selected_frames = [frame.resize((width, height)) for frame in selected_frames]\n",
    "\n",
    "    # Create grid image\n",
    "    cols = min(4, num_to_show)\n",
    "    rows = (num_to_show + cols - 1) // cols\n",
    "\n",
    "    grid = Image.new('RGB', (width * cols, height * rows))\n",
    "\n",
    "    for i, frame in enumerate(selected_frames):\n",
    "        row = i // cols\n",
    "        col = i % cols\n",
    "        grid.paste(frame, (col * width, row * height))\n",
    "\n",
    "    return grid\n",
    "\n",
    "# Create and save the grid\n",
    "grid = create_process_grid(frames)\n",
    "grid.save(\"diffusion_process_grid3.png\")\n",
    "print(\"Process grid saved to diffusion_process_grid3.png\")"
   ]
  },
  {
   "cell_type": "code",
   "execution_count": null,
   "metadata": {
    "id": "JzPX6QkMai1t"
   },
   "outputs": [],
   "source": []
  }
 ],
 "metadata": {
  "accelerator": "GPU",
  "colab": {
   "gpuType": "A100",
   "include_colab_link": true,
   "machine_shape": "hm",
   "provenance": []
  },
  "kernelspec": {
   "display_name": "Python 3",
   "name": "python3"
  },
  "language_info": {
   "codemirror_mode": {
    "name": "ipython",
    "version": 3
   },
   "file_extension": ".py",
   "mimetype": "text/x-python",
   "name": "python",
   "nbconvert_exporter": "python",
   "pygments_lexer": "ipython3",
   "version": "3.11.9"
  }
 },
 "nbformat": 4,
 "nbformat_minor": 0
}
