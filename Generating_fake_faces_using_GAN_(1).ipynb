{
  "metadata": {
    "kernelspec": {
      "display_name": "Python 3",
      "name": "python3"
    },
    "language_info": {
      "pygments_lexer": "ipython3",
      "nbconvert_exporter": "python",
      "version": "3.6.4",
      "file_extension": ".py",
      "codemirror_mode": {
        "name": "ipython",
        "version": 3
      },
      "name": "python",
      "mimetype": "text/x-python"
    },
    "colab": {
      "provenance": [],
      "gpuType": "A100",
      "machine_shape": "hm",
      "include_colab_link": true
    },
    "accelerator": "GPU"
  },
  "nbformat_minor": 0,
  "nbformat": 4,
  "cells": [
    {
      "cell_type": "markdown",
      "metadata": {
        "id": "view-in-github",
        "colab_type": "text"
      },
      "source": [
        "<a href=\"https://colab.research.google.com/github/amankiitg/Foundation_AI/blob/main/Generating_fake_faces_using_GAN_(1).ipynb\" target=\"_parent\"><img src=\"https://colab.research.google.com/assets/colab-badge.svg\" alt=\"Open In Colab\"/></a>"
      ]
    },
    {
      "source": [
        "# IMPORTANT: RUN THIS CELL IN ORDER TO IMPORT YOUR KAGGLE DATA SOURCES,\n",
        "# THEN FEEL FREE TO DELETE THIS CELL.\n",
        "# NOTE: THIS NOTEBOOK ENVIRONMENT DIFFERS FROM KAGGLE'S PYTHON\n",
        "# ENVIRONMENT SO THERE MAY BE MISSING LIBRARIES USED BY YOUR\n",
        "# NOTEBOOK.\n",
        "import kagglehub\n",
        "prasoonkottarathil_face_mask_lite_dataset_path = kagglehub.dataset_download('prasoonkottarathil/face-mask-lite-dataset')\n",
        "\n",
        "print('Data source import complete.')\n"
      ],
      "metadata": {
        "id": "hhdP2vnPUt9z",
        "colab": {
          "base_uri": "https://localhost:8080/"
        },
        "outputId": "f65f2922-2178-4588-d583-0b39f0a489a2"
      },
      "cell_type": "code",
      "outputs": [
        {
          "output_type": "stream",
          "name": "stdout",
          "text": [
            "Downloading from https://www.kaggle.com/api/v1/datasets/download/prasoonkottarathil/face-mask-lite-dataset?dataset_version_number=1...\n"
          ]
        },
        {
          "output_type": "stream",
          "name": "stderr",
          "text": [
            " 20%|██        | 4.68G/23.3G [00:24<01:49, 182MB/s]"
          ]
        }
      ],
      "execution_count": null
    },
    {
      "cell_type": "markdown",
      "source": [
        "# Introduction\n",
        "<img src = 'https://cdn-images-1.medium.com/max/900/1*TKr1dtcNgJCA8uYY1OhmSg.png'>"
      ],
      "metadata": {
        "id": "Nk6RgFTxUt9z"
      }
    },
    {
      "cell_type": "markdown",
      "source": [
        "Generative Adversarial Networks (GANs) are generative models. They are uses unsupervised technique to generate new things. GAN models learns pattern in input data in such a way that they can generate new sample which resemble with the input data. The main aim of generative adversarial network is to match generated distribution with the original data distribution.\n",
        "\n",
        "GANs are an exciting and rapidly changing field, delivering generative models ability to generate realistic examples across a range of problem domains, most notably in image-to-image translation tasks such as translating photos of summer to winter or day to night,coloring images and in generating fake photos that even human cannot categorized as fake image.\n",
        "This <a href = 'https://thispersondoesnotexist.com/'> site </a> uses GAN to generate fake human faces which are similar to real human"
      ],
      "metadata": {
        "id": "L-dhwS02Ut90"
      }
    },
    {
      "cell_type": "markdown",
      "source": [
        "### Components of GANs\n",
        "<b> Generator </b>: Generator are neural network that learns to generate data which resemble with the input distribution. The generator model take fixed dimension random vector from Gaussian distribution as input and generate the sample out of it which resemble with input.\n",
        "\n",
        "<b> Discriminator </b>: Discriminator are simple neural network that distinguish fake and real data.The discriminator model takes an example from the domain as input (real or generated) and predicts a binary class label of real or fake.\n",
        "\n",
        "Generative adversarial networks are based on a game theoretic scenario in which the generator network must compete against an adversary. The generator network directly produces samples. Its adversary, the discriminator network, attempts to distinguish between samples drawn from the training data and samples drawn from the generator."
      ],
      "metadata": {
        "id": "P2rF_uD9Ut90"
      }
    },
    {
      "cell_type": "markdown",
      "source": [
        "# Working of GANs\n",
        "<img src = 'https://cdn.analyticsvidhya.com/wp-content/uploads/2017/06/11000153/g1.jpg'>\n",
        "\n",
        "First of all we take batch of random vector from the Gaussian distribution and generate fake image out of it using generator. Since generator isn't trained so generated image donot resemble with the real input distribution. We take batches of image from the input distribution along with generated fake images and fed it to discriminator so that it learns to distinguish between real and fake images.\n",
        "Now, after training discriminator, we take the batch of images that generator generated and fed them through discriminator again (here we donot fed real images), discriminator will provide an output probabilities, these values are then compared with the probability that the generator should generated (ie 1), error is calculated and backpropagated through the generator and the weight are updated.\n",
        "This above process is repeated until generated images resemble with the input distribution."
      ],
      "metadata": {
        "id": "ZBC4DlycUt90"
      }
    },
    {
      "cell_type": "markdown",
      "source": [
        "## Objective: To generate fake faces of human"
      ],
      "metadata": {
        "id": "A94_nt9pUt90"
      }
    },
    {
      "cell_type": "markdown",
      "source": [
        "## Import necessary Libraries"
      ],
      "metadata": {
        "id": "inYReoLDUt90"
      }
    },
    {
      "cell_type": "code",
      "source": [
        "import tensorflow as tf\n",
        "import keras\n",
        "from keras import layers\n",
        "import numpy as np\n",
        "import matplotlib.pyplot as plt\n",
        "import cv2\n",
        "import os\n",
        "from tqdm import tqdm\n",
        "import re\n",
        "from keras.preprocessing.image import img_to_array"
      ],
      "metadata": {
        "_uuid": "8f2839f25d086af736a60e9eeb907d3b93b6e0e5",
        "_cell_guid": "b1076dfc-b9ad-4769-8c92-a6c4dae69d19",
        "trusted": true,
        "id": "ja09Iun7Ut90"
      },
      "execution_count": null,
      "outputs": []
    },
    {
      "cell_type": "markdown",
      "source": [
        "## Load data\n",
        "Here I have used face-mask-lite-dataset, out of available 10000 images i have only use 9090 image. I have read image using opencv since opencv reads image in bgr format i have converted it back to rgb format using cvtColor function. These images are resize into 128 by 128 using resize function and are finally converted to array and are appended in empty array"
      ],
      "metadata": {
        "id": "6BiSGxTCUt90"
      }
    },
    {
      "cell_type": "code",
      "source": [
        "# to get the files in proper order\n",
        "def sorted_alphanumeric(data):\n",
        "    convert = lambda text: int(text) if text.isdigit() else text.lower()\n",
        "    alphanum_key = lambda key: [convert(c) for c in re.split('([0-9]+)',key)]\n",
        "    return sorted(data,key = alphanum_key)\n",
        "# defining the size of the image\n",
        "SIZE = 128\n",
        "_img = []\n",
        "path = os.path.join(prasoonkottarathil_face_mask_lite_dataset_path, 'without_mask')\n",
        "files = os.listdir(path)\n",
        "files = sorted_alphanumeric(files)\n",
        "for i in tqdm(files):\n",
        "        if i == 'seed9090.png':\n",
        "            break\n",
        "        else:\n",
        "            img = cv2.imread(path + '/'+i,1)\n",
        "            # open cv reads images in BGR format so we have to convert it to RGB\n",
        "            img = cv2.cvtColor(img, cv2.COLOR_BGR2RGB)\n",
        "            #resizing image\n",
        "            img = cv2.resize(img, (SIZE, SIZE))\n",
        "            img = (img - 127.5) / 127.5\n",
        "            imh = img.astype(float)\n",
        "            _img.append(img_to_array(img))"
      ],
      "metadata": {
        "trusted": true,
        "id": "coVps6VGUt90"
      },
      "execution_count": null,
      "outputs": []
    },
    {
      "cell_type": "markdown",
      "source": [
        "## Visualize our images"
      ],
      "metadata": {
        "id": "1g38HpClUt90"
      }
    },
    {
      "cell_type": "code",
      "source": [
        "def plot_images(sqr = 5):\n",
        "    plt.figure(figsize = (10,10))\n",
        "    plt.title(\"Real Images\",fontsize = 35)\n",
        "    for i in range(sqr * sqr):\n",
        "        plt.subplot(sqr,sqr,i+1)\n",
        "        plt.imshow(_img[i]*0.5 + 0.5 )\n",
        "        plt.xticks([])\n",
        "        plt.yticks([])\n",
        "\n",
        "# to plot images\n",
        "plot_images(6)\n"
      ],
      "metadata": {
        "trusted": true,
        "id": "Pv-IuenSUt90"
      },
      "execution_count": null,
      "outputs": []
    },
    {
      "cell_type": "markdown",
      "source": [
        "Here, i have defined batch size so that these batches of images can be fed directly to the discriminator network"
      ],
      "metadata": {
        "id": "nzSsrxwZUt90"
      }
    },
    {
      "cell_type": "code",
      "source": [
        "batch_size = 32\n",
        "dataset=tf.data.Dataset.from_tensor_slices(np.array(_img)).batch(batch_size)"
      ],
      "metadata": {
        "trusted": true,
        "id": "xQHJXQP8Ut91"
      },
      "execution_count": null,
      "outputs": []
    },
    {
      "cell_type": "markdown",
      "source": [
        "# Generator\n",
        "Here, I have defined generator network. It take random vector from normal distribution as input. This random vector is passed through dense layer and is reshaped and is finally fed through Convolution layers. Here, convolution layers does downsampling of our latent vector, after series of convolution batch normalization and leakyrelu layer our downsampled latent vector is upsampled using Conv2DTranspose.\n",
        "\n",
        "The final output layer of Generator generate 128 by 128 by 3 image. The final layer of generator uses hyperbolic tangent as activation to squash the value in between -1 and 1. Generator model looks like simple autoencoder model, where input data is downsampled first and is finally upsampled ."
      ],
      "metadata": {
        "id": "-k0C3vu5Ut91"
      }
    },
    {
      "cell_type": "code",
      "source": [
        "latent_dim = 100\n",
        "def Generator():\n",
        "    model = tf.keras.Sequential()\n",
        "    model.add(layers.Dense(128*128*3, use_bias=False, input_shape=(latent_dim,)))\n",
        "    model.add(layers.Reshape((128,128,3)))\n",
        "    # downsampling\n",
        "    model.add(tf.keras.layers.Conv2D(128,4, strides=1, padding='same',kernel_initializer='he_normal', use_bias=False))\n",
        "    model.add(tf.keras.layers.Conv2D(128,4, strides=2, padding='same',kernel_initializer='he_normal', use_bias=False))\n",
        "    model.add(tf.keras.layers.BatchNormalization())\n",
        "    model.add(tf.keras.layers.LeakyReLU())\n",
        "    model.add(tf.keras.layers.Conv2D(256,4, strides=1, padding='same',kernel_initializer='he_normal', use_bias=False))\n",
        "    model.add(tf.keras.layers.Conv2D(256,4, strides=2, padding='same',kernel_initializer='he_normal', use_bias=False))\n",
        "    model.add(tf.keras.layers.BatchNormalization())\n",
        "    model.add(tf.keras.layers.LeakyReLU())\n",
        "    model.add(tf.keras.layers.Conv2DTranspose(512, 4, strides=1,padding='same',kernel_initializer='he_normal',use_bias=False))\n",
        "    model.add(tf.keras.layers.Conv2D(512,4, strides=2, padding='same',kernel_initializer='he_normal', use_bias=False))\n",
        "\n",
        "    model.add(tf.keras.layers.LeakyReLU())\n",
        "    #upsampling\n",
        "    model.add(tf.keras.layers.Conv2DTranspose(512, 4, strides=1,padding='same',kernel_initializer='he_normal',use_bias=False))\n",
        "    model.add(tf.keras.layers.Conv2DTranspose(512, 4, strides=2,padding='same',kernel_initializer='he_normal',use_bias=False))\n",
        "    model.add(tf.keras.layers.BatchNormalization())\n",
        "    model.add(tf.keras.layers.LeakyReLU())\n",
        "    model.add(tf.keras.layers.Conv2DTranspose(256, 4, strides=1,padding='same',kernel_initializer='he_normal',use_bias=False))\n",
        "    model.add(tf.keras.layers.Conv2DTranspose(256, 4, strides=2,padding='same',kernel_initializer='he_normal',use_bias=False))\n",
        "    model.add(tf.keras.layers.BatchNormalization())\n",
        "\n",
        "    model.add(tf.keras.layers.Conv2DTranspose(128, 4, strides=2,padding='same',kernel_initializer='he_normal',use_bias=False))\n",
        "    model.add(tf.keras.layers.Conv2DTranspose(128, 4, strides=1,padding='same',kernel_initializer='he_normal',use_bias=False))\n",
        "    model.add(tf.keras.layers.BatchNormalization())\n",
        "    model.add(tf.keras.layers.Conv2DTranspose(3,4,strides = 1, padding = 'same',activation = 'tanh'))\n",
        "\n",
        "\n",
        "\n",
        "    return model"
      ],
      "metadata": {
        "trusted": true,
        "id": "IhqTNg3WUt91"
      },
      "execution_count": null,
      "outputs": []
    },
    {
      "cell_type": "code",
      "source": [
        "generator = Generator()\n",
        "generator.summary()"
      ],
      "metadata": {
        "trusted": true,
        "id": "r78jtUOhUt91"
      },
      "execution_count": null,
      "outputs": []
    },
    {
      "cell_type": "markdown",
      "source": [
        "# Discriminator\n",
        "Here, discriminator model take 128 by 128 by 3 image that can be real or generated. This input image is downsampled using Convolution layer and is finally flattened and is fed to single neuron so that it can distinguish real and fake image. Since, final layer uses sigmoid function as activation, it output value in between 0 and 1. Here value greater than 0.5 refers to real and less than 0.5 refers to fake image. The output of discriminator is used in training of generator."
      ],
      "metadata": {
        "id": "hhB_uA3dUt91"
      }
    },
    {
      "cell_type": "code",
      "source": [
        "def Discriminator():\n",
        "    model = tf.keras.models.Sequential()\n",
        "    model.add(tf.keras.layers.Input((SIZE, SIZE, 3)))\n",
        "    model.add(tf.keras.layers.Conv2D(128,4, strides=2, padding='same',kernel_initializer='he_normal', use_bias=False))\n",
        "    model.add(tf.keras.layers.BatchNormalization())\n",
        "    model.add(tf.keras.layers.LeakyReLU())\n",
        "    model.add(tf.keras.layers.Conv2D(128,4, strides=2, padding='same',kernel_initializer='he_normal', use_bias=False))\n",
        "    model.add(tf.keras.layers.BatchNormalization())\n",
        "    model.add(tf.keras.layers.LeakyReLU())\n",
        "    model.add(tf.keras.layers.Conv2D(256,4, strides=2, padding='same',kernel_initializer='he_normal', use_bias=False))\n",
        "    model.add(tf.keras.layers.BatchNormalization())\n",
        "    model.add(tf.keras.layers.LeakyReLU())\n",
        "    model.add(tf.keras.layers.Conv2D(256,4, strides=2, padding='same',kernel_initializer='he_normal', use_bias=False))\n",
        "    model.add(tf.keras.layers.BatchNormalization())\n",
        "    model.add(tf.keras.layers.LeakyReLU())\n",
        "    model.add(tf.keras.layers.Conv2D(512,4, strides=2, padding='same',kernel_initializer='he_normal', use_bias=False))\n",
        "    model.add(tf.keras.layers.LeakyReLU())\n",
        "    model.add(tf.keras.layers.Flatten())\n",
        "    model.add(tf.keras.layers.Dense(1,activation = 'sigmoid'))\n",
        "    return model\n",
        "\n"
      ],
      "metadata": {
        "trusted": true,
        "id": "hPBR2lUVUt91"
      },
      "execution_count": null,
      "outputs": []
    },
    {
      "cell_type": "code",
      "source": [
        "discriminator = Discriminator()\n",
        "discriminator.summary()"
      ],
      "metadata": {
        "trusted": true,
        "id": "q9NpIdpRUt91"
      },
      "execution_count": null,
      "outputs": []
    },
    {
      "cell_type": "markdown",
      "source": [
        "### Let's plot image generated by generator before training"
      ],
      "metadata": {
        "id": "fVxCK2tGUt91"
      }
    },
    {
      "cell_type": "code",
      "source": [
        "noise = np.random.normal(-1,1,(1,100))\n",
        "img = generator(noise)\n",
        "plt.imshow(img[0,:,:,0])\n",
        "plt.show()"
      ],
      "metadata": {
        "trusted": true,
        "id": "JLG1-eSeUt91"
      },
      "execution_count": null,
      "outputs": []
    },
    {
      "cell_type": "markdown",
      "source": [
        "### Defining loss function and optimizer"
      ],
      "metadata": {
        "id": "y3GK_nkhUt91"
      }
    },
    {
      "cell_type": "code",
      "source": [
        "# Define separate optimizers\n",
        "generator_optimizer = tf.keras.optimizers.RMSprop(\n",
        "    learning_rate=0.0001,\n",
        "    clipvalue=1.0,\n",
        "    decay=1e-8\n",
        ")\n",
        "discriminator_optimizer = tf.keras.optimizers.RMSprop(\n",
        "    learning_rate=0.0001,\n",
        "    clipvalue=1.0,\n",
        "    decay=1e-8\n",
        ")"
      ],
      "metadata": {
        "trusted": true,
        "id": "WwxAgdnMUt91"
      },
      "execution_count": null,
      "outputs": []
    },
    {
      "cell_type": "code",
      "source": [
        "# Define your loss\n",
        "cross_entropy = tf.keras.losses.BinaryCrossentropy(from_logits=True)\n",
        "\n",
        "def generator_loss(fake_output):\n",
        "    return cross_entropy(tf.ones_like(fake_output), fake_output)\n",
        "\n",
        "def discriminator_loss(fake_output, real_output):\n",
        "    fake_loss = cross_entropy(tf.zeros_like(fake_output), fake_output)\n",
        "    real_loss = cross_entropy(tf.ones_like(real_output), real_output)\n",
        "    return fake_loss + real_loss\n"
      ],
      "metadata": {
        "id": "sDDt-yHqb4me"
      },
      "execution_count": null,
      "outputs": []
    },
    {
      "cell_type": "markdown",
      "source": [
        "### Defining training steps"
      ],
      "metadata": {
        "id": "pdYu7DQwUt91"
      }
    },
    {
      "cell_type": "code",
      "source": [
        "# Training step\n",
        "#tf.GradientTape() is a TensorFlow utility used for automatic differentiation.\n",
        "#It records operations on tensors during the forward pass and allows us to compute gradients of these operations with respect to model parameters during backpropagation.\n",
        "\n",
        "#gen_tape → Tracks operations related to the generator (gen_tape does not track the discriminator’s parameters—only the generator's.)\n",
        "#disc_tape → Tracks operations related to the discriminator.\n",
        "\n",
        "@tf.function\n",
        "def train_steps(images):\n",
        "    noise = tf.random.normal([batch_size, latent_dim])\n",
        "\n",
        "    with tf.GradientTape() as gen_tape, tf.GradientTape() as disc_tape:\n",
        "        generated_images = generator(noise, training=True)\n",
        "\n",
        "        fake_output = discriminator(generated_images, training=True)\n",
        "        real_output = discriminator(images, training=True)\n",
        "\n",
        "        gen_loss = generator_loss(fake_output)\n",
        "        disc_loss = discriminator_loss(fake_output, real_output)\n",
        "\n",
        "    gradients_of_generator = gen_tape.gradient(gen_loss, generator.trainable_variables)\n",
        "    gradients_of_discriminator = disc_tape.gradient(disc_loss, discriminator.trainable_variables)\n",
        "\n",
        "    # Apply gradients using correct optimizers\n",
        "    discriminator_optimizer.apply_gradients(zip(gradients_of_discriminator, discriminator.trainable_variables))\n",
        "    generator_optimizer.apply_gradients(zip(gradients_of_generator, generator.trainable_variables))\n",
        "\n",
        "    loss = {\n",
        "        'gen_loss': gen_loss,\n",
        "        'disc_loss': disc_loss\n",
        "    }\n",
        "\n",
        "    return loss\n"
      ],
      "metadata": {
        "trusted": true,
        "id": "HmRmaF-hUt91"
      },
      "execution_count": null,
      "outputs": []
    },
    {
      "cell_type": "markdown",
      "source": [
        "## function to plot generated images\n"
      ],
      "metadata": {
        "id": "FtqjmdKaUt91"
      }
    },
    {
      "cell_type": "code",
      "source": [
        "def plot_generated_images(square = 5, epochs = 0):\n",
        "\n",
        "\n",
        "  plt.figure(figsize = (10,10))\n",
        "  for i in range(square * square):\n",
        "    if epochs != 0:\n",
        "        if(i == square //2):\n",
        "            plt.title(\"Generated Image at Epoch:{}\\n\".format(epochs), fontsize = 32, color = 'black')\n",
        "    plt.subplot(square, square, i+1)\n",
        "    noise = np.random.normal(0,1,(1,latent_dim))\n",
        "    img = generator(noise)\n",
        "    plt.imshow(np.clip((img[0,...]+1)/2, 0, 1))\n",
        "\n",
        "    plt.xticks([])\n",
        "    plt.yticks([])\n",
        "    plt.grid()"
      ],
      "metadata": {
        "trusted": true,
        "id": "BJ5leZHDUt92"
      },
      "execution_count": null,
      "outputs": []
    },
    {
      "cell_type": "code",
      "source": [
        "import time\n",
        "\n",
        "def train(epochs, dataset):\n",
        "    for epoch in range(epochs):\n",
        "        print(f'Epoch : {epoch + 1}')\n",
        "        start = time.time()\n",
        "\n",
        "        for images in dataset:\n",
        "            loss = train_steps(images)\n",
        "\n",
        "        print(\" Time:{}\".format(np.round(time.time() - start, 2)))\n",
        "        print(\"Generator Loss: {} Discriminator Loss: {}\".format(loss['gen_loss'], loss['disc_loss']))\n"
      ],
      "metadata": {
        "trusted": true,
        "id": "fNvl0gEWUt92"
      },
      "execution_count": null,
      "outputs": []
    },
    {
      "cell_type": "markdown",
      "source": [
        "## Training"
      ],
      "metadata": {
        "id": "O8nywOVCUt93"
      }
    },
    {
      "cell_type": "code",
      "source": [
        "train(100,dataset)\n",
        "# i had train model previously for more than 10 epochs so generated images are quiet good"
      ],
      "metadata": {
        "trusted": true,
        "id": "T2lk8agGUt93"
      },
      "execution_count": null,
      "outputs": []
    },
    {
      "cell_type": "markdown",
      "source": [
        "# Some Generated Images\n"
      ],
      "metadata": {
        "id": "IhzXh1U5Ut93"
      }
    },
    {
      "cell_type": "code",
      "source": [
        "plot_generated_images(1)"
      ],
      "metadata": {
        "trusted": true,
        "id": "0xET9TthUt93"
      },
      "execution_count": null,
      "outputs": []
    },
    {
      "cell_type": "code",
      "source": [
        "plot_generated_images(2)"
      ],
      "metadata": {
        "trusted": true,
        "id": "BZD-K9KXUt93"
      },
      "execution_count": null,
      "outputs": []
    },
    {
      "cell_type": "code",
      "source": [
        "plot_generated_images(5)"
      ],
      "metadata": {
        "trusted": true,
        "id": "AJUbvGULUt93"
      },
      "execution_count": null,
      "outputs": []
    },
    {
      "cell_type": "code",
      "source": [
        "plot_generated_images(7)"
      ],
      "metadata": {
        "trusted": true,
        "id": "4daE1wtXUt93"
      },
      "execution_count": null,
      "outputs": []
    },
    {
      "cell_type": "code",
      "source": [
        "generator.save('generator.h5')\n",
        "discriminator.save(\"discriminator.h5\")"
      ],
      "metadata": {
        "trusted": true,
        "id": "XC0bCpCVUt93"
      },
      "execution_count": null,
      "outputs": []
    },
    {
      "cell_type": "code",
      "source": [],
      "metadata": {
        "id": "-0T-nFZEU4Vu"
      },
      "execution_count": null,
      "outputs": []
    }
  ]
}